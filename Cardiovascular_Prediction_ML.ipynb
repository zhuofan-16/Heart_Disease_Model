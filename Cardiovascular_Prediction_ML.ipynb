{
 "cells": [
  {
   "cell_type": "markdown",
   "id": "0ad83ebd",
   "metadata": {
    "papermill": {
     "duration": 0.020893,
     "end_time": "2022-06-12T10:21:08.978461",
     "exception": false,
     "start_time": "2022-06-12T10:21:08.957568",
     "status": "completed"
    },
    "pycharm": {
     "name": "#%% md\n"
    },
    "tags": []
   },
   "source": [
    "# Cardiovascular Disease Prediction using Machine Learning Algorithms in Medical Field"
   ]
  },
  {
   "cell_type": "markdown",
   "id": "4cd574ee",
   "metadata": {
    "papermill": {
     "duration": 0.018003,
     "end_time": "2022-06-12T10:21:09.015417",
     "exception": false,
     "start_time": "2022-06-12T10:21:08.997414",
     "status": "completed"
    },
    "tags": []
   },
   "source": [
    "## Install Dependencies"
   ]
  },
  {
   "cell_type": "code",
   "execution_count": 1,
   "id": "d32cd2b4",
   "metadata": {
    "execution": {
     "iopub.execute_input": "2022-06-12T10:21:09.057898Z",
     "iopub.status.busy": "2022-06-12T10:21:09.057152Z",
     "iopub.status.idle": "2022-06-12T10:21:11.243746Z",
     "shell.execute_reply": "2022-06-12T10:21:11.242607Z"
    },
    "papermill": {
     "duration": 2.212576,
     "end_time": "2022-06-12T10:21:11.247178",
     "exception": false,
     "start_time": "2022-06-12T10:21:09.034602",
     "status": "completed"
    },
    "tags": []
   },
   "outputs": [
    {
     "name": "stdout",
     "output_type": "stream",
     "text": [
      "Requirement already satisfied: numpy in /opt/hostedtoolcache/Python/3.8.12/x64/lib/python3.8/site-packages (1.22.4)\r\n",
      "Requirement already satisfied: matplotlib in /opt/hostedtoolcache/Python/3.8.12/x64/lib/python3.8/site-packages (3.5.2)\r\n",
      "Requirement already satisfied: pandas in /opt/hostedtoolcache/Python/3.8.12/x64/lib/python3.8/site-packages (1.4.2)\r\n",
      "Requirement already satisfied: seaborn in /opt/hostedtoolcache/Python/3.8.12/x64/lib/python3.8/site-packages (0.11.2)\r\n",
      "Requirement already satisfied: scikit-learn==1.0.2 in /opt/hostedtoolcache/Python/3.8.12/x64/lib/python3.8/site-packages (1.0.2)\r\n",
      "Requirement already satisfied: yellowbrick in /opt/hostedtoolcache/Python/3.8.12/x64/lib/python3.8/site-packages (1.4)\r\n",
      "Requirement already satisfied: phik in /opt/hostedtoolcache/Python/3.8.12/x64/lib/python3.8/site-packages (0.12.2)\r\n",
      "Requirement already satisfied: statsmodels in /opt/hostedtoolcache/Python/3.8.12/x64/lib/python3.8/site-packages (0.13.2)\r\n",
      "Requirement already satisfied: pyampute in /opt/hostedtoolcache/Python/3.8.12/x64/lib/python3.8/site-packages (0.0.2)\r\n",
      "Requirement already satisfied: xgboost in /opt/hostedtoolcache/Python/3.8.12/x64/lib/python3.8/site-packages (1.6.1)\r\n"
     ]
    },
    {
     "name": "stdout",
     "output_type": "stream",
     "text": [
      "Requirement already satisfied: imblearn in /opt/hostedtoolcache/Python/3.8.12/x64/lib/python3.8/site-packages (0.0)\r\n",
      "Requirement already satisfied: missingno in /opt/hostedtoolcache/Python/3.8.12/x64/lib/python3.8/site-packages (0.5.1)\r\n"
     ]
    },
    {
     "name": "stdout",
     "output_type": "stream",
     "text": [
      "Collecting mlxtend\r\n",
      "  Downloading mlxtend-0.20.0-py2.py3-none-any.whl (1.3 MB)\r\n",
      "\u001b[?25l     \u001b[90m━━━━━━━━━━━━━━━━━━━━━━━━━━━━━━━━━━━━━━━━\u001b[0m \u001b[32m0.0/1.3 MB\u001b[0m \u001b[31m?\u001b[0m eta \u001b[36m-:--:--\u001b[0m"
     ]
    },
    {
     "name": "stdout",
     "output_type": "stream",
     "text": [
      "\r",
      "\u001b[2K     \u001b[90m━━━━━━━━━━━━━━━━━━━━━━━━━━━━━━━━━━━━━━━━\u001b[0m \u001b[32m1.3/1.3 MB\u001b[0m \u001b[31m55.4 MB/s\u001b[0m eta \u001b[36m0:00:00\u001b[0m\r\n",
      "\u001b[?25h"
     ]
    },
    {
     "name": "stdout",
     "output_type": "stream",
     "text": [
      "Requirement already satisfied: joblib>=0.11 in /opt/hostedtoolcache/Python/3.8.12/x64/lib/python3.8/site-packages (from scikit-learn==1.0.2) (1.1.0)\r\n",
      "Requirement already satisfied: threadpoolctl>=2.0.0 in /opt/hostedtoolcache/Python/3.8.12/x64/lib/python3.8/site-packages (from scikit-learn==1.0.2) (3.1.0)\r\n",
      "Requirement already satisfied: scipy>=1.1.0 in /opt/hostedtoolcache/Python/3.8.12/x64/lib/python3.8/site-packages (from scikit-learn==1.0.2) (1.8.1)\r\n",
      "Requirement already satisfied: pillow>=6.2.0 in /opt/hostedtoolcache/Python/3.8.12/x64/lib/python3.8/site-packages (from matplotlib) (9.1.1)\r\n",
      "Requirement already satisfied: kiwisolver>=1.0.1 in /opt/hostedtoolcache/Python/3.8.12/x64/lib/python3.8/site-packages (from matplotlib) (1.4.2)\r\n",
      "Requirement already satisfied: python-dateutil>=2.7 in /opt/hostedtoolcache/Python/3.8.12/x64/lib/python3.8/site-packages (from matplotlib) (2.8.2)\r\n",
      "Requirement already satisfied: fonttools>=4.22.0 in /opt/hostedtoolcache/Python/3.8.12/x64/lib/python3.8/site-packages (from matplotlib) (4.33.3)\r\n",
      "Requirement already satisfied: packaging>=20.0 in /opt/hostedtoolcache/Python/3.8.12/x64/lib/python3.8/site-packages (from matplotlib) (21.3)\r\n",
      "Requirement already satisfied: cycler>=0.10 in /opt/hostedtoolcache/Python/3.8.12/x64/lib/python3.8/site-packages (from matplotlib) (0.11.0)\r\n",
      "Requirement already satisfied: pyparsing>=2.2.1 in /opt/hostedtoolcache/Python/3.8.12/x64/lib/python3.8/site-packages (from matplotlib) (3.0.9)\r\n",
      "Requirement already satisfied: pytz>=2020.1 in /opt/hostedtoolcache/Python/3.8.12/x64/lib/python3.8/site-packages (from pandas) (2022.1)\r\n"
     ]
    },
    {
     "name": "stdout",
     "output_type": "stream",
     "text": [
      "Requirement already satisfied: patsy>=0.5.2 in /opt/hostedtoolcache/Python/3.8.12/x64/lib/python3.8/site-packages (from statsmodels) (0.5.2)\r\n"
     ]
    },
    {
     "name": "stdout",
     "output_type": "stream",
     "text": [
      "Requirement already satisfied: imbalanced-learn in /opt/hostedtoolcache/Python/3.8.12/x64/lib/python3.8/site-packages (from imblearn) (0.9.0)\r\n",
      "Requirement already satisfied: setuptools in /opt/hostedtoolcache/Python/3.8.12/x64/lib/python3.8/site-packages (from mlxtend) (56.0.0)\r\n"
     ]
    },
    {
     "name": "stdout",
     "output_type": "stream",
     "text": [
      "Requirement already satisfied: six in /opt/hostedtoolcache/Python/3.8.12/x64/lib/python3.8/site-packages (from patsy>=0.5.2->statsmodels) (1.16.0)\r\n"
     ]
    },
    {
     "name": "stdout",
     "output_type": "stream",
     "text": [
      "Installing collected packages: mlxtend\r\n"
     ]
    },
    {
     "name": "stdout",
     "output_type": "stream",
     "text": [
      "Successfully installed mlxtend-0.20.0\r\n"
     ]
    }
   ],
   "source": [
    "!pip install numpy matplotlib pandas seaborn scikit-learn==1.0.2 yellowbrick phik statsmodels pyampute xgboost imblearn missingno mlxtend --user "
   ]
  },
  {
   "cell_type": "markdown",
   "id": "17c894e1",
   "metadata": {
    "papermill": {
     "duration": 0.019344,
     "end_time": "2022-06-12T10:21:11.288430",
     "exception": false,
     "start_time": "2022-06-12T10:21:11.269086",
     "status": "completed"
    },
    "pycharm": {
     "name": "#%% md\n"
    },
    "tags": []
   },
   "source": [
    "## Importing Libraries"
   ]
  },
  {
   "cell_type": "code",
   "execution_count": 2,
   "id": "a08fc0fc",
   "metadata": {
    "execution": {
     "iopub.execute_input": "2022-06-12T10:21:11.328856Z",
     "iopub.status.busy": "2022-06-12T10:21:11.328346Z",
     "iopub.status.idle": "2022-06-12T10:21:16.204412Z",
     "shell.execute_reply": "2022-06-12T10:21:16.203163Z"
    },
    "papermill": {
     "duration": 4.900322,
     "end_time": "2022-06-12T10:21:16.207639",
     "exception": false,
     "start_time": "2022-06-12T10:21:11.307317",
     "status": "completed"
    },
    "pycharm": {
     "name": "#%%\n"
    },
    "tags": []
   },
   "outputs": [],
   "source": [
    "import numpy as np\n",
    "import matplotlib.pyplot as plt\n",
    "import pandas as pd\n",
    "import seaborn as sns\n",
    "\n",
    "sns.set_style(\"whitegrid\")\n",
    "\n",
    "\n",
    "\n",
    "# Model Evaluation\n",
    "from sklearn.model_selection import train_test_split, cross_validate, StratifiedKFold\n",
    "from sklearn.metrics import classification_report, plot_precision_recall_curve, plot_roc_curve, confusion_matrix\n",
    "from yellowbrick.model_selection import learning_curve\n",
    "\n",
    "# Missing Value\n",
    "from pyampute.exploration.mcar_statistical_tests import MCARTest\n",
    "from sklearn.impute import KNNImputer\n",
    "\n",
    "\n",
    "\n",
    "# Data Preprocessing\n",
    "import phik\n",
    "from imblearn.pipeline import Pipeline\n",
    "from sklearn.compose import ColumnTransformer\n",
    "from sklearn.preprocessing import  OneHotEncoder\n",
    "from sklearn.preprocessing import  MinMaxScaler\n",
    "\n",
    "\n",
    "# Models\n",
    "from sklearn.dummy import DummyClassifier\n",
    "from sklearn.neighbors import KNeighborsClassifier\n",
    "from sklearn.linear_model import LogisticRegression\n",
    "from sklearn.svm import SVC\n",
    "from sklearn.tree import DecisionTreeClassifier\n",
    "from sklearn.ensemble import RandomForestClassifier, GradientBoostingClassifier, AdaBoostClassifier\n",
    "from sklearn.naive_bayes import GaussianNB\n",
    "import xgboost as xgb\n",
    "\n",
    "\n",
    "# Feature Importance\n",
    "from sklearn.inspection import permutation_importance\n",
    "\n",
    "# Hyperparameter Tuning\n",
    "from sklearn.model_selection import  GridSearchCV\n",
    "from sklearn.metrics import recall_score\n",
    "\n",
    "# Feature Selection\n",
    "from sklearn.feature_selection import SequentialFeatureSelector\n",
    "from sklearn.feature_selection import SelectFromModel, RFE, SelectKBest,chi2\n",
    "\n",
    "\n",
    "# Random State\n",
    "random_state = 0"
   ]
  },
  {
   "cell_type": "markdown",
   "id": "61ff9f9d",
   "metadata": {
    "papermill": {
     "duration": 0.021076,
     "end_time": "2022-06-12T10:21:16.300274",
     "exception": false,
     "start_time": "2022-06-12T10:21:16.279198",
     "status": "completed"
    },
    "pycharm": {
     "name": "#%% md\n"
    },
    "tags": []
   },
   "source": [
    "# Data Ingestion"
   ]
  },
  {
   "cell_type": "code",
   "execution_count": 3,
   "id": "71c27038",
   "metadata": {
    "execution": {
     "iopub.execute_input": "2022-06-12T10:21:16.340865Z",
     "iopub.status.busy": "2022-06-12T10:21:16.340129Z",
     "iopub.status.idle": "2022-06-12T10:21:16.450905Z",
     "shell.execute_reply": "2022-06-12T10:21:16.449943Z"
    },
    "papermill": {
     "duration": 0.13437,
     "end_time": "2022-06-12T10:21:16.453763",
     "exception": false,
     "start_time": "2022-06-12T10:21:16.319393",
     "status": "completed"
    },
    "pycharm": {
     "name": "#%%\n"
    },
    "tags": []
   },
   "outputs": [
    {
     "data": {
      "text/html": [
       "<div>\n",
       "<style scoped>\n",
       "    .dataframe tbody tr th:only-of-type {\n",
       "        vertical-align: middle;\n",
       "    }\n",
       "\n",
       "    .dataframe tbody tr th {\n",
       "        vertical-align: top;\n",
       "    }\n",
       "\n",
       "    .dataframe thead th {\n",
       "        text-align: right;\n",
       "    }\n",
       "</style>\n",
       "<table border=\"1\" class=\"dataframe\">\n",
       "  <thead>\n",
       "    <tr style=\"text-align: right;\">\n",
       "      <th></th>\n",
       "      <th>age</th>\n",
       "      <th>sex</th>\n",
       "      <th>cp</th>\n",
       "      <th>trestbps</th>\n",
       "      <th>chol</th>\n",
       "      <th>fbs</th>\n",
       "      <th>restecg</th>\n",
       "      <th>thalach</th>\n",
       "      <th>exang</th>\n",
       "      <th>oldpeak</th>\n",
       "      <th>slope</th>\n",
       "      <th>ca</th>\n",
       "      <th>thal</th>\n",
       "      <th>num</th>\n",
       "    </tr>\n",
       "  </thead>\n",
       "  <tbody>\n",
       "    <tr>\n",
       "      <th>0</th>\n",
       "      <td>63.0</td>\n",
       "      <td>1.0</td>\n",
       "      <td>1.0</td>\n",
       "      <td>145.0</td>\n",
       "      <td>233.0</td>\n",
       "      <td>1.0</td>\n",
       "      <td>2.0</td>\n",
       "      <td>150.0</td>\n",
       "      <td>0.0</td>\n",
       "      <td>2.3</td>\n",
       "      <td>3.0</td>\n",
       "      <td>0.0</td>\n",
       "      <td>6.0</td>\n",
       "      <td>0</td>\n",
       "    </tr>\n",
       "    <tr>\n",
       "      <th>1</th>\n",
       "      <td>67.0</td>\n",
       "      <td>1.0</td>\n",
       "      <td>4.0</td>\n",
       "      <td>160.0</td>\n",
       "      <td>286.0</td>\n",
       "      <td>0.0</td>\n",
       "      <td>2.0</td>\n",
       "      <td>108.0</td>\n",
       "      <td>1.0</td>\n",
       "      <td>1.5</td>\n",
       "      <td>2.0</td>\n",
       "      <td>3.0</td>\n",
       "      <td>3.0</td>\n",
       "      <td>2</td>\n",
       "    </tr>\n",
       "    <tr>\n",
       "      <th>2</th>\n",
       "      <td>67.0</td>\n",
       "      <td>1.0</td>\n",
       "      <td>4.0</td>\n",
       "      <td>120.0</td>\n",
       "      <td>229.0</td>\n",
       "      <td>0.0</td>\n",
       "      <td>2.0</td>\n",
       "      <td>129.0</td>\n",
       "      <td>1.0</td>\n",
       "      <td>2.6</td>\n",
       "      <td>2.0</td>\n",
       "      <td>2.0</td>\n",
       "      <td>7.0</td>\n",
       "      <td>1</td>\n",
       "    </tr>\n",
       "    <tr>\n",
       "      <th>3</th>\n",
       "      <td>37.0</td>\n",
       "      <td>1.0</td>\n",
       "      <td>3.0</td>\n",
       "      <td>130.0</td>\n",
       "      <td>250.0</td>\n",
       "      <td>0.0</td>\n",
       "      <td>0.0</td>\n",
       "      <td>187.0</td>\n",
       "      <td>0.0</td>\n",
       "      <td>3.5</td>\n",
       "      <td>3.0</td>\n",
       "      <td>0.0</td>\n",
       "      <td>3.0</td>\n",
       "      <td>0</td>\n",
       "    </tr>\n",
       "    <tr>\n",
       "      <th>4</th>\n",
       "      <td>41.0</td>\n",
       "      <td>0.0</td>\n",
       "      <td>2.0</td>\n",
       "      <td>130.0</td>\n",
       "      <td>204.0</td>\n",
       "      <td>0.0</td>\n",
       "      <td>2.0</td>\n",
       "      <td>172.0</td>\n",
       "      <td>0.0</td>\n",
       "      <td>1.4</td>\n",
       "      <td>1.0</td>\n",
       "      <td>0.0</td>\n",
       "      <td>3.0</td>\n",
       "      <td>0</td>\n",
       "    </tr>\n",
       "    <tr>\n",
       "      <th>...</th>\n",
       "      <td>...</td>\n",
       "      <td>...</td>\n",
       "      <td>...</td>\n",
       "      <td>...</td>\n",
       "      <td>...</td>\n",
       "      <td>...</td>\n",
       "      <td>...</td>\n",
       "      <td>...</td>\n",
       "      <td>...</td>\n",
       "      <td>...</td>\n",
       "      <td>...</td>\n",
       "      <td>...</td>\n",
       "      <td>...</td>\n",
       "      <td>...</td>\n",
       "    </tr>\n",
       "    <tr>\n",
       "      <th>298</th>\n",
       "      <td>45.0</td>\n",
       "      <td>1.0</td>\n",
       "      <td>1.0</td>\n",
       "      <td>110.0</td>\n",
       "      <td>264.0</td>\n",
       "      <td>0.0</td>\n",
       "      <td>0.0</td>\n",
       "      <td>132.0</td>\n",
       "      <td>0.0</td>\n",
       "      <td>1.2</td>\n",
       "      <td>2.0</td>\n",
       "      <td>0.0</td>\n",
       "      <td>7.0</td>\n",
       "      <td>1</td>\n",
       "    </tr>\n",
       "    <tr>\n",
       "      <th>299</th>\n",
       "      <td>68.0</td>\n",
       "      <td>1.0</td>\n",
       "      <td>4.0</td>\n",
       "      <td>144.0</td>\n",
       "      <td>193.0</td>\n",
       "      <td>1.0</td>\n",
       "      <td>0.0</td>\n",
       "      <td>141.0</td>\n",
       "      <td>0.0</td>\n",
       "      <td>3.4</td>\n",
       "      <td>2.0</td>\n",
       "      <td>2.0</td>\n",
       "      <td>7.0</td>\n",
       "      <td>2</td>\n",
       "    </tr>\n",
       "    <tr>\n",
       "      <th>300</th>\n",
       "      <td>57.0</td>\n",
       "      <td>1.0</td>\n",
       "      <td>4.0</td>\n",
       "      <td>130.0</td>\n",
       "      <td>131.0</td>\n",
       "      <td>0.0</td>\n",
       "      <td>0.0</td>\n",
       "      <td>115.0</td>\n",
       "      <td>1.0</td>\n",
       "      <td>1.2</td>\n",
       "      <td>2.0</td>\n",
       "      <td>1.0</td>\n",
       "      <td>7.0</td>\n",
       "      <td>3</td>\n",
       "    </tr>\n",
       "    <tr>\n",
       "      <th>301</th>\n",
       "      <td>57.0</td>\n",
       "      <td>0.0</td>\n",
       "      <td>2.0</td>\n",
       "      <td>130.0</td>\n",
       "      <td>236.0</td>\n",
       "      <td>0.0</td>\n",
       "      <td>2.0</td>\n",
       "      <td>174.0</td>\n",
       "      <td>0.0</td>\n",
       "      <td>0.0</td>\n",
       "      <td>2.0</td>\n",
       "      <td>1.0</td>\n",
       "      <td>3.0</td>\n",
       "      <td>1</td>\n",
       "    </tr>\n",
       "    <tr>\n",
       "      <th>302</th>\n",
       "      <td>38.0</td>\n",
       "      <td>1.0</td>\n",
       "      <td>3.0</td>\n",
       "      <td>138.0</td>\n",
       "      <td>175.0</td>\n",
       "      <td>0.0</td>\n",
       "      <td>0.0</td>\n",
       "      <td>173.0</td>\n",
       "      <td>0.0</td>\n",
       "      <td>0.0</td>\n",
       "      <td>1.0</td>\n",
       "      <td>?</td>\n",
       "      <td>3.0</td>\n",
       "      <td>0</td>\n",
       "    </tr>\n",
       "  </tbody>\n",
       "</table>\n",
       "<p>303 rows × 14 columns</p>\n",
       "</div>"
      ],
      "text/plain": [
       "      age  sex   cp  trestbps   chol  fbs  restecg  thalach  exang  oldpeak  \\\n",
       "0    63.0  1.0  1.0     145.0  233.0  1.0      2.0    150.0    0.0      2.3   \n",
       "1    67.0  1.0  4.0     160.0  286.0  0.0      2.0    108.0    1.0      1.5   \n",
       "2    67.0  1.0  4.0     120.0  229.0  0.0      2.0    129.0    1.0      2.6   \n",
       "3    37.0  1.0  3.0     130.0  250.0  0.0      0.0    187.0    0.0      3.5   \n",
       "4    41.0  0.0  2.0     130.0  204.0  0.0      2.0    172.0    0.0      1.4   \n",
       "..    ...  ...  ...       ...    ...  ...      ...      ...    ...      ...   \n",
       "298  45.0  1.0  1.0     110.0  264.0  0.0      0.0    132.0    0.0      1.2   \n",
       "299  68.0  1.0  4.0     144.0  193.0  1.0      0.0    141.0    0.0      3.4   \n",
       "300  57.0  1.0  4.0     130.0  131.0  0.0      0.0    115.0    1.0      1.2   \n",
       "301  57.0  0.0  2.0     130.0  236.0  0.0      2.0    174.0    0.0      0.0   \n",
       "302  38.0  1.0  3.0     138.0  175.0  0.0      0.0    173.0    0.0      0.0   \n",
       "\n",
       "     slope   ca thal  num  \n",
       "0      3.0  0.0  6.0    0  \n",
       "1      2.0  3.0  3.0    2  \n",
       "2      2.0  2.0  7.0    1  \n",
       "3      3.0  0.0  3.0    0  \n",
       "4      1.0  0.0  3.0    0  \n",
       "..     ...  ...  ...  ...  \n",
       "298    2.0  0.0  7.0    1  \n",
       "299    2.0  2.0  7.0    2  \n",
       "300    2.0  1.0  7.0    3  \n",
       "301    2.0  1.0  3.0    1  \n",
       "302    1.0    ?  3.0    0  \n",
       "\n",
       "[303 rows x 14 columns]"
      ]
     },
     "execution_count": 3,
     "metadata": {},
     "output_type": "execute_result"
    }
   ],
   "source": [
    "patientDf=pd.read_csv(\"processed.cleveland.data\",sep=',')\n",
    "\n",
    "patientDf"
   ]
  },
  {
   "cell_type": "markdown",
   "id": "0e5df918",
   "metadata": {
    "papermill": {
     "duration": 0.020514,
     "end_time": "2022-06-12T10:21:16.495205",
     "exception": false,
     "start_time": "2022-06-12T10:21:16.474691",
     "status": "completed"
    },
    "pycharm": {
     "name": "#%% md\n"
    },
    "tags": []
   },
   "source": [
    "# Data Exploration"
   ]
  },
  {
   "cell_type": "markdown",
   "id": "44ac48fd",
   "metadata": {
    "papermill": {
     "duration": 0.020389,
     "end_time": "2022-06-12T10:21:16.535613",
     "exception": false,
     "start_time": "2022-06-12T10:21:16.515224",
     "status": "completed"
    },
    "pycharm": {
     "name": "#%% md\n"
    },
    "tags": []
   },
   "source": [
    "### Data Structure"
   ]
  },
  {
   "cell_type": "code",
   "execution_count": 4,
   "id": "0984b0c8",
   "metadata": {
    "execution": {
     "iopub.execute_input": "2022-06-12T10:21:16.581746Z",
     "iopub.status.busy": "2022-06-12T10:21:16.581049Z",
     "iopub.status.idle": "2022-06-12T10:21:16.595261Z",
     "shell.execute_reply": "2022-06-12T10:21:16.594286Z"
    },
    "papermill": {
     "duration": 0.041919,
     "end_time": "2022-06-12T10:21:16.597338",
     "exception": false,
     "start_time": "2022-06-12T10:21:16.555419",
     "status": "completed"
    },
    "pycharm": {
     "name": "#%%\n"
    },
    "tags": []
   },
   "outputs": [
    {
     "name": "stdout",
     "output_type": "stream",
     "text": [
      "<class 'pandas.core.frame.DataFrame'>\n",
      "RangeIndex: 303 entries, 0 to 302\n",
      "Data columns (total 14 columns):\n",
      " #   Column    Non-Null Count  Dtype  \n",
      "---  ------    --------------  -----  \n",
      " 0   age       303 non-null    float64\n",
      " 1   sex       303 non-null    float64\n",
      " 2   cp        303 non-null    float64\n",
      " 3   trestbps  303 non-null    float64\n",
      " 4   chol      303 non-null    float64\n",
      " 5   fbs       303 non-null    float64\n",
      " 6   restecg   303 non-null    float64\n",
      " 7   thalach   303 non-null    float64\n",
      " 8   exang     303 non-null    float64\n",
      " 9   oldpeak   303 non-null    float64\n",
      " 10  slope     303 non-null    float64\n",
      " 11  ca        303 non-null    object \n",
      " 12  thal      303 non-null    object \n",
      " 13  num       303 non-null    int64  \n",
      "dtypes: float64(11), int64(1), object(2)\n",
      "memory usage: 33.3+ KB\n"
     ]
    }
   ],
   "source": [
    "patientDf.info()"
   ]
  },
  {
   "cell_type": "markdown",
   "id": "6ecdb595",
   "metadata": {
    "papermill": {
     "duration": 0.019978,
     "end_time": "2022-06-12T10:21:16.637667",
     "exception": false,
     "start_time": "2022-06-12T10:21:16.617689",
     "status": "completed"
    },
    "pycharm": {
     "name": "#%% md\n"
    },
    "tags": []
   },
   "source": [
    "The dataset contains 1 label and 13 features.There is a total of 303 rows of data in this dataset.\n",
    "By viewing the basic information of the dataset,we realised 2 problem\n",
    " - Some feature's data type is incorrect. (E.g. Things like age and sex cannot be float numbers)\n",
    " - There is missing data but not identified by default Pandas.  (E.g. The data type of ca and thal is object which is abnormal but total non-null count is still 303.)"
   ]
  },
  {
   "cell_type": "markdown",
   "id": "de0b98ee",
   "metadata": {
    "papermill": {
     "duration": 0.020619,
     "end_time": "2022-06-12T10:21:16.678830",
     "exception": false,
     "start_time": "2022-06-12T10:21:16.658211",
     "status": "completed"
    },
    "pycharm": {
     "name": "#%% md\n"
    },
    "tags": []
   },
   "source": [
    "### Managing Missing Data\n"
   ]
  },
  {
   "cell_type": "code",
   "execution_count": 5,
   "id": "82bbef52",
   "metadata": {
    "execution": {
     "iopub.execute_input": "2022-06-12T10:21:16.720715Z",
     "iopub.status.busy": "2022-06-12T10:21:16.720039Z",
     "iopub.status.idle": "2022-06-12T10:21:16.744615Z",
     "shell.execute_reply": "2022-06-12T10:21:16.743642Z"
    },
    "papermill": {
     "duration": 0.047663,
     "end_time": "2022-06-12T10:21:16.746612",
     "exception": false,
     "start_time": "2022-06-12T10:21:16.698949",
     "status": "completed"
    },
    "pycharm": {
     "name": "#%%\n"
    },
    "tags": []
   },
   "outputs": [
    {
     "data": {
      "text/html": [
       "<div>\n",
       "<style scoped>\n",
       "    .dataframe tbody tr th:only-of-type {\n",
       "        vertical-align: middle;\n",
       "    }\n",
       "\n",
       "    .dataframe tbody tr th {\n",
       "        vertical-align: top;\n",
       "    }\n",
       "\n",
       "    .dataframe thead th {\n",
       "        text-align: right;\n",
       "    }\n",
       "</style>\n",
       "<table border=\"1\" class=\"dataframe\">\n",
       "  <thead>\n",
       "    <tr style=\"text-align: right;\">\n",
       "      <th></th>\n",
       "      <th>age</th>\n",
       "      <th>sex</th>\n",
       "      <th>cp</th>\n",
       "      <th>trestbps</th>\n",
       "      <th>chol</th>\n",
       "      <th>fbs</th>\n",
       "      <th>restecg</th>\n",
       "      <th>thalach</th>\n",
       "      <th>exang</th>\n",
       "      <th>oldpeak</th>\n",
       "      <th>slope</th>\n",
       "      <th>ca</th>\n",
       "      <th>thal</th>\n",
       "      <th>num</th>\n",
       "    </tr>\n",
       "  </thead>\n",
       "  <tbody>\n",
       "    <tr>\n",
       "      <th>87</th>\n",
       "      <td>53.0</td>\n",
       "      <td>0.0</td>\n",
       "      <td>3.0</td>\n",
       "      <td>128.0</td>\n",
       "      <td>216.0</td>\n",
       "      <td>0.0</td>\n",
       "      <td>2.0</td>\n",
       "      <td>115.0</td>\n",
       "      <td>0.0</td>\n",
       "      <td>0.0</td>\n",
       "      <td>1.0</td>\n",
       "      <td>0.0</td>\n",
       "      <td>?</td>\n",
       "      <td>0</td>\n",
       "    </tr>\n",
       "    <tr>\n",
       "      <th>166</th>\n",
       "      <td>52.0</td>\n",
       "      <td>1.0</td>\n",
       "      <td>3.0</td>\n",
       "      <td>138.0</td>\n",
       "      <td>223.0</td>\n",
       "      <td>0.0</td>\n",
       "      <td>0.0</td>\n",
       "      <td>169.0</td>\n",
       "      <td>0.0</td>\n",
       "      <td>0.0</td>\n",
       "      <td>1.0</td>\n",
       "      <td>?</td>\n",
       "      <td>3.0</td>\n",
       "      <td>0</td>\n",
       "    </tr>\n",
       "    <tr>\n",
       "      <th>192</th>\n",
       "      <td>43.0</td>\n",
       "      <td>1.0</td>\n",
       "      <td>4.0</td>\n",
       "      <td>132.0</td>\n",
       "      <td>247.0</td>\n",
       "      <td>1.0</td>\n",
       "      <td>2.0</td>\n",
       "      <td>143.0</td>\n",
       "      <td>1.0</td>\n",
       "      <td>0.1</td>\n",
       "      <td>2.0</td>\n",
       "      <td>?</td>\n",
       "      <td>7.0</td>\n",
       "      <td>1</td>\n",
       "    </tr>\n",
       "    <tr>\n",
       "      <th>266</th>\n",
       "      <td>52.0</td>\n",
       "      <td>1.0</td>\n",
       "      <td>4.0</td>\n",
       "      <td>128.0</td>\n",
       "      <td>204.0</td>\n",
       "      <td>1.0</td>\n",
       "      <td>0.0</td>\n",
       "      <td>156.0</td>\n",
       "      <td>1.0</td>\n",
       "      <td>1.0</td>\n",
       "      <td>2.0</td>\n",
       "      <td>0.0</td>\n",
       "      <td>?</td>\n",
       "      <td>2</td>\n",
       "    </tr>\n",
       "    <tr>\n",
       "      <th>287</th>\n",
       "      <td>58.0</td>\n",
       "      <td>1.0</td>\n",
       "      <td>2.0</td>\n",
       "      <td>125.0</td>\n",
       "      <td>220.0</td>\n",
       "      <td>0.0</td>\n",
       "      <td>0.0</td>\n",
       "      <td>144.0</td>\n",
       "      <td>0.0</td>\n",
       "      <td>0.4</td>\n",
       "      <td>2.0</td>\n",
       "      <td>?</td>\n",
       "      <td>7.0</td>\n",
       "      <td>0</td>\n",
       "    </tr>\n",
       "    <tr>\n",
       "      <th>302</th>\n",
       "      <td>38.0</td>\n",
       "      <td>1.0</td>\n",
       "      <td>3.0</td>\n",
       "      <td>138.0</td>\n",
       "      <td>175.0</td>\n",
       "      <td>0.0</td>\n",
       "      <td>0.0</td>\n",
       "      <td>173.0</td>\n",
       "      <td>0.0</td>\n",
       "      <td>0.0</td>\n",
       "      <td>1.0</td>\n",
       "      <td>?</td>\n",
       "      <td>3.0</td>\n",
       "      <td>0</td>\n",
       "    </tr>\n",
       "  </tbody>\n",
       "</table>\n",
       "</div>"
      ],
      "text/plain": [
       "      age  sex   cp  trestbps   chol  fbs  restecg  thalach  exang  oldpeak  \\\n",
       "87   53.0  0.0  3.0     128.0  216.0  0.0      2.0    115.0    0.0      0.0   \n",
       "166  52.0  1.0  3.0     138.0  223.0  0.0      0.0    169.0    0.0      0.0   \n",
       "192  43.0  1.0  4.0     132.0  247.0  1.0      2.0    143.0    1.0      0.1   \n",
       "266  52.0  1.0  4.0     128.0  204.0  1.0      0.0    156.0    1.0      1.0   \n",
       "287  58.0  1.0  2.0     125.0  220.0  0.0      0.0    144.0    0.0      0.4   \n",
       "302  38.0  1.0  3.0     138.0  175.0  0.0      0.0    173.0    0.0      0.0   \n",
       "\n",
       "     slope   ca thal  num  \n",
       "87     1.0  0.0    ?    0  \n",
       "166    1.0    ?  3.0    0  \n",
       "192    2.0    ?  7.0    1  \n",
       "266    2.0  0.0    ?    2  \n",
       "287    2.0    ?  7.0    0  \n",
       "302    1.0    ?  3.0    0  "
      ]
     },
     "execution_count": 5,
     "metadata": {},
     "output_type": "execute_result"
    }
   ],
   "source": [
    "patientDf[np.isin(patientDf, ['?'])]"
   ]
  },
  {
   "cell_type": "markdown",
   "id": "e86d81a2",
   "metadata": {
    "papermill": {
     "duration": 0.019952,
     "end_time": "2022-06-12T10:21:16.787269",
     "exception": false,
     "start_time": "2022-06-12T10:21:16.767317",
     "status": "completed"
    },
    "pycharm": {
     "name": "#%% md\n"
    },
    "tags": []
   },
   "source": [
    "Previously,we found out that there is missing value in data.We realise that the missing value in this dataset is denoted as '?' which is not part of Panda's default NA values."
   ]
  },
  {
   "cell_type": "code",
   "execution_count": 6,
   "id": "bf4b2230",
   "metadata": {
    "execution": {
     "iopub.execute_input": "2022-06-12T10:21:16.829777Z",
     "iopub.status.busy": "2022-06-12T10:21:16.829224Z",
     "iopub.status.idle": "2022-06-12T10:21:16.842345Z",
     "shell.execute_reply": "2022-06-12T10:21:16.841456Z"
    },
    "papermill": {
     "duration": 0.037243,
     "end_time": "2022-06-12T10:21:16.844343",
     "exception": false,
     "start_time": "2022-06-12T10:21:16.807100",
     "status": "completed"
    },
    "pycharm": {
     "name": "#%%\n"
    },
    "tags": []
   },
   "outputs": [
    {
     "data": {
      "text/html": [
       "<div>\n",
       "<style scoped>\n",
       "    .dataframe tbody tr th:only-of-type {\n",
       "        vertical-align: middle;\n",
       "    }\n",
       "\n",
       "    .dataframe tbody tr th {\n",
       "        vertical-align: top;\n",
       "    }\n",
       "\n",
       "    .dataframe thead th {\n",
       "        text-align: right;\n",
       "    }\n",
       "</style>\n",
       "<table border=\"1\" class=\"dataframe\">\n",
       "  <thead>\n",
       "    <tr style=\"text-align: right;\">\n",
       "      <th></th>\n",
       "      <th>0</th>\n",
       "    </tr>\n",
       "  </thead>\n",
       "  <tbody>\n",
       "    <tr>\n",
       "      <th>ca</th>\n",
       "      <td>4</td>\n",
       "    </tr>\n",
       "    <tr>\n",
       "      <th>thal</th>\n",
       "      <td>2</td>\n",
       "    </tr>\n",
       "    <tr>\n",
       "      <th>age</th>\n",
       "      <td>0</td>\n",
       "    </tr>\n",
       "    <tr>\n",
       "      <th>sex</th>\n",
       "      <td>0</td>\n",
       "    </tr>\n",
       "    <tr>\n",
       "      <th>cp</th>\n",
       "      <td>0</td>\n",
       "    </tr>\n",
       "    <tr>\n",
       "      <th>trestbps</th>\n",
       "      <td>0</td>\n",
       "    </tr>\n",
       "    <tr>\n",
       "      <th>chol</th>\n",
       "      <td>0</td>\n",
       "    </tr>\n",
       "    <tr>\n",
       "      <th>fbs</th>\n",
       "      <td>0</td>\n",
       "    </tr>\n",
       "    <tr>\n",
       "      <th>restecg</th>\n",
       "      <td>0</td>\n",
       "    </tr>\n",
       "    <tr>\n",
       "      <th>thalach</th>\n",
       "      <td>0</td>\n",
       "    </tr>\n",
       "    <tr>\n",
       "      <th>exang</th>\n",
       "      <td>0</td>\n",
       "    </tr>\n",
       "    <tr>\n",
       "      <th>oldpeak</th>\n",
       "      <td>0</td>\n",
       "    </tr>\n",
       "    <tr>\n",
       "      <th>slope</th>\n",
       "      <td>0</td>\n",
       "    </tr>\n",
       "    <tr>\n",
       "      <th>num</th>\n",
       "      <td>0</td>\n",
       "    </tr>\n",
       "  </tbody>\n",
       "</table>\n",
       "</div>"
      ],
      "text/plain": [
       "          0\n",
       "ca        4\n",
       "thal      2\n",
       "age       0\n",
       "sex       0\n",
       "cp        0\n",
       "trestbps  0\n",
       "chol      0\n",
       "fbs       0\n",
       "restecg   0\n",
       "thalach   0\n",
       "exang     0\n",
       "oldpeak   0\n",
       "slope     0\n",
       "num       0"
      ]
     },
     "execution_count": 6,
     "metadata": {},
     "output_type": "execute_result"
    }
   ],
   "source": [
    "patientDf=pd.read_csv(\"processed.cleveland.data\",sep=',',na_values='?')\n",
    "pd.DataFrame(patientDf.isna().sum().sort_values(ascending=False))"
   ]
  },
  {
   "cell_type": "code",
   "execution_count": 7,
   "id": "109f0cb4",
   "metadata": {
    "execution": {
     "iopub.execute_input": "2022-06-12T10:21:16.887783Z",
     "iopub.status.busy": "2022-06-12T10:21:16.887225Z",
     "iopub.status.idle": "2022-06-12T10:21:16.911404Z",
     "shell.execute_reply": "2022-06-12T10:21:16.910494Z"
    },
    "papermill": {
     "duration": 0.048547,
     "end_time": "2022-06-12T10:21:16.913472",
     "exception": false,
     "start_time": "2022-06-12T10:21:16.864925",
     "status": "completed"
    },
    "pycharm": {
     "name": "#%%\n"
    },
    "tags": []
   },
   "outputs": [
    {
     "data": {
      "text/html": [
       "<div>\n",
       "<style scoped>\n",
       "    .dataframe tbody tr th:only-of-type {\n",
       "        vertical-align: middle;\n",
       "    }\n",
       "\n",
       "    .dataframe tbody tr th {\n",
       "        vertical-align: top;\n",
       "    }\n",
       "\n",
       "    .dataframe thead th {\n",
       "        text-align: right;\n",
       "    }\n",
       "</style>\n",
       "<table border=\"1\" class=\"dataframe\">\n",
       "  <thead>\n",
       "    <tr style=\"text-align: right;\">\n",
       "      <th></th>\n",
       "      <th>age</th>\n",
       "      <th>sex</th>\n",
       "      <th>cp</th>\n",
       "      <th>trestbps</th>\n",
       "      <th>chol</th>\n",
       "      <th>fbs</th>\n",
       "      <th>restecg</th>\n",
       "      <th>thalach</th>\n",
       "      <th>exang</th>\n",
       "      <th>oldpeak</th>\n",
       "      <th>slope</th>\n",
       "      <th>ca</th>\n",
       "      <th>thal</th>\n",
       "      <th>num</th>\n",
       "    </tr>\n",
       "  </thead>\n",
       "  <tbody>\n",
       "    <tr>\n",
       "      <th>87</th>\n",
       "      <td>53.0</td>\n",
       "      <td>0.0</td>\n",
       "      <td>3.0</td>\n",
       "      <td>128.0</td>\n",
       "      <td>216.0</td>\n",
       "      <td>0.0</td>\n",
       "      <td>2.0</td>\n",
       "      <td>115.0</td>\n",
       "      <td>0.0</td>\n",
       "      <td>0.0</td>\n",
       "      <td>1.0</td>\n",
       "      <td>0.0</td>\n",
       "      <td>NaN</td>\n",
       "      <td>0</td>\n",
       "    </tr>\n",
       "    <tr>\n",
       "      <th>166</th>\n",
       "      <td>52.0</td>\n",
       "      <td>1.0</td>\n",
       "      <td>3.0</td>\n",
       "      <td>138.0</td>\n",
       "      <td>223.0</td>\n",
       "      <td>0.0</td>\n",
       "      <td>0.0</td>\n",
       "      <td>169.0</td>\n",
       "      <td>0.0</td>\n",
       "      <td>0.0</td>\n",
       "      <td>1.0</td>\n",
       "      <td>NaN</td>\n",
       "      <td>3.0</td>\n",
       "      <td>0</td>\n",
       "    </tr>\n",
       "    <tr>\n",
       "      <th>192</th>\n",
       "      <td>43.0</td>\n",
       "      <td>1.0</td>\n",
       "      <td>4.0</td>\n",
       "      <td>132.0</td>\n",
       "      <td>247.0</td>\n",
       "      <td>1.0</td>\n",
       "      <td>2.0</td>\n",
       "      <td>143.0</td>\n",
       "      <td>1.0</td>\n",
       "      <td>0.1</td>\n",
       "      <td>2.0</td>\n",
       "      <td>NaN</td>\n",
       "      <td>7.0</td>\n",
       "      <td>1</td>\n",
       "    </tr>\n",
       "    <tr>\n",
       "      <th>266</th>\n",
       "      <td>52.0</td>\n",
       "      <td>1.0</td>\n",
       "      <td>4.0</td>\n",
       "      <td>128.0</td>\n",
       "      <td>204.0</td>\n",
       "      <td>1.0</td>\n",
       "      <td>0.0</td>\n",
       "      <td>156.0</td>\n",
       "      <td>1.0</td>\n",
       "      <td>1.0</td>\n",
       "      <td>2.0</td>\n",
       "      <td>0.0</td>\n",
       "      <td>NaN</td>\n",
       "      <td>2</td>\n",
       "    </tr>\n",
       "    <tr>\n",
       "      <th>287</th>\n",
       "      <td>58.0</td>\n",
       "      <td>1.0</td>\n",
       "      <td>2.0</td>\n",
       "      <td>125.0</td>\n",
       "      <td>220.0</td>\n",
       "      <td>0.0</td>\n",
       "      <td>0.0</td>\n",
       "      <td>144.0</td>\n",
       "      <td>0.0</td>\n",
       "      <td>0.4</td>\n",
       "      <td>2.0</td>\n",
       "      <td>NaN</td>\n",
       "      <td>7.0</td>\n",
       "      <td>0</td>\n",
       "    </tr>\n",
       "    <tr>\n",
       "      <th>302</th>\n",
       "      <td>38.0</td>\n",
       "      <td>1.0</td>\n",
       "      <td>3.0</td>\n",
       "      <td>138.0</td>\n",
       "      <td>175.0</td>\n",
       "      <td>0.0</td>\n",
       "      <td>0.0</td>\n",
       "      <td>173.0</td>\n",
       "      <td>0.0</td>\n",
       "      <td>0.0</td>\n",
       "      <td>1.0</td>\n",
       "      <td>NaN</td>\n",
       "      <td>3.0</td>\n",
       "      <td>0</td>\n",
       "    </tr>\n",
       "  </tbody>\n",
       "</table>\n",
       "</div>"
      ],
      "text/plain": [
       "      age  sex   cp  trestbps   chol  fbs  restecg  thalach  exang  oldpeak  \\\n",
       "87   53.0  0.0  3.0     128.0  216.0  0.0      2.0    115.0    0.0      0.0   \n",
       "166  52.0  1.0  3.0     138.0  223.0  0.0      0.0    169.0    0.0      0.0   \n",
       "192  43.0  1.0  4.0     132.0  247.0  1.0      2.0    143.0    1.0      0.1   \n",
       "266  52.0  1.0  4.0     128.0  204.0  1.0      0.0    156.0    1.0      1.0   \n",
       "287  58.0  1.0  2.0     125.0  220.0  0.0      0.0    144.0    0.0      0.4   \n",
       "302  38.0  1.0  3.0     138.0  175.0  0.0      0.0    173.0    0.0      0.0   \n",
       "\n",
       "     slope   ca  thal  num  \n",
       "87     1.0  0.0   NaN    0  \n",
       "166    1.0  NaN   3.0    0  \n",
       "192    2.0  NaN   7.0    1  \n",
       "266    2.0  0.0   NaN    2  \n",
       "287    2.0  NaN   7.0    0  \n",
       "302    1.0  NaN   3.0    0  "
      ]
     },
     "execution_count": 7,
     "metadata": {},
     "output_type": "execute_result"
    }
   ],
   "source": [
    "patientDf[patientDf.isna().any(axis=1)]"
   ]
  },
  {
   "cell_type": "code",
   "execution_count": 8,
   "id": "8355d398",
   "metadata": {
    "execution": {
     "iopub.execute_input": "2022-06-12T10:21:16.957176Z",
     "iopub.status.busy": "2022-06-12T10:21:16.956635Z",
     "iopub.status.idle": "2022-06-12T10:21:17.292218Z",
     "shell.execute_reply": "2022-06-12T10:21:17.291282Z"
    },
    "papermill": {
     "duration": 0.359689,
     "end_time": "2022-06-12T10:21:17.294358",
     "exception": false,
     "start_time": "2022-06-12T10:21:16.934669",
     "status": "completed"
    },
    "pycharm": {
     "name": "#%%\n"
    },
    "tags": []
   },
   "outputs": [
    {
     "data": {
      "text/plain": [
       "<AxesSubplot:title={'center':'Number of missing values in features'}>"
      ]
     },
     "execution_count": 8,
     "metadata": {},
     "output_type": "execute_result"
    },
    {
     "data": {
      "image/png": "[encoded data removed]",
      "text/plain": [
       "<Figure size 432x288 with 1 Axes>"
      ]
     },
     "metadata": {
      "needs_background": "light"
     },
     "output_type": "display_data"
    }
   ],
   "source": [
    "patientDf.isna().sum().sort_values().plot.barh(title='Number of missing values in features')\n"
   ]
  },
  {
   "cell_type": "markdown",
   "id": "40af71b2",
   "metadata": {
    "papermill": {
     "duration": 0.021033,
     "end_time": "2022-06-12T10:21:17.337265",
     "exception": false,
     "start_time": "2022-06-12T10:21:17.316232",
     "status": "completed"
    },
    "pycharm": {
     "name": "#%% md\n"
    },
    "tags": []
   },
   "source": [
    "### Converting Data Structure"
   ]
  },
  {
   "cell_type": "code",
   "execution_count": 9,
   "id": "e7da1288",
   "metadata": {
    "execution": {
     "iopub.execute_input": "2022-06-12T10:21:17.381438Z",
     "iopub.status.busy": "2022-06-12T10:21:17.380646Z",
     "iopub.status.idle": "2022-06-12T10:21:17.396623Z",
     "shell.execute_reply": "2022-06-12T10:21:17.395466Z"
    },
    "papermill": {
     "duration": 0.04068,
     "end_time": "2022-06-12T10:21:17.398565",
     "exception": false,
     "start_time": "2022-06-12T10:21:17.357885",
     "status": "completed"
    },
    "pycharm": {
     "name": "#%%\n"
    },
    "tags": []
   },
   "outputs": [
    {
     "data": {
      "text/plain": [
       "age           int64\n",
       "sex           int64\n",
       "cp            int64\n",
       "trestbps      int64\n",
       "chol          int64\n",
       "fbs           int64\n",
       "restecg       int64\n",
       "thalach       int64\n",
       "exang         int64\n",
       "oldpeak     float64\n",
       "slope         int64\n",
       "ca          float64\n",
       "thal        float64\n",
       "num           int64\n",
       "dtype: object"
      ]
     },
     "execution_count": 9,
     "metadata": {},
     "output_type": "execute_result"
    }
   ],
   "source": [
    "patientDf=patientDf.astype({'age':np.int64,'sex':np.int64,'cp':np.int64,'trestbps':np.int64,'chol':np.int64,'exang':np.int64,'slope':np.int64,'fbs':np.int64,'restecg':np.int64,'thalach':np.int64,'num':np.int64})\n",
    "patientDf.dtypes"
   ]
  },
  {
   "cell_type": "markdown",
   "id": "15990715",
   "metadata": {
    "papermill": {
     "duration": 0.020943,
     "end_time": "2022-06-12T10:21:17.440921",
     "exception": false,
     "start_time": "2022-06-12T10:21:17.419978",
     "status": "completed"
    },
    "pycharm": {
     "name": "#%% md\n"
    },
    "tags": []
   },
   "source": [
    "### Label Formatting"
   ]
  },
  {
   "cell_type": "code",
   "execution_count": 10,
   "id": "5b25c574",
   "metadata": {
    "execution": {
     "iopub.execute_input": "2022-06-12T10:21:17.490423Z",
     "iopub.status.busy": "2022-06-12T10:21:17.489743Z",
     "iopub.status.idle": "2022-06-12T10:21:17.495233Z",
     "shell.execute_reply": "2022-06-12T10:21:17.494324Z"
    },
    "papermill": {
     "duration": 0.033542,
     "end_time": "2022-06-12T10:21:17.497471",
     "exception": false,
     "start_time": "2022-06-12T10:21:17.463929",
     "status": "completed"
    },
    "pycharm": {
     "name": "#%%\n"
    },
    "tags": []
   },
   "outputs": [],
   "source": [
    "patientDf.loc[patientDf['num'] > 0, 'num'] = 1"
   ]
  },
  {
   "cell_type": "markdown",
   "id": "86e3d348",
   "metadata": {
    "papermill": {
     "duration": 0.021638,
     "end_time": "2022-06-12T10:21:17.543403",
     "exception": false,
     "start_time": "2022-06-12T10:21:17.521765",
     "status": "completed"
    },
    "pycharm": {
     "name": "#%% md\n"
    },
    "tags": []
   },
   "source": [
    "### Target Predictor"
   ]
  },
  {
   "cell_type": "code",
   "execution_count": 11,
   "id": "6f0a4092",
   "metadata": {
    "execution": {
     "iopub.execute_input": "2022-06-12T10:21:17.587206Z",
     "iopub.status.busy": "2022-06-12T10:21:17.586623Z",
     "iopub.status.idle": "2022-06-12T10:21:17.724079Z",
     "shell.execute_reply": "2022-06-12T10:21:17.723264Z"
    },
    "papermill": {
     "duration": 0.16251,
     "end_time": "2022-06-12T10:21:17.726084",
     "exception": false,
     "start_time": "2022-06-12T10:21:17.563574",
     "status": "completed"
    },
    "pycharm": {
     "name": "#%%\n"
    },
    "tags": []
   },
   "outputs": [
    {
     "data": {
      "text/plain": [
       "Text(0.5, 1.0, 'Distribution of target label')"
      ]
     },
     "execution_count": 11,
     "metadata": {},
     "output_type": "execute_result"
    },
    {
     "data": {
      "image/png": "[encoded data removed]",
      "text/plain": [
       "<Figure size 432x288 with 1 Axes>"
      ]
     },
     "metadata": {
      "needs_background": "light"
     },
     "output_type": "display_data"
    }
   ],
   "source": [
    "sns.countplot(data=patientDf,x='num').set_title('Distribution of target label')"
   ]
  },
  {
   "cell_type": "markdown",
   "id": "be0f48fc",
   "metadata": {
    "papermill": {
     "duration": 0.021926,
     "end_time": "2022-06-12T10:21:17.769763",
     "exception": false,
     "start_time": "2022-06-12T10:21:17.747837",
     "status": "completed"
    },
    "pycharm": {
     "name": "#%% md\n"
    },
    "tags": []
   },
   "source": [
    "Looking at the distribution of data for our target predictor,we realise that the data is only slightly  imbalanced.Number of patients with cardiovascular disease are slightly lesser than number of patients with no cardiovascular disease.We may consider doing oversampling based on the performace of model later."
   ]
  },
  {
   "cell_type": "markdown",
   "id": "b5c42fbd",
   "metadata": {
    "papermill": {
     "duration": 0.021013,
     "end_time": "2022-06-12T10:21:17.811404",
     "exception": false,
     "start_time": "2022-06-12T10:21:17.790391",
     "status": "completed"
    },
    "pycharm": {
     "name": "#%% md\n"
    },
    "tags": []
   },
   "source": []
  },
  {
   "cell_type": "markdown",
   "id": "2ede12c4",
   "metadata": {
    "papermill": {
     "duration": 0.020908,
     "end_time": "2022-06-12T10:21:17.853660",
     "exception": false,
     "start_time": "2022-06-12T10:21:17.832752",
     "status": "completed"
    },
    "pycharm": {
     "name": "#%% md\n"
    },
    "tags": []
   },
   "source": [
    "#### Quantitative Variables"
   ]
  },
  {
   "cell_type": "code",
   "execution_count": 12,
   "id": "5995dcf5",
   "metadata": {
    "execution": {
     "iopub.execute_input": "2022-06-12T10:21:17.898275Z",
     "iopub.status.busy": "2022-06-12T10:21:17.897717Z",
     "iopub.status.idle": "2022-06-12T10:21:17.902236Z",
     "shell.execute_reply": "2022-06-12T10:21:17.901476Z"
    },
    "papermill": {
     "duration": 0.028537,
     "end_time": "2022-06-12T10:21:17.904199",
     "exception": false,
     "start_time": "2022-06-12T10:21:17.875662",
     "status": "completed"
    },
    "pycharm": {
     "name": "#%%\n"
    },
    "tags": []
   },
   "outputs": [],
   "source": [
    "quantitativeVariables=['age','trestbps','chol','thalach','oldpeak','ca']"
   ]
  },
  {
   "cell_type": "markdown",
   "id": "a2106906",
   "metadata": {
    "papermill": {
     "duration": 0.021821,
     "end_time": "2022-06-12T10:21:17.947191",
     "exception": false,
     "start_time": "2022-06-12T10:21:17.925370",
     "status": "completed"
    },
    "pycharm": {
     "name": "#%% md\n"
    },
    "tags": []
   },
   "source": [
    "#### Qualitative Variables"
   ]
  },
  {
   "cell_type": "code",
   "execution_count": 13,
   "id": "37692ca6",
   "metadata": {
    "execution": {
     "iopub.execute_input": "2022-06-12T10:21:17.992466Z",
     "iopub.status.busy": "2022-06-12T10:21:17.991910Z",
     "iopub.status.idle": "2022-06-12T10:21:17.996374Z",
     "shell.execute_reply": "2022-06-12T10:21:17.995619Z"
    },
    "papermill": {
     "duration": 0.029771,
     "end_time": "2022-06-12T10:21:17.998392",
     "exception": false,
     "start_time": "2022-06-12T10:21:17.968621",
     "status": "completed"
    },
    "pycharm": {
     "name": "#%%\n"
    },
    "tags": []
   },
   "outputs": [],
   "source": [
    "quatitativeVariables=['sex','cp','restecg','exang','slope','thal','fbs']"
   ]
  },
  {
   "cell_type": "markdown",
   "id": "2edf4989",
   "metadata": {
    "papermill": {
     "duration": 0.022462,
     "end_time": "2022-06-12T10:21:18.042496",
     "exception": false,
     "start_time": "2022-06-12T10:21:18.020034",
     "status": "completed"
    },
    "pycharm": {
     "name": "#%% md\n"
    },
    "tags": []
   },
   "source": [
    "#### Univariate Analysis"
   ]
  },
  {
   "cell_type": "code",
   "execution_count": 14,
   "id": "1592a5b7",
   "metadata": {
    "execution": {
     "iopub.execute_input": "2022-06-12T10:21:18.088601Z",
     "iopub.status.busy": "2022-06-12T10:21:18.088037Z",
     "iopub.status.idle": "2022-06-12T10:21:18.118049Z",
     "shell.execute_reply": "2022-06-12T10:21:18.116554Z"
    },
    "papermill": {
     "duration": 0.056816,
     "end_time": "2022-06-12T10:21:18.120342",
     "exception": false,
     "start_time": "2022-06-12T10:21:18.063526",
     "status": "completed"
    },
    "pycharm": {
     "name": "#%%\n"
    },
    "tags": []
   },
   "outputs": [
    {
     "data": {
      "text/html": [
       "<div>\n",
       "<style scoped>\n",
       "    .dataframe tbody tr th:only-of-type {\n",
       "        vertical-align: middle;\n",
       "    }\n",
       "\n",
       "    .dataframe tbody tr th {\n",
       "        vertical-align: top;\n",
       "    }\n",
       "\n",
       "    .dataframe thead th {\n",
       "        text-align: right;\n",
       "    }\n",
       "</style>\n",
       "<table border=\"1\" class=\"dataframe\">\n",
       "  <thead>\n",
       "    <tr style=\"text-align: right;\">\n",
       "      <th></th>\n",
       "      <th>age</th>\n",
       "      <th>trestbps</th>\n",
       "      <th>chol</th>\n",
       "      <th>thalach</th>\n",
       "      <th>oldpeak</th>\n",
       "      <th>ca</th>\n",
       "    </tr>\n",
       "  </thead>\n",
       "  <tbody>\n",
       "    <tr>\n",
       "      <th>count</th>\n",
       "      <td>303.000000</td>\n",
       "      <td>303.000000</td>\n",
       "      <td>303.000000</td>\n",
       "      <td>303.000000</td>\n",
       "      <td>303.000000</td>\n",
       "      <td>299.000000</td>\n",
       "    </tr>\n",
       "    <tr>\n",
       "      <th>mean</th>\n",
       "      <td>54.438944</td>\n",
       "      <td>131.689769</td>\n",
       "      <td>246.693069</td>\n",
       "      <td>149.607261</td>\n",
       "      <td>1.039604</td>\n",
       "      <td>0.672241</td>\n",
       "    </tr>\n",
       "    <tr>\n",
       "      <th>std</th>\n",
       "      <td>9.038662</td>\n",
       "      <td>17.599748</td>\n",
       "      <td>51.776918</td>\n",
       "      <td>22.875003</td>\n",
       "      <td>1.161075</td>\n",
       "      <td>0.937438</td>\n",
       "    </tr>\n",
       "    <tr>\n",
       "      <th>min</th>\n",
       "      <td>29.000000</td>\n",
       "      <td>94.000000</td>\n",
       "      <td>126.000000</td>\n",
       "      <td>71.000000</td>\n",
       "      <td>0.000000</td>\n",
       "      <td>0.000000</td>\n",
       "    </tr>\n",
       "    <tr>\n",
       "      <th>25%</th>\n",
       "      <td>48.000000</td>\n",
       "      <td>120.000000</td>\n",
       "      <td>211.000000</td>\n",
       "      <td>133.500000</td>\n",
       "      <td>0.000000</td>\n",
       "      <td>0.000000</td>\n",
       "    </tr>\n",
       "    <tr>\n",
       "      <th>50%</th>\n",
       "      <td>56.000000</td>\n",
       "      <td>130.000000</td>\n",
       "      <td>241.000000</td>\n",
       "      <td>153.000000</td>\n",
       "      <td>0.800000</td>\n",
       "      <td>0.000000</td>\n",
       "    </tr>\n",
       "    <tr>\n",
       "      <th>75%</th>\n",
       "      <td>61.000000</td>\n",
       "      <td>140.000000</td>\n",
       "      <td>275.000000</td>\n",
       "      <td>166.000000</td>\n",
       "      <td>1.600000</td>\n",
       "      <td>1.000000</td>\n",
       "    </tr>\n",
       "    <tr>\n",
       "      <th>max</th>\n",
       "      <td>77.000000</td>\n",
       "      <td>200.000000</td>\n",
       "      <td>564.000000</td>\n",
       "      <td>202.000000</td>\n",
       "      <td>6.200000</td>\n",
       "      <td>3.000000</td>\n",
       "    </tr>\n",
       "  </tbody>\n",
       "</table>\n",
       "</div>"
      ],
      "text/plain": [
       "              age    trestbps        chol     thalach     oldpeak          ca\n",
       "count  303.000000  303.000000  303.000000  303.000000  303.000000  299.000000\n",
       "mean    54.438944  131.689769  246.693069  149.607261    1.039604    0.672241\n",
       "std      9.038662   17.599748   51.776918   22.875003    1.161075    0.937438\n",
       "min     29.000000   94.000000  126.000000   71.000000    0.000000    0.000000\n",
       "25%     48.000000  120.000000  211.000000  133.500000    0.000000    0.000000\n",
       "50%     56.000000  130.000000  241.000000  153.000000    0.800000    0.000000\n",
       "75%     61.000000  140.000000  275.000000  166.000000    1.600000    1.000000\n",
       "max     77.000000  200.000000  564.000000  202.000000    6.200000    3.000000"
      ]
     },
     "execution_count": 14,
     "metadata": {},
     "output_type": "execute_result"
    }
   ],
   "source": [
    "patientDf[quantitativeVariables].describe()"
   ]
  },
  {
   "cell_type": "code",
   "execution_count": 15,
   "id": "44ca8885",
   "metadata": {
    "execution": {
     "iopub.execute_input": "2022-06-12T10:21:18.166077Z",
     "iopub.status.busy": "2022-06-12T10:21:18.165506Z",
     "iopub.status.idle": "2022-06-12T10:21:19.493791Z",
     "shell.execute_reply": "2022-06-12T10:21:19.492784Z"
    },
    "papermill": {
     "duration": 1.353955,
     "end_time": "2022-06-12T10:21:19.495857",
     "exception": false,
     "start_time": "2022-06-12T10:21:18.141902",
     "status": "completed"
    },
    "pycharm": {
     "name": "#%%\n"
    },
    "tags": []
   },
   "outputs": [
    {
     "data": {
      "image/png": "[encoded data removed]",
      "text/plain": [
       "<Figure size 576x1080 with 8 Axes>"
      ]
     },
     "metadata": {
      "needs_background": "light"
     },
     "output_type": "display_data"
    }
   ],
   "source": [
    "fig, ax = plt.subplots(int(np.ceil(len(quatitativeVariables)/2)), 2, figsize=(8, 15), tight_layout=True)\n",
    "for i,y in enumerate(quatitativeVariables):\n",
    "    n=1 if i%2==0 else 0\n",
    "    g=sns.countplot(x=y,data=patientDf,ax=ax[int(np.floor(i/2)),n])\n",
    "    g.bar_label(g.containers[0])\n",
    "fig.show()\n",
    "\n"
   ]
  },
  {
   "cell_type": "code",
   "execution_count": 16,
   "id": "35acff03",
   "metadata": {
    "execution": {
     "iopub.execute_input": "2022-06-12T10:21:19.543813Z",
     "iopub.status.busy": "2022-06-12T10:21:19.543118Z",
     "iopub.status.idle": "2022-06-12T10:21:20.764786Z",
     "shell.execute_reply": "2022-06-12T10:21:20.763753Z"
    },
    "papermill": {
     "duration": 1.248077,
     "end_time": "2022-06-12T10:21:20.767181",
     "exception": false,
     "start_time": "2022-06-12T10:21:19.519104",
     "status": "completed"
    },
    "pycharm": {
     "name": "#%%\n"
    },
    "tags": []
   },
   "outputs": [
    {
     "data": {
      "text/plain": [
       "array([[<AxesSubplot:title={'center':'age'}>,\n",
       "        <AxesSubplot:title={'center':'trestbps'}>],\n",
       "       [<AxesSubplot:title={'center':'chol'}>,\n",
       "        <AxesSubplot:title={'center':'thalach'}>],\n",
       "       [<AxesSubplot:title={'center':'oldpeak'}>,\n",
       "        <AxesSubplot:title={'center':'ca'}>]], dtype=object)"
      ]
     },
     "execution_count": 16,
     "metadata": {},
     "output_type": "execute_result"
    },
    {
     "data": {
      "image/png": "[encoded data removed]",
      "text/plain": [
       "<Figure size 720x576 with 6 Axes>"
      ]
     },
     "metadata": {
      "needs_background": "light"
     },
     "output_type": "display_data"
    }
   ],
   "source": [
    "patientDf[quantitativeVariables].hist(figsize=(10, 8))"
   ]
  },
  {
   "cell_type": "code",
   "execution_count": 17,
   "id": "5042c84c",
   "metadata": {
    "execution": {
     "iopub.execute_input": "2022-06-12T10:21:20.815078Z",
     "iopub.status.busy": "2022-06-12T10:21:20.814241Z",
     "iopub.status.idle": "2022-06-12T10:21:20.835349Z",
     "shell.execute_reply": "2022-06-12T10:21:20.834456Z"
    },
    "papermill": {
     "duration": 0.047382,
     "end_time": "2022-06-12T10:21:20.837640",
     "exception": false,
     "start_time": "2022-06-12T10:21:20.790258",
     "status": "completed"
    },
    "pycharm": {
     "name": "#%%\n"
    },
    "tags": []
   },
   "outputs": [
    {
     "data": {
      "text/html": [
       "<div>\n",
       "<style scoped>\n",
       "    .dataframe tbody tr th:only-of-type {\n",
       "        vertical-align: middle;\n",
       "    }\n",
       "\n",
       "    .dataframe tbody tr th {\n",
       "        vertical-align: top;\n",
       "    }\n",
       "\n",
       "    .dataframe thead th {\n",
       "        text-align: right;\n",
       "    }\n",
       "</style>\n",
       "<table border=\"1\" class=\"dataframe\">\n",
       "  <thead>\n",
       "    <tr style=\"text-align: right;\">\n",
       "      <th></th>\n",
       "      <th>age</th>\n",
       "      <th>sex</th>\n",
       "      <th>cp</th>\n",
       "      <th>trestbps</th>\n",
       "      <th>chol</th>\n",
       "      <th>fbs</th>\n",
       "      <th>restecg</th>\n",
       "      <th>thalach</th>\n",
       "      <th>exang</th>\n",
       "      <th>oldpeak</th>\n",
       "      <th>slope</th>\n",
       "      <th>ca</th>\n",
       "      <th>thal</th>\n",
       "      <th>num</th>\n",
       "    </tr>\n",
       "  </thead>\n",
       "  <tbody>\n",
       "    <tr>\n",
       "      <th>14</th>\n",
       "      <td>52</td>\n",
       "      <td>1</td>\n",
       "      <td>3</td>\n",
       "      <td>172</td>\n",
       "      <td>199</td>\n",
       "      <td>1</td>\n",
       "      <td>0</td>\n",
       "      <td>162</td>\n",
       "      <td>0</td>\n",
       "      <td>0.5</td>\n",
       "      <td>1</td>\n",
       "      <td>0.0</td>\n",
       "      <td>7.0</td>\n",
       "      <td>0</td>\n",
       "    </tr>\n",
       "    <tr>\n",
       "      <th>83</th>\n",
       "      <td>68</td>\n",
       "      <td>1</td>\n",
       "      <td>3</td>\n",
       "      <td>180</td>\n",
       "      <td>274</td>\n",
       "      <td>1</td>\n",
       "      <td>2</td>\n",
       "      <td>150</td>\n",
       "      <td>1</td>\n",
       "      <td>1.6</td>\n",
       "      <td>2</td>\n",
       "      <td>0.0</td>\n",
       "      <td>7.0</td>\n",
       "      <td>1</td>\n",
       "    </tr>\n",
       "    <tr>\n",
       "      <th>126</th>\n",
       "      <td>56</td>\n",
       "      <td>0</td>\n",
       "      <td>4</td>\n",
       "      <td>200</td>\n",
       "      <td>288</td>\n",
       "      <td>1</td>\n",
       "      <td>2</td>\n",
       "      <td>133</td>\n",
       "      <td>1</td>\n",
       "      <td>4.0</td>\n",
       "      <td>3</td>\n",
       "      <td>2.0</td>\n",
       "      <td>7.0</td>\n",
       "      <td>1</td>\n",
       "    </tr>\n",
       "    <tr>\n",
       "      <th>172</th>\n",
       "      <td>59</td>\n",
       "      <td>0</td>\n",
       "      <td>4</td>\n",
       "      <td>174</td>\n",
       "      <td>249</td>\n",
       "      <td>0</td>\n",
       "      <td>0</td>\n",
       "      <td>143</td>\n",
       "      <td>1</td>\n",
       "      <td>0.0</td>\n",
       "      <td>2</td>\n",
       "      <td>0.0</td>\n",
       "      <td>3.0</td>\n",
       "      <td>1</td>\n",
       "    </tr>\n",
       "    <tr>\n",
       "      <th>183</th>\n",
       "      <td>59</td>\n",
       "      <td>1</td>\n",
       "      <td>1</td>\n",
       "      <td>178</td>\n",
       "      <td>270</td>\n",
       "      <td>0</td>\n",
       "      <td>2</td>\n",
       "      <td>145</td>\n",
       "      <td>0</td>\n",
       "      <td>4.2</td>\n",
       "      <td>3</td>\n",
       "      <td>0.0</td>\n",
       "      <td>7.0</td>\n",
       "      <td>0</td>\n",
       "    </tr>\n",
       "    <tr>\n",
       "      <th>188</th>\n",
       "      <td>54</td>\n",
       "      <td>1</td>\n",
       "      <td>2</td>\n",
       "      <td>192</td>\n",
       "      <td>283</td>\n",
       "      <td>0</td>\n",
       "      <td>2</td>\n",
       "      <td>195</td>\n",
       "      <td>0</td>\n",
       "      <td>0.0</td>\n",
       "      <td>1</td>\n",
       "      <td>1.0</td>\n",
       "      <td>7.0</td>\n",
       "      <td>1</td>\n",
       "    </tr>\n",
       "    <tr>\n",
       "      <th>201</th>\n",
       "      <td>64</td>\n",
       "      <td>0</td>\n",
       "      <td>4</td>\n",
       "      <td>180</td>\n",
       "      <td>325</td>\n",
       "      <td>0</td>\n",
       "      <td>0</td>\n",
       "      <td>154</td>\n",
       "      <td>1</td>\n",
       "      <td>0.0</td>\n",
       "      <td>1</td>\n",
       "      <td>0.0</td>\n",
       "      <td>3.0</td>\n",
       "      <td>0</td>\n",
       "    </tr>\n",
       "    <tr>\n",
       "      <th>213</th>\n",
       "      <td>66</td>\n",
       "      <td>0</td>\n",
       "      <td>4</td>\n",
       "      <td>178</td>\n",
       "      <td>228</td>\n",
       "      <td>1</td>\n",
       "      <td>0</td>\n",
       "      <td>165</td>\n",
       "      <td>1</td>\n",
       "      <td>1.0</td>\n",
       "      <td>2</td>\n",
       "      <td>2.0</td>\n",
       "      <td>7.0</td>\n",
       "      <td>1</td>\n",
       "    </tr>\n",
       "    <tr>\n",
       "      <th>231</th>\n",
       "      <td>55</td>\n",
       "      <td>0</td>\n",
       "      <td>4</td>\n",
       "      <td>180</td>\n",
       "      <td>327</td>\n",
       "      <td>0</td>\n",
       "      <td>1</td>\n",
       "      <td>117</td>\n",
       "      <td>1</td>\n",
       "      <td>3.4</td>\n",
       "      <td>2</td>\n",
       "      <td>0.0</td>\n",
       "      <td>3.0</td>\n",
       "      <td>1</td>\n",
       "    </tr>\n",
       "  </tbody>\n",
       "</table>\n",
       "</div>"
      ],
      "text/plain": [
       "     age  sex  cp  trestbps  chol  fbs  restecg  thalach  exang  oldpeak  \\\n",
       "14    52    1   3       172   199    1        0      162      0      0.5   \n",
       "83    68    1   3       180   274    1        2      150      1      1.6   \n",
       "126   56    0   4       200   288    1        2      133      1      4.0   \n",
       "172   59    0   4       174   249    0        0      143      1      0.0   \n",
       "183   59    1   1       178   270    0        2      145      0      4.2   \n",
       "188   54    1   2       192   283    0        2      195      0      0.0   \n",
       "201   64    0   4       180   325    0        0      154      1      0.0   \n",
       "213   66    0   4       178   228    1        0      165      1      1.0   \n",
       "231   55    0   4       180   327    0        1      117      1      3.4   \n",
       "\n",
       "     slope   ca  thal  num  \n",
       "14       1  0.0   7.0    0  \n",
       "83       2  0.0   7.0    1  \n",
       "126      3  2.0   7.0    1  \n",
       "172      2  0.0   3.0    1  \n",
       "183      3  0.0   7.0    0  \n",
       "188      1  1.0   7.0    1  \n",
       "201      1  0.0   3.0    0  \n",
       "213      2  2.0   7.0    1  \n",
       "231      2  0.0   3.0    1  "
      ]
     },
     "execution_count": 17,
     "metadata": {},
     "output_type": "execute_result"
    }
   ],
   "source": [
    "Q1 = patientDf.trestbps.quantile(0.25)\n",
    "Q3 = patientDf.trestbps.quantile(0.75)\n",
    "IQR = Q3 - Q1\n",
    "patientDf[patientDf.trestbps >Q3 + 1.5 * IQR]"
   ]
  },
  {
   "cell_type": "code",
   "execution_count": 18,
   "id": "abba5201",
   "metadata": {
    "execution": {
     "iopub.execute_input": "2022-06-12T10:21:20.888545Z",
     "iopub.status.busy": "2022-06-12T10:21:20.887975Z",
     "iopub.status.idle": "2022-06-12T10:21:21.944035Z",
     "shell.execute_reply": "2022-06-12T10:21:21.943036Z"
    },
    "papermill": {
     "duration": 1.085553,
     "end_time": "2022-06-12T10:21:21.946197",
     "exception": false,
     "start_time": "2022-06-12T10:21:20.860644",
     "status": "completed"
    },
    "pycharm": {
     "name": "#%%\n"
    },
    "tags": []
   },
   "outputs": [
    {
     "data": {
      "image/png": "[encoded data removed]",
      "text/plain": [
       "<Figure size 576x1080 with 6 Axes>"
      ]
     },
     "metadata": {
      "needs_background": "light"
     },
     "output_type": "display_data"
    }
   ],
   "source": [
    "\n",
    "fig, ax = plt.subplots(len(quantitativeVariables), 1, figsize=(8, 15), tight_layout=True)\n",
    "for idx, feature in enumerate(quantitativeVariables):\n",
    "    sns.boxplot(data=patientDf, x=feature, ax = ax[idx])\n",
    "fig.show()"
   ]
  },
  {
   "cell_type": "markdown",
   "id": "2f3c9c04",
   "metadata": {
    "papermill": {
     "duration": 0.02414,
     "end_time": "2022-06-12T10:21:21.994972",
     "exception": false,
     "start_time": "2022-06-12T10:21:21.970832",
     "status": "completed"
    },
    "pycharm": {
     "name": "#%% md\n"
    },
    "tags": []
   },
   "source": [
    "#### Bivariate Analysis"
   ]
  },
  {
   "cell_type": "code",
   "execution_count": 19,
   "id": "a2d11795",
   "metadata": {
    "execution": {
     "iopub.execute_input": "2022-06-12T10:21:22.043467Z",
     "iopub.status.busy": "2022-06-12T10:21:22.042861Z",
     "iopub.status.idle": "2022-06-12T10:21:24.162259Z",
     "shell.execute_reply": "2022-06-12T10:21:24.161229Z"
    },
    "papermill": {
     "duration": 2.146446,
     "end_time": "2022-06-12T10:21:24.164374",
     "exception": false,
     "start_time": "2022-06-12T10:21:22.017928",
     "status": "completed"
    },
    "pycharm": {
     "name": "#%%\n"
    },
    "tags": []
   },
   "outputs": [
    {
     "data": {
      "image/png": "[encoded data removed]",
      "text/plain": [
       "<Figure size 576x1080 with 6 Axes>"
      ]
     },
     "metadata": {
      "needs_background": "light"
     },
     "output_type": "display_data"
    }
   ],
   "source": [
    "\n",
    "\n",
    "fig, ax = plt.subplots(len(quantitativeVariables), 1, figsize=(8, 15), tight_layout=True)\n",
    "for idx, feature in enumerate(quantitativeVariables):\n",
    "\n",
    "    sns.histplot(data=patientDf,common_norm = False,stat='density', x=feature, hue=\"num\",ax=ax[idx],kde=True)\n",
    "fig.show()\n"
   ]
  },
  {
   "cell_type": "code",
   "execution_count": 20,
   "id": "7b6f271d",
   "metadata": {
    "execution": {
     "iopub.execute_input": "2022-06-12T10:21:24.218157Z",
     "iopub.status.busy": "2022-06-12T10:21:24.217422Z",
     "iopub.status.idle": "2022-06-12T10:21:26.698541Z",
     "shell.execute_reply": "2022-06-12T10:21:26.697518Z"
    },
    "papermill": {
     "duration": 2.510699,
     "end_time": "2022-06-12T10:21:26.701080",
     "exception": false,
     "start_time": "2022-06-12T10:21:24.190381",
     "status": "completed"
    },
    "pycharm": {
     "name": "#%%\n"
    },
    "tags": []
   },
   "outputs": [
    {
     "data": {
      "image/png": "[encoded data removed]",
      "text/plain": [
       "<Figure size 576x1080 with 8 Axes>"
      ]
     },
     "metadata": {
      "needs_background": "light"
     },
     "output_type": "display_data"
    }
   ],
   "source": [
    "import matplotlib.ticker as ticker\n",
    "fig, ax = plt.subplots(int(np.ceil(len(quatitativeVariables)/2)), 2, figsize=(8, 15), tight_layout=True)\n",
    "for idx, feature in enumerate(quatitativeVariables):\n",
    "    n=1 if idx%2==0 else 0\n",
    "\n",
    "    suba=sns.histplot(data=patientDf,common_norm = False, stat='density',x=feature, hue=\"num\",ax=ax[int(np.floor(idx/2)),n])\n",
    "\n",
    "\n",
    "plt.show()"
   ]
  },
  {
   "cell_type": "code",
   "execution_count": 21,
   "id": "cf8d8b90",
   "metadata": {
    "execution": {
     "iopub.execute_input": "2022-06-12T10:21:26.758999Z",
     "iopub.status.busy": "2022-06-12T10:21:26.758219Z",
     "iopub.status.idle": "2022-06-12T10:21:26.762411Z",
     "shell.execute_reply": "2022-06-12T10:21:26.761555Z"
    },
    "papermill": {
     "duration": 0.03268,
     "end_time": "2022-06-12T10:21:26.764383",
     "exception": false,
     "start_time": "2022-06-12T10:21:26.731703",
     "status": "completed"
    },
    "pycharm": {
     "name": "#%%\n"
    },
    "tags": []
   },
   "outputs": [],
   "source": [
    "# sns.pairplot(patientDf, hue=\"num\")"
   ]
  },
  {
   "cell_type": "markdown",
   "id": "661f6aae",
   "metadata": {
    "papermill": {
     "duration": 0.024935,
     "end_time": "2022-06-12T10:21:26.814734",
     "exception": false,
     "start_time": "2022-06-12T10:21:26.789799",
     "status": "completed"
    },
    "pycharm": {
     "name": "#%% md\n"
    },
    "tags": []
   },
   "source": []
  },
  {
   "cell_type": "code",
   "execution_count": 22,
   "id": "f0d07bc7",
   "metadata": {
    "execution": {
     "iopub.execute_input": "2022-06-12T10:21:26.867523Z",
     "iopub.status.busy": "2022-06-12T10:21:26.866246Z",
     "iopub.status.idle": "2022-06-12T10:21:29.234702Z",
     "shell.execute_reply": "2022-06-12T10:21:29.233610Z"
    },
    "papermill": {
     "duration": 2.397184,
     "end_time": "2022-06-12T10:21:29.236841",
     "exception": false,
     "start_time": "2022-06-12T10:21:26.839657",
     "status": "completed"
    },
    "pycharm": {
     "name": "#%%\n"
    },
    "tags": []
   },
   "outputs": [
    {
     "data": {
      "text/plain": [
       "Text(0.5, 1.0, 'Correlation Matrix')"
      ]
     },
     "execution_count": 22,
     "metadata": {},
     "output_type": "execute_result"
    },
    {
     "data": {
      "image/png": "[encoded data removed]",
      "text/plain": [
       "<Figure size 432x288 with 2 Axes>"
      ]
     },
     "metadata": {
      "needs_background": "light"
     },
     "output_type": "display_data"
    }
   ],
   "source": [
    "\n",
    "corr_matrix = patientDf.phik_matrix(interval_cols=patientDf.columns)\n",
    "\n",
    "sns.heatmap(corr_matrix, annot = True, linewidths=.5,center = 0,cmap=\"crest\").set_title('Correlation Matrix')"
   ]
  },
  {
   "cell_type": "markdown",
   "id": "6e9f221a",
   "metadata": {
    "papermill": {
     "duration": 0.027617,
     "end_time": "2022-06-12T10:21:29.293156",
     "exception": false,
     "start_time": "2022-06-12T10:21:29.265539",
     "status": "completed"
    },
    "pycharm": {
     "name": "#%% md\n"
    },
    "tags": []
   },
   "source": [
    "Looking at the correlation matrix,we did not find any features that is too correlated.The feature that has the highest correction were the cp and thal thalach feature which both have a correlation of 0.72 .  However ,we found 2 features: trestbps and fbs that have 0 correlation.We would have directly removed it if we are only doing linear classifier.However,since we are using non-linear classifier ,we should not remove it now, but we will train and test the model with and without the 2 features later and then determine whether the remove them."
   ]
  },
  {
   "cell_type": "markdown",
   "id": "200878ca",
   "metadata": {
    "papermill": {
     "duration": 0.03001,
     "end_time": "2022-06-12T10:21:29.349836",
     "exception": false,
     "start_time": "2022-06-12T10:21:29.319826",
     "status": "completed"
    },
    "pycharm": {
     "name": "#%% md\n"
    },
    "tags": []
   },
   "source": [
    "### Feature Scaling and Selection"
   ]
  },
  {
   "cell_type": "code",
   "execution_count": 23,
   "id": "b10004ba",
   "metadata": {
    "execution": {
     "iopub.execute_input": "2022-06-12T10:21:29.409686Z",
     "iopub.status.busy": "2022-06-12T10:21:29.409300Z",
     "iopub.status.idle": "2022-06-12T10:21:29.414927Z",
     "shell.execute_reply": "2022-06-12T10:21:29.414031Z"
    },
    "papermill": {
     "duration": 0.037382,
     "end_time": "2022-06-12T10:21:29.416939",
     "exception": false,
     "start_time": "2022-06-12T10:21:29.379557",
     "status": "completed"
    },
    "pycharm": {
     "name": "#%%\n"
    },
    "tags": []
   },
   "outputs": [],
   "source": [
    "\n",
    "\n",
    "quantitativeTransformer=Pipeline([\n",
    "\n",
    "     ('Normaliser',MinMaxScaler())\n",
    "])\n",
    "categorical_transformers = Pipeline([\n",
    "    ('One Hot Encoder', OneHotEncoder(handle_unknown='ignore'))\n",
    "])\n",
    "data_preprocessing = ColumnTransformer([\n",
    "    ('Preprocess Numerical Features', quantitativeTransformer, quantitativeVariables),\n",
    "       ('Preprocess Categorical Features', categorical_transformers, quatitativeVariables)\n",
    "])\n",
    "\n",
    "\n"
   ]
  },
  {
   "cell_type": "markdown",
   "id": "d5043641",
   "metadata": {
    "papermill": {
     "duration": 0.026987,
     "end_time": "2022-06-12T10:21:29.470973",
     "exception": false,
     "start_time": "2022-06-12T10:21:29.443986",
     "status": "completed"
    },
    "pycharm": {
     "name": "#%% md\n"
    },
    "tags": []
   },
   "source": [
    "# Training Data and Test Data"
   ]
  },
  {
   "cell_type": "code",
   "execution_count": 24,
   "id": "5e647c38",
   "metadata": {
    "execution": {
     "iopub.execute_input": "2022-06-12T10:21:29.528766Z",
     "iopub.status.busy": "2022-06-12T10:21:29.527959Z",
     "iopub.status.idle": "2022-06-12T10:21:29.551703Z",
     "shell.execute_reply": "2022-06-12T10:21:29.550683Z"
    },
    "papermill": {
     "duration": 0.055377,
     "end_time": "2022-06-12T10:21:29.553928",
     "exception": false,
     "start_time": "2022-06-12T10:21:29.498551",
     "status": "completed"
    },
    "pycharm": {
     "name": "#%%\n"
    },
    "tags": []
   },
   "outputs": [
    {
     "data": {
      "text/html": [
       "<div>\n",
       "<style scoped>\n",
       "    .dataframe tbody tr th:only-of-type {\n",
       "        vertical-align: middle;\n",
       "    }\n",
       "\n",
       "    .dataframe tbody tr th {\n",
       "        vertical-align: top;\n",
       "    }\n",
       "\n",
       "    .dataframe thead th {\n",
       "        text-align: right;\n",
       "    }\n",
       "</style>\n",
       "<table border=\"1\" class=\"dataframe\">\n",
       "  <thead>\n",
       "    <tr style=\"text-align: right;\">\n",
       "      <th></th>\n",
       "      <th>age</th>\n",
       "      <th>sex</th>\n",
       "      <th>cp</th>\n",
       "      <th>trestbps</th>\n",
       "      <th>chol</th>\n",
       "      <th>fbs</th>\n",
       "      <th>restecg</th>\n",
       "      <th>thalach</th>\n",
       "      <th>exang</th>\n",
       "      <th>oldpeak</th>\n",
       "      <th>slope</th>\n",
       "      <th>ca</th>\n",
       "      <th>thal</th>\n",
       "    </tr>\n",
       "  </thead>\n",
       "  <tbody>\n",
       "    <tr>\n",
       "      <th>180</th>\n",
       "      <td>48</td>\n",
       "      <td>1</td>\n",
       "      <td>4</td>\n",
       "      <td>124</td>\n",
       "      <td>274</td>\n",
       "      <td>0</td>\n",
       "      <td>2</td>\n",
       "      <td>166</td>\n",
       "      <td>0</td>\n",
       "      <td>0.5</td>\n",
       "      <td>2</td>\n",
       "      <td>0.0</td>\n",
       "      <td>7.0</td>\n",
       "    </tr>\n",
       "    <tr>\n",
       "      <th>208</th>\n",
       "      <td>55</td>\n",
       "      <td>1</td>\n",
       "      <td>2</td>\n",
       "      <td>130</td>\n",
       "      <td>262</td>\n",
       "      <td>0</td>\n",
       "      <td>0</td>\n",
       "      <td>155</td>\n",
       "      <td>0</td>\n",
       "      <td>0.0</td>\n",
       "      <td>1</td>\n",
       "      <td>0.0</td>\n",
       "      <td>3.0</td>\n",
       "    </tr>\n",
       "    <tr>\n",
       "      <th>167</th>\n",
       "      <td>54</td>\n",
       "      <td>0</td>\n",
       "      <td>2</td>\n",
       "      <td>132</td>\n",
       "      <td>288</td>\n",
       "      <td>1</td>\n",
       "      <td>2</td>\n",
       "      <td>159</td>\n",
       "      <td>1</td>\n",
       "      <td>0.0</td>\n",
       "      <td>1</td>\n",
       "      <td>1.0</td>\n",
       "      <td>3.0</td>\n",
       "    </tr>\n",
       "    <tr>\n",
       "      <th>105</th>\n",
       "      <td>54</td>\n",
       "      <td>1</td>\n",
       "      <td>2</td>\n",
       "      <td>108</td>\n",
       "      <td>309</td>\n",
       "      <td>0</td>\n",
       "      <td>0</td>\n",
       "      <td>156</td>\n",
       "      <td>0</td>\n",
       "      <td>0.0</td>\n",
       "      <td>1</td>\n",
       "      <td>0.0</td>\n",
       "      <td>7.0</td>\n",
       "    </tr>\n",
       "    <tr>\n",
       "      <th>297</th>\n",
       "      <td>57</td>\n",
       "      <td>0</td>\n",
       "      <td>4</td>\n",
       "      <td>140</td>\n",
       "      <td>241</td>\n",
       "      <td>0</td>\n",
       "      <td>0</td>\n",
       "      <td>123</td>\n",
       "      <td>1</td>\n",
       "      <td>0.2</td>\n",
       "      <td>2</td>\n",
       "      <td>0.0</td>\n",
       "      <td>7.0</td>\n",
       "    </tr>\n",
       "    <tr>\n",
       "      <th>...</th>\n",
       "      <td>...</td>\n",
       "      <td>...</td>\n",
       "      <td>...</td>\n",
       "      <td>...</td>\n",
       "      <td>...</td>\n",
       "      <td>...</td>\n",
       "      <td>...</td>\n",
       "      <td>...</td>\n",
       "      <td>...</td>\n",
       "      <td>...</td>\n",
       "      <td>...</td>\n",
       "      <td>...</td>\n",
       "      <td>...</td>\n",
       "    </tr>\n",
       "    <tr>\n",
       "      <th>173</th>\n",
       "      <td>62</td>\n",
       "      <td>0</td>\n",
       "      <td>4</td>\n",
       "      <td>140</td>\n",
       "      <td>394</td>\n",
       "      <td>0</td>\n",
       "      <td>2</td>\n",
       "      <td>157</td>\n",
       "      <td>0</td>\n",
       "      <td>1.2</td>\n",
       "      <td>2</td>\n",
       "      <td>0.0</td>\n",
       "      <td>3.0</td>\n",
       "    </tr>\n",
       "    <tr>\n",
       "      <th>136</th>\n",
       "      <td>70</td>\n",
       "      <td>1</td>\n",
       "      <td>4</td>\n",
       "      <td>145</td>\n",
       "      <td>174</td>\n",
       "      <td>0</td>\n",
       "      <td>0</td>\n",
       "      <td>125</td>\n",
       "      <td>1</td>\n",
       "      <td>2.6</td>\n",
       "      <td>3</td>\n",
       "      <td>0.0</td>\n",
       "      <td>7.0</td>\n",
       "    </tr>\n",
       "    <tr>\n",
       "      <th>2</th>\n",
       "      <td>67</td>\n",
       "      <td>1</td>\n",
       "      <td>4</td>\n",
       "      <td>120</td>\n",
       "      <td>229</td>\n",
       "      <td>0</td>\n",
       "      <td>2</td>\n",
       "      <td>129</td>\n",
       "      <td>1</td>\n",
       "      <td>2.6</td>\n",
       "      <td>2</td>\n",
       "      <td>2.0</td>\n",
       "      <td>7.0</td>\n",
       "    </tr>\n",
       "    <tr>\n",
       "      <th>189</th>\n",
       "      <td>69</td>\n",
       "      <td>1</td>\n",
       "      <td>3</td>\n",
       "      <td>140</td>\n",
       "      <td>254</td>\n",
       "      <td>0</td>\n",
       "      <td>2</td>\n",
       "      <td>146</td>\n",
       "      <td>0</td>\n",
       "      <td>2.0</td>\n",
       "      <td>2</td>\n",
       "      <td>3.0</td>\n",
       "      <td>7.0</td>\n",
       "    </tr>\n",
       "    <tr>\n",
       "      <th>16</th>\n",
       "      <td>48</td>\n",
       "      <td>1</td>\n",
       "      <td>2</td>\n",
       "      <td>110</td>\n",
       "      <td>229</td>\n",
       "      <td>0</td>\n",
       "      <td>0</td>\n",
       "      <td>168</td>\n",
       "      <td>0</td>\n",
       "      <td>1.0</td>\n",
       "      <td>3</td>\n",
       "      <td>0.0</td>\n",
       "      <td>7.0</td>\n",
       "    </tr>\n",
       "  </tbody>\n",
       "</table>\n",
       "<p>242 rows × 13 columns</p>\n",
       "</div>"
      ],
      "text/plain": [
       "     age  sex  cp  trestbps  chol  fbs  restecg  thalach  exang  oldpeak  \\\n",
       "180   48    1   4       124   274    0        2      166      0      0.5   \n",
       "208   55    1   2       130   262    0        0      155      0      0.0   \n",
       "167   54    0   2       132   288    1        2      159      1      0.0   \n",
       "105   54    1   2       108   309    0        0      156      0      0.0   \n",
       "297   57    0   4       140   241    0        0      123      1      0.2   \n",
       "..   ...  ...  ..       ...   ...  ...      ...      ...    ...      ...   \n",
       "173   62    0   4       140   394    0        2      157      0      1.2   \n",
       "136   70    1   4       145   174    0        0      125      1      2.6   \n",
       "2     67    1   4       120   229    0        2      129      1      2.6   \n",
       "189   69    1   3       140   254    0        2      146      0      2.0   \n",
       "16    48    1   2       110   229    0        0      168      0      1.0   \n",
       "\n",
       "     slope   ca  thal  \n",
       "180      2  0.0   7.0  \n",
       "208      1  0.0   3.0  \n",
       "167      1  1.0   3.0  \n",
       "105      1  0.0   7.0  \n",
       "297      2  0.0   7.0  \n",
       "..     ...  ...   ...  \n",
       "173      2  0.0   3.0  \n",
       "136      3  0.0   7.0  \n",
       "2        2  2.0   7.0  \n",
       "189      2  3.0   7.0  \n",
       "16       3  0.0   7.0  \n",
       "\n",
       "[242 rows x 13 columns]"
      ]
     },
     "execution_count": 24,
     "metadata": {},
     "output_type": "execute_result"
    }
   ],
   "source": [
    "\n",
    "x_train, x_test, y_train, y_test = train_test_split(patientDf. loc[:, patientDf. columns != 'num'],patientDf['num'], random_state = 42, stratify=patientDf.num, test_size = .20)\n",
    "x_train"
   ]
  },
  {
   "cell_type": "markdown",
   "id": "d69aa61b",
   "metadata": {
    "papermill": {
     "duration": 0.027649,
     "end_time": "2022-06-12T10:21:29.608966",
     "exception": false,
     "start_time": "2022-06-12T10:21:29.581317",
     "status": "completed"
    },
    "pycharm": {
     "name": "#%% md\n"
    },
    "tags": []
   },
   "source": [
    "### Imputation"
   ]
  },
  {
   "cell_type": "code",
   "execution_count": 25,
   "id": "1ece102f",
   "metadata": {
    "execution": {
     "iopub.execute_input": "2022-06-12T10:21:29.665853Z",
     "iopub.status.busy": "2022-06-12T10:21:29.665266Z",
     "iopub.status.idle": "2022-06-12T10:21:29.671326Z",
     "shell.execute_reply": "2022-06-12T10:21:29.670502Z"
    },
    "papermill": {
     "duration": 0.036761,
     "end_time": "2022-06-12T10:21:29.673422",
     "exception": false,
     "start_time": "2022-06-12T10:21:29.636661",
     "status": "completed"
    },
    "pycharm": {
     "name": "#%%\n"
    },
    "tags": []
   },
   "outputs": [],
   "source": [
    "from sklearn.base import BaseEstimator, TransformerMixin\n",
    "from sklearn.pipeline import Pipeline\n",
    "\n",
    "class FeatureSelector(BaseEstimator, TransformerMixin):\n",
    "    def __init__(self, columns):\n",
    "        self.columns = columns\n",
    "\n",
    "    def fit(self, X, y=None):\n",
    "        return self\n",
    "\n",
    "    def transform(self, X, y=None):\n",
    "        return X[self.columns]"
   ]
  },
  {
   "cell_type": "code",
   "execution_count": 26,
   "id": "d8f3de21",
   "metadata": {
    "execution": {
     "iopub.execute_input": "2022-06-12T10:21:29.729939Z",
     "iopub.status.busy": "2022-06-12T10:21:29.729291Z",
     "iopub.status.idle": "2022-06-12T10:21:29.739707Z",
     "shell.execute_reply": "2022-06-12T10:21:29.738565Z"
    },
    "papermill": {
     "duration": 0.041167,
     "end_time": "2022-06-12T10:21:29.741825",
     "exception": false,
     "start_time": "2022-06-12T10:21:29.700658",
     "status": "completed"
    },
    "pycharm": {
     "name": "#%%\n"
    },
    "tags": []
   },
   "outputs": [],
   "source": [
    "from sklearn.compose import make_column_selector\n",
    "from sklearn.pipeline import FeatureUnion\n",
    "from sklearn.preprocessing import LabelEncoder, OrdinalEncoder\n",
    "from sklearn.experimental import enable_iterative_imputer\n",
    "from sklearn.impute import IterativeImputer\n",
    "from sklearn.ensemble import RandomForestRegressor, RandomForestClassifier\n",
    "\n",
    "# num_imp=Pipeline([\n",
    "#        (\"selector\", ColumnTransformer([\n",
    "#         (\"selector\", \"passthrough\", quantitativeVariables)], remainder=\"drop\")),\n",
    "#  ('Imputation',IterativeImputer(estimator=RandomForestRegressor(n_jobs=-1),\n",
    "#                            initial_strategy='most_frequent',\n",
    "#                            max_iter=4,skip_complete=True ,random_state=0),),\n",
    "# ])\n",
    "\n",
    "# cat_imp=Pipeline([\n",
    "#        (\"selector\", ColumnTransformer([\n",
    "#         (\"selector\", \"passthrough\", quatitativeVariables)], remainder=\"drop\")),\n",
    "#      ('Imputation',IterativeImputer(estimator=RandomForestClassifier(n_jobs=-1),\n",
    "#                            initial_strategy='most_frequent',\n",
    "#                            max_iter=4,skip_complete=True,random_state=0),),\n",
    "# ])\n",
    "num_imp=Pipeline([\n",
    "       (\"selector\", ColumnTransformer([\n",
    "        (\"selector\", \"passthrough\", quantitativeVariables)], remainder=\"drop\")),\n",
    " ('Imputation',KNNImputer(n_neighbors=5,weights='uniform'))\n",
    "])\n",
    "\n",
    "cat_imp=Pipeline([\n",
    "       (\"selector\", ColumnTransformer([\n",
    "        (\"selector\", \"passthrough\", quatitativeVariables)], remainder=\"drop\")),\n",
    "        ('Imputation',KNNImputer(n_neighbors=1,weights='uniform'))\n",
    "])\n",
    "\n",
    "\n",
    "preproc = FeatureUnion([\n",
    "    ('num_pipe', num_imp),\n",
    "    ('cat_pipe', cat_imp)\n",
    "])"
   ]
  },
  {
   "cell_type": "code",
   "execution_count": 27,
   "id": "a97bb8b0",
   "metadata": {
    "execution": {
     "iopub.execute_input": "2022-06-12T10:21:29.798700Z",
     "iopub.status.busy": "2022-06-12T10:21:29.798015Z",
     "iopub.status.idle": "2022-06-12T10:21:29.804299Z",
     "shell.execute_reply": "2022-06-12T10:21:29.803501Z"
    },
    "papermill": {
     "duration": 0.0374,
     "end_time": "2022-06-12T10:21:29.806601",
     "exception": false,
     "start_time": "2022-06-12T10:21:29.769201",
     "status": "completed"
    },
    "pycharm": {
     "name": "#%%\n"
    },
    "tags": []
   },
   "outputs": [],
   "source": [
    "columnIteraate=quantitativeVariables+quatitativeVariables\n",
    "class DfConverter():\n",
    "    def __init__(self):\n",
    "        super().__init__()\n",
    "\n",
    "    def fit_transform(self, X, y=None):\n",
    "        return self.transform(X=X, y=y)\n",
    "\n",
    "    def transform(self, X, y=None):\n",
    "        df = pd.DataFrame(X,columns=columnIteraate)\n",
    "        return df\n",
    "\n",
    "    def fit(self, X, y=None):\n",
    "        return self\n"
   ]
  },
  {
   "cell_type": "markdown",
   "id": "c521a2aa",
   "metadata": {
    "papermill": {
     "duration": 0.027001,
     "end_time": "2022-06-12T10:21:29.861212",
     "exception": false,
     "start_time": "2022-06-12T10:21:29.834211",
     "status": "completed"
    },
    "pycharm": {
     "name": "#%% md\n"
    },
    "tags": []
   },
   "source": [
    "### Feature Selection"
   ]
  },
  {
   "cell_type": "code",
   "execution_count": 28,
   "id": "9fafc48b",
   "metadata": {
    "execution": {
     "iopub.execute_input": "2022-06-12T10:21:29.918547Z",
     "iopub.status.busy": "2022-06-12T10:21:29.917972Z",
     "iopub.status.idle": "2022-06-12T10:21:59.346185Z",
     "shell.execute_reply": "2022-06-12T10:21:59.345242Z"
    },
    "papermill": {
     "duration": 29.459363,
     "end_time": "2022-06-12T10:21:59.348149",
     "exception": false,
     "start_time": "2022-06-12T10:21:29.888786",
     "status": "completed"
    },
    "pycharm": {
     "name": "#%%\n"
    },
    "tags": []
   },
   "outputs": [
    {
     "data": {
      "text/plain": [
       "Text(0.5, 1.0, 'Number of feature selected')"
      ]
     },
     "execution_count": 28,
     "metadata": {},
     "output_type": "execute_result"
    },
    {
     "data": {
      "image/png": "[encoded data removed]",
      "text/plain": [
       "<Figure size 432x288 with 1 Axes>"
      ]
     },
     "metadata": {
      "needs_background": "light"
     },
     "output_type": "display_data"
    }
   ],
   "source": [
    "selectionRecord=pd.DataFrame({'no':[],'score':[]})\n",
    "for i in range(1,25):\n",
    "    Final = Pipeline([\n",
    "            ('Imputer',preproc),\n",
    "    ('DfConverter',DfConverter()),\n",
    "    ('Data Preprocessing', data_preprocessing),\n",
    "    ('Kbest',SelectKBest(chi2,k=i)),\n",
    "    ('Model',   xgb.XGBClassifier())\n",
    "])\n",
    "    selectionRecord=pd.concat([selectionRecord,pd.DataFrame({'no':[i],'score':[cross_validate(Final,x_train,y_train,cv=StratifiedKFold(n_splits = 5, shuffle = True, random_state = 0,),scoring=['recall'],n_jobs=-1,return_estimator=True,return_train_score=True)['test_recall'].mean()]})],ignore_index=True)\n",
    "\n",
    "\n",
    "sns.lineplot(x='no',y='score',data=selectionRecord).set_title('Number of feature selected')"
   ]
  },
  {
   "cell_type": "code",
   "execution_count": 29,
   "id": "c3901dee",
   "metadata": {
    "execution": {
     "iopub.execute_input": "2022-06-12T10:21:59.405168Z",
     "iopub.status.busy": "2022-06-12T10:21:59.404781Z",
     "iopub.status.idle": "2022-06-12T10:21:59.416468Z",
     "shell.execute_reply": "2022-06-12T10:21:59.415696Z"
    },
    "papermill": {
     "duration": 0.041687,
     "end_time": "2022-06-12T10:21:59.418427",
     "exception": false,
     "start_time": "2022-06-12T10:21:59.376740",
     "status": "completed"
    },
    "pycharm": {
     "name": "#%%\n"
    },
    "tags": []
   },
   "outputs": [
    {
     "data": {
      "text/html": [
       "<div>\n",
       "<style scoped>\n",
       "    .dataframe tbody tr th:only-of-type {\n",
       "        vertical-align: middle;\n",
       "    }\n",
       "\n",
       "    .dataframe tbody tr th {\n",
       "        vertical-align: top;\n",
       "    }\n",
       "\n",
       "    .dataframe thead th {\n",
       "        text-align: right;\n",
       "    }\n",
       "</style>\n",
       "<table border=\"1\" class=\"dataframe\">\n",
       "  <thead>\n",
       "    <tr style=\"text-align: right;\">\n",
       "      <th></th>\n",
       "      <th>no</th>\n",
       "      <th>score</th>\n",
       "    </tr>\n",
       "  </thead>\n",
       "  <tbody>\n",
       "    <tr>\n",
       "      <th>0</th>\n",
       "      <td>1.0</td>\n",
       "      <td>0.676285</td>\n",
       "    </tr>\n",
       "    <tr>\n",
       "      <th>1</th>\n",
       "      <td>2.0</td>\n",
       "      <td>0.657708</td>\n",
       "    </tr>\n",
       "    <tr>\n",
       "      <th>2</th>\n",
       "      <td>3.0</td>\n",
       "      <td>0.648617</td>\n",
       "    </tr>\n",
       "    <tr>\n",
       "      <th>3</th>\n",
       "      <td>4.0</td>\n",
       "      <td>0.711067</td>\n",
       "    </tr>\n",
       "    <tr>\n",
       "      <th>4</th>\n",
       "      <td>5.0</td>\n",
       "      <td>0.730040</td>\n",
       "    </tr>\n",
       "    <tr>\n",
       "      <th>5</th>\n",
       "      <td>6.0</td>\n",
       "      <td>0.766008</td>\n",
       "    </tr>\n",
       "    <tr>\n",
       "      <th>6</th>\n",
       "      <td>7.0</td>\n",
       "      <td>0.757312</td>\n",
       "    </tr>\n",
       "    <tr>\n",
       "      <th>7</th>\n",
       "      <td>8.0</td>\n",
       "      <td>0.775494</td>\n",
       "    </tr>\n",
       "    <tr>\n",
       "      <th>8</th>\n",
       "      <td>9.0</td>\n",
       "      <td>0.784190</td>\n",
       "    </tr>\n",
       "    <tr>\n",
       "      <th>9</th>\n",
       "      <td>10.0</td>\n",
       "      <td>0.775099</td>\n",
       "    </tr>\n",
       "    <tr>\n",
       "      <th>10</th>\n",
       "      <td>11.0</td>\n",
       "      <td>0.793281</td>\n",
       "    </tr>\n",
       "    <tr>\n",
       "      <th>11</th>\n",
       "      <td>12.0</td>\n",
       "      <td>0.729644</td>\n",
       "    </tr>\n",
       "    <tr>\n",
       "      <th>12</th>\n",
       "      <td>13.0</td>\n",
       "      <td>0.729644</td>\n",
       "    </tr>\n",
       "    <tr>\n",
       "      <th>13</th>\n",
       "      <td>14.0</td>\n",
       "      <td>0.720553</td>\n",
       "    </tr>\n",
       "    <tr>\n",
       "      <th>14</th>\n",
       "      <td>15.0</td>\n",
       "      <td>0.729644</td>\n",
       "    </tr>\n",
       "    <tr>\n",
       "      <th>15</th>\n",
       "      <td>16.0</td>\n",
       "      <td>0.747826</td>\n",
       "    </tr>\n",
       "    <tr>\n",
       "      <th>16</th>\n",
       "      <td>17.0</td>\n",
       "      <td>0.738735</td>\n",
       "    </tr>\n",
       "    <tr>\n",
       "      <th>17</th>\n",
       "      <td>18.0</td>\n",
       "      <td>0.738735</td>\n",
       "    </tr>\n",
       "    <tr>\n",
       "      <th>18</th>\n",
       "      <td>19.0</td>\n",
       "      <td>0.738735</td>\n",
       "    </tr>\n",
       "    <tr>\n",
       "      <th>19</th>\n",
       "      <td>20.0</td>\n",
       "      <td>0.747826</td>\n",
       "    </tr>\n",
       "    <tr>\n",
       "      <th>20</th>\n",
       "      <td>21.0</td>\n",
       "      <td>0.739130</td>\n",
       "    </tr>\n",
       "    <tr>\n",
       "      <th>21</th>\n",
       "      <td>22.0</td>\n",
       "      <td>0.730040</td>\n",
       "    </tr>\n",
       "    <tr>\n",
       "      <th>22</th>\n",
       "      <td>23.0</td>\n",
       "      <td>0.756522</td>\n",
       "    </tr>\n",
       "    <tr>\n",
       "      <th>23</th>\n",
       "      <td>24.0</td>\n",
       "      <td>0.756522</td>\n",
       "    </tr>\n",
       "  </tbody>\n",
       "</table>\n",
       "</div>"
      ],
      "text/plain": [
       "      no     score\n",
       "0    1.0  0.676285\n",
       "1    2.0  0.657708\n",
       "2    3.0  0.648617\n",
       "3    4.0  0.711067\n",
       "4    5.0  0.730040\n",
       "5    6.0  0.766008\n",
       "6    7.0  0.757312\n",
       "7    8.0  0.775494\n",
       "8    9.0  0.784190\n",
       "9   10.0  0.775099\n",
       "10  11.0  0.793281\n",
       "11  12.0  0.729644\n",
       "12  13.0  0.729644\n",
       "13  14.0  0.720553\n",
       "14  15.0  0.729644\n",
       "15  16.0  0.747826\n",
       "16  17.0  0.738735\n",
       "17  18.0  0.738735\n",
       "18  19.0  0.738735\n",
       "19  20.0  0.747826\n",
       "20  21.0  0.739130\n",
       "21  22.0  0.730040\n",
       "22  23.0  0.756522\n",
       "23  24.0  0.756522"
      ]
     },
     "execution_count": 29,
     "metadata": {},
     "output_type": "execute_result"
    }
   ],
   "source": [
    "selectionRecord"
   ]
  },
  {
   "cell_type": "markdown",
   "id": "8c0e996b",
   "metadata": {
    "papermill": {
     "duration": 0.026901,
     "end_time": "2022-06-12T10:21:59.473309",
     "exception": false,
     "start_time": "2022-06-12T10:21:59.446408",
     "status": "completed"
    },
    "pycharm": {
     "name": "#%% md\n"
    },
    "tags": []
   },
   "source": [
    "# Model and Evalutaion"
   ]
  },
  {
   "cell_type": "code",
   "execution_count": 30,
   "id": "6e8880f2",
   "metadata": {
    "execution": {
     "iopub.execute_input": "2022-06-12T10:21:59.530028Z",
     "iopub.status.busy": "2022-06-12T10:21:59.529460Z",
     "iopub.status.idle": "2022-06-12T10:21:59.538936Z",
     "shell.execute_reply": "2022-06-12T10:21:59.538196Z"
    },
    "papermill": {
     "duration": 0.040805,
     "end_time": "2022-06-12T10:21:59.541025",
     "exception": false,
     "start_time": "2022-06-12T10:21:59.500220",
     "status": "completed"
    },
    "pycharm": {
     "name": "#%%\n"
    },
    "tags": []
   },
   "outputs": [],
   "source": [
    "def scoreModel(clf,x,y,algName=None,record=pd.DataFrame({'name':[],'train_accuracy':[],'test_accuracy':[],'test_recall':[],'train_recall':[]})):\n",
    "    '''\n",
    "    This function is used for model evaluation . This function use scikit-learn library to carry out cross validation using StratifiedKFold. The scoring metrics are accuracy and balanced accuracy\n",
    "\n",
    "    :param clf: Classifier 分类器\n",
    "    :param x:Train Data X(Data)  训练数据 （数据）\n",
    "    :param y:Train Data Y(Result)  训练数据（结果）\n",
    "    :param algName: Name of Algorithm used for recording 算法名字\n",
    "    :param record: History record dataframe 在历史记录上叠加结果\n",
    "    :return:\n",
    "    This function return 3 variable: 这个函数返回三个参数\n",
    "    record: Dataframe with current and past record(if there is any)\n",
    "    current: Dataframe with current record\n",
    "    lr: Learning curve\n",
    "    '''\n",
    "    score=cross_validate(clf,x,y,cv=StratifiedKFold(n_splits = 5, shuffle = True, random_state = 0,),scoring=['accuracy','recall'],n_jobs=-1,return_estimator=True,return_train_score=True)\n",
    "    current=pd.DataFrame({'name':[algName],'train_accuracy':score['train_accuracy'].mean(),'test_accuracy':score['test_accuracy'].mean(),'test_recall':score['test_recall'].mean(),'train_recall':score['train_recall'].mean()})\n",
    "    record=pd.concat([record,current],ignore_index=True)\n",
    "    lr = learning_curve(clf, x, y, scoring = 'recall', cv = StratifiedKFold(n_splits = 5, shuffle = True, random_state = 0,), n_jobs=-1)\n",
    "    return record,current,lr\n",
    "\n"
   ]
  },
  {
   "cell_type": "markdown",
   "id": "78511341",
   "metadata": {
    "papermill": {
     "duration": 0.026824,
     "end_time": "2022-06-12T10:21:59.595086",
     "exception": false,
     "start_time": "2022-06-12T10:21:59.568262",
     "status": "completed"
    },
    "pycharm": {
     "name": "#%% md\n"
    },
    "tags": []
   },
   "source": [
    "## Baseline Model"
   ]
  },
  {
   "cell_type": "code",
   "execution_count": 31,
   "id": "6ddc2463",
   "metadata": {
    "execution": {
     "iopub.execute_input": "2022-06-12T10:21:59.652145Z",
     "iopub.status.busy": "2022-06-12T10:21:59.651502Z",
     "iopub.status.idle": "2022-06-12T10:22:00.648126Z",
     "shell.execute_reply": "2022-06-12T10:22:00.647031Z"
    },
    "papermill": {
     "duration": 1.027616,
     "end_time": "2022-06-12T10:22:00.650435",
     "exception": false,
     "start_time": "2022-06-12T10:21:59.622819",
     "status": "completed"
    },
    "pycharm": {
     "name": "#%%\n"
    },
    "tags": []
   },
   "outputs": [
    {
     "data": {
      "image/png": "[encoded data removed]",
      "text/plain": [
       "<Figure size 432x288 with 1 Axes>"
      ]
     },
     "metadata": {
      "needs_background": "light"
     },
     "output_type": "display_data"
    },
    {
     "data": {
      "text/html": [
       "<div>\n",
       "<style scoped>\n",
       "    .dataframe tbody tr th:only-of-type {\n",
       "        vertical-align: middle;\n",
       "    }\n",
       "\n",
       "    .dataframe tbody tr th {\n",
       "        vertical-align: top;\n",
       "    }\n",
       "\n",
       "    .dataframe thead th {\n",
       "        text-align: right;\n",
       "    }\n",
       "</style>\n",
       "<table border=\"1\" class=\"dataframe\">\n",
       "  <thead>\n",
       "    <tr style=\"text-align: right;\">\n",
       "      <th></th>\n",
       "      <th>name</th>\n",
       "      <th>train_accuracy</th>\n",
       "      <th>test_accuracy</th>\n",
       "      <th>test_recall</th>\n",
       "      <th>train_recall</th>\n",
       "    </tr>\n",
       "  </thead>\n",
       "  <tbody>\n",
       "    <tr>\n",
       "      <th>0</th>\n",
       "      <td>Dummy Baseline Classifier</td>\n",
       "      <td>0.541323</td>\n",
       "      <td>0.541327</td>\n",
       "      <td>0.0</td>\n",
       "      <td>0.0</td>\n",
       "    </tr>\n",
       "  </tbody>\n",
       "</table>\n",
       "</div>"
      ],
      "text/plain": [
       "                        name  train_accuracy  test_accuracy  test_recall  \\\n",
       "0  Dummy Baseline Classifier        0.541323       0.541327          0.0   \n",
       "\n",
       "   train_recall  \n",
       "0           0.0  "
      ]
     },
     "execution_count": 31,
     "metadata": {},
     "output_type": "execute_result"
    }
   ],
   "source": [
    "\n",
    "from sklearn.feature_selection import chi2\n",
    "\n",
    "baseline = Pipeline([\n",
    "    ('Imputer',preproc),\n",
    "    ('DfConverter',DfConverter()),\n",
    "    ('Data Preprocessing', data_preprocessing),\n",
    "    ('Kbest',SelectKBest(chi2,k=6)),\n",
    "    ('Model', DummyClassifier())\n",
    "])\n",
    "record,current,lr=scoreModel(baseline,x_train,y_train,\"Dummy Baseline Classifier\")\n",
    "current"
   ]
  },
  {
   "cell_type": "markdown",
   "id": "4baef18c",
   "metadata": {
    "papermill": {
     "duration": 0.027656,
     "end_time": "2022-06-12T10:22:00.706525",
     "exception": false,
     "start_time": "2022-06-12T10:22:00.678869",
     "status": "completed"
    },
    "pycharm": {
     "name": "#%% md\n"
    },
    "tags": []
   },
   "source": []
  },
  {
   "cell_type": "markdown",
   "id": "f1077cc6",
   "metadata": {
    "papermill": {
     "duration": 0.028316,
     "end_time": "2022-06-12T10:22:00.764256",
     "exception": false,
     "start_time": "2022-06-12T10:22:00.735940",
     "status": "completed"
    },
    "pycharm": {
     "name": "#%% md\n"
    },
    "tags": []
   },
   "source": [
    "## Logistical Regression"
   ]
  },
  {
   "cell_type": "code",
   "execution_count": 32,
   "id": "0fa8096b",
   "metadata": {
    "execution": {
     "iopub.execute_input": "2022-06-12T10:22:00.823441Z",
     "iopub.status.busy": "2022-06-12T10:22:00.822687Z",
     "iopub.status.idle": "2022-06-12T10:22:01.882316Z",
     "shell.execute_reply": "2022-06-12T10:22:01.881365Z"
    },
    "papermill": {
     "duration": 1.092086,
     "end_time": "2022-06-12T10:22:01.884968",
     "exception": false,
     "start_time": "2022-06-12T10:22:00.792882",
     "status": "completed"
    },
    "pycharm": {
     "name": "#%%\n"
    },
    "tags": []
   },
   "outputs": [
    {
     "data": {
      "image/png": "[encoded data removed]",
      "text/plain": [
       "<Figure size 432x288 with 1 Axes>"
      ]
     },
     "metadata": {
      "needs_background": "light"
     },
     "output_type": "display_data"
    },
    {
     "data": {
      "text/html": [
       "<div>\n",
       "<style scoped>\n",
       "    .dataframe tbody tr th:only-of-type {\n",
       "        vertical-align: middle;\n",
       "    }\n",
       "\n",
       "    .dataframe tbody tr th {\n",
       "        vertical-align: top;\n",
       "    }\n",
       "\n",
       "    .dataframe thead th {\n",
       "        text-align: right;\n",
       "    }\n",
       "</style>\n",
       "<table border=\"1\" class=\"dataframe\">\n",
       "  <thead>\n",
       "    <tr style=\"text-align: right;\">\n",
       "      <th></th>\n",
       "      <th>name</th>\n",
       "      <th>train_accuracy</th>\n",
       "      <th>test_accuracy</th>\n",
       "      <th>test_recall</th>\n",
       "      <th>train_recall</th>\n",
       "    </tr>\n",
       "  </thead>\n",
       "  <tbody>\n",
       "    <tr>\n",
       "      <th>0</th>\n",
       "      <td>Logistic Regression</td>\n",
       "      <td>0.842984</td>\n",
       "      <td>0.826276</td>\n",
       "      <td>0.79249</td>\n",
       "      <td>0.790577</td>\n",
       "    </tr>\n",
       "  </tbody>\n",
       "</table>\n",
       "</div>"
      ],
      "text/plain": [
       "                  name  train_accuracy  test_accuracy  test_recall  \\\n",
       "0  Logistic Regression        0.842984       0.826276      0.79249   \n",
       "\n",
       "   train_recall  \n",
       "0      0.790577  "
      ]
     },
     "execution_count": 32,
     "metadata": {},
     "output_type": "execute_result"
    }
   ],
   "source": [
    "logreg = Pipeline([\n",
    "     ('Imputer',preproc),\n",
    "    ('DfConverter',DfConverter()),\n",
    "    ('Data Preprocessing', data_preprocessing),\n",
    "      ('Kbest',SelectKBest(chi2,k=6)),\n",
    "    ('Model', LogisticRegression(solver='lbfgs'))\n",
    "])\n",
    "record,current,lr=scoreModel(logreg,x_train,y_train,\"Logistic Regression\",record=record)\n",
    "current\n"
   ]
  },
  {
   "cell_type": "markdown",
   "id": "f482213a",
   "metadata": {
    "papermill": {
     "duration": 0.031078,
     "end_time": "2022-06-12T10:22:01.945970",
     "exception": false,
     "start_time": "2022-06-12T10:22:01.914892",
     "status": "completed"
    },
    "pycharm": {
     "name": "#%% md\n"
    },
    "tags": []
   },
   "source": [
    "## Gaussian Naive Bayes"
   ]
  },
  {
   "cell_type": "code",
   "execution_count": 33,
   "id": "c8e4a0d8",
   "metadata": {
    "execution": {
     "iopub.execute_input": "2022-06-12T10:22:02.007935Z",
     "iopub.status.busy": "2022-06-12T10:22:02.007239Z",
     "iopub.status.idle": "2022-06-12T10:22:03.024571Z",
     "shell.execute_reply": "2022-06-12T10:22:03.023664Z"
    },
    "papermill": {
     "duration": 1.050716,
     "end_time": "2022-06-12T10:22:03.026617",
     "exception": false,
     "start_time": "2022-06-12T10:22:01.975901",
     "status": "completed"
    },
    "pycharm": {
     "name": "#%%\n"
    },
    "tags": []
   },
   "outputs": [
    {
     "data": {
      "image/png": "[encoded data removed]",
      "text/plain": [
       "<Figure size 432x288 with 1 Axes>"
      ]
     },
     "metadata": {
      "needs_background": "light"
     },
     "output_type": "display_data"
    },
    {
     "data": {
      "text/html": [
       "<div>\n",
       "<style scoped>\n",
       "    .dataframe tbody tr th:only-of-type {\n",
       "        vertical-align: middle;\n",
       "    }\n",
       "\n",
       "    .dataframe tbody tr th {\n",
       "        vertical-align: top;\n",
       "    }\n",
       "\n",
       "    .dataframe thead th {\n",
       "        text-align: right;\n",
       "    }\n",
       "</style>\n",
       "<table border=\"1\" class=\"dataframe\">\n",
       "  <thead>\n",
       "    <tr style=\"text-align: right;\">\n",
       "      <th></th>\n",
       "      <th>name</th>\n",
       "      <th>train_accuracy</th>\n",
       "      <th>test_accuracy</th>\n",
       "      <th>test_recall</th>\n",
       "      <th>train_recall</th>\n",
       "    </tr>\n",
       "  </thead>\n",
       "  <tbody>\n",
       "    <tr>\n",
       "      <th>0</th>\n",
       "      <td>Gaussian Naive Bayes</td>\n",
       "      <td>0.81611</td>\n",
       "      <td>0.780697</td>\n",
       "      <td>0.819763</td>\n",
       "      <td>0.83335</td>\n",
       "    </tr>\n",
       "  </tbody>\n",
       "</table>\n",
       "</div>"
      ],
      "text/plain": [
       "                   name  train_accuracy  test_accuracy  test_recall  \\\n",
       "0  Gaussian Naive Bayes         0.81611       0.780697     0.819763   \n",
       "\n",
       "   train_recall  \n",
       "0       0.83335  "
      ]
     },
     "execution_count": 33,
     "metadata": {},
     "output_type": "execute_result"
    }
   ],
   "source": [
    "gaussNB = Pipeline([\n",
    "        ('Imputer',preproc),\n",
    "    ('DfConverter',DfConverter()),\n",
    "    ('Data Preprocessing', data_preprocessing),\n",
    "     ('Kbest',SelectKBest(chi2,k=6)),\n",
    "    ('Model', GaussianNB())\n",
    "])\n",
    "record,current,lr=scoreModel(gaussNB,x_train,y_train,\"Gaussian Naive Bayes\",record=record)\n",
    "current"
   ]
  },
  {
   "cell_type": "markdown",
   "id": "1e115167",
   "metadata": {
    "papermill": {
     "duration": 0.030196,
     "end_time": "2022-06-12T10:22:03.086499",
     "exception": false,
     "start_time": "2022-06-12T10:22:03.056303",
     "status": "completed"
    },
    "pycharm": {
     "name": "#%% md\n"
    },
    "tags": []
   },
   "source": [
    "## Decision Tree"
   ]
  },
  {
   "cell_type": "code",
   "execution_count": 34,
   "id": "a1b2e742",
   "metadata": {
    "execution": {
     "iopub.execute_input": "2022-06-12T10:22:03.148445Z",
     "iopub.status.busy": "2022-06-12T10:22:03.147876Z",
     "iopub.status.idle": "2022-06-12T10:22:04.159524Z",
     "shell.execute_reply": "2022-06-12T10:22:04.158535Z"
    },
    "papermill": {
     "duration": 1.044896,
     "end_time": "2022-06-12T10:22:04.161584",
     "exception": false,
     "start_time": "2022-06-12T10:22:03.116688",
     "status": "completed"
    },
    "pycharm": {
     "name": "#%%\n"
    },
    "tags": []
   },
   "outputs": [
    {
     "data": {
      "image/png": "[encoded data removed]",
      "text/plain": [
       "<Figure size 432x288 with 1 Axes>"
      ]
     },
     "metadata": {
      "needs_background": "light"
     },
     "output_type": "display_data"
    },
    {
     "data": {
      "text/html": [
       "<div>\n",
       "<style scoped>\n",
       "    .dataframe tbody tr th:only-of-type {\n",
       "        vertical-align: middle;\n",
       "    }\n",
       "\n",
       "    .dataframe tbody tr th {\n",
       "        vertical-align: top;\n",
       "    }\n",
       "\n",
       "    .dataframe thead th {\n",
       "        text-align: right;\n",
       "    }\n",
       "</style>\n",
       "<table border=\"1\" class=\"dataframe\">\n",
       "  <thead>\n",
       "    <tr style=\"text-align: right;\">\n",
       "      <th></th>\n",
       "      <th>name</th>\n",
       "      <th>train_accuracy</th>\n",
       "      <th>test_accuracy</th>\n",
       "      <th>test_recall</th>\n",
       "      <th>train_recall</th>\n",
       "    </tr>\n",
       "  </thead>\n",
       "  <tbody>\n",
       "    <tr>\n",
       "      <th>0</th>\n",
       "      <td>Decision Tree Classifier</td>\n",
       "      <td>0.852262</td>\n",
       "      <td>0.801446</td>\n",
       "      <td>0.774308</td>\n",
       "      <td>0.792799</td>\n",
       "    </tr>\n",
       "  </tbody>\n",
       "</table>\n",
       "</div>"
      ],
      "text/plain": [
       "                       name  train_accuracy  test_accuracy  test_recall  \\\n",
       "0  Decision Tree Classifier        0.852262       0.801446     0.774308   \n",
       "\n",
       "   train_recall  \n",
       "0      0.792799  "
      ]
     },
     "execution_count": 34,
     "metadata": {},
     "output_type": "execute_result"
    }
   ],
   "source": [
    "# bestccpAlpha=0.05227\n",
    "DeciTree = Pipeline([\n",
    "        ('Imputer',preproc),\n",
    "    ('DfConverter',DfConverter()),\n",
    "    ('Data Preprocessing', data_preprocessing),\n",
    "      ('Kbest',SelectKBest(chi2,k=6)),\n",
    "    ('model', DecisionTreeClassifier(ccp_alpha=0.00727,max_depth=3,class_weight='balanced',min_samples_leaf=1))\n",
    "])\n",
    "\n",
    "# parameter={'model__max_depth':np.arange(1,8),'model__ccp_alpha':np.arange(0.00627,0.2,0.01)}\n",
    "# pd.DataFrame(GridSearchCV(DeciTree,param_grid=parameter,scoring='recall',n_jobs=-1).fit(x_train,y_train).cv_results_)\n",
    "\n",
    "\n",
    "record,current,lr=scoreModel(DeciTree,x_train,y_train,\"Decision Tree Classifier\",record=record)\n",
    "current"
   ]
  },
  {
   "cell_type": "markdown",
   "id": "5a88b4ff",
   "metadata": {
    "papermill": {
     "duration": 0.032112,
     "end_time": "2022-06-12T10:22:04.224617",
     "exception": false,
     "start_time": "2022-06-12T10:22:04.192505",
     "status": "completed"
    },
    "pycharm": {
     "name": "#%% md\n"
    },
    "tags": []
   },
   "source": [
    "## Random Forest"
   ]
  },
  {
   "cell_type": "code",
   "execution_count": 35,
   "id": "1945b484",
   "metadata": {
    "execution": {
     "iopub.execute_input": "2022-06-12T10:22:04.290201Z",
     "iopub.status.busy": "2022-06-12T10:22:04.289820Z",
     "iopub.status.idle": "2022-06-12T10:22:08.683344Z",
     "shell.execute_reply": "2022-06-12T10:22:08.682495Z"
    },
    "papermill": {
     "duration": 4.429421,
     "end_time": "2022-06-12T10:22:08.685576",
     "exception": false,
     "start_time": "2022-06-12T10:22:04.256155",
     "status": "completed"
    },
    "pycharm": {
     "name": "#%%\n"
    },
    "tags": []
   },
   "outputs": [
    {
     "data": {
      "image/png": "[encoded data removed]",
      "text/plain": [
       "<Figure size 432x288 with 1 Axes>"
      ]
     },
     "metadata": {
      "needs_background": "light"
     },
     "output_type": "display_data"
    },
    {
     "data": {
      "text/html": [
       "<div>\n",
       "<style scoped>\n",
       "    .dataframe tbody tr th:only-of-type {\n",
       "        vertical-align: middle;\n",
       "    }\n",
       "\n",
       "    .dataframe tbody tr th {\n",
       "        vertical-align: top;\n",
       "    }\n",
       "\n",
       "    .dataframe thead th {\n",
       "        text-align: right;\n",
       "    }\n",
       "</style>\n",
       "<table border=\"1\" class=\"dataframe\">\n",
       "  <thead>\n",
       "    <tr style=\"text-align: right;\">\n",
       "      <th></th>\n",
       "      <th>name</th>\n",
       "      <th>train_accuracy</th>\n",
       "      <th>test_accuracy</th>\n",
       "      <th>test_recall</th>\n",
       "      <th>train_recall</th>\n",
       "    </tr>\n",
       "  </thead>\n",
       "  <tbody>\n",
       "    <tr>\n",
       "      <th>0</th>\n",
       "      <td>Random Forest Classifier</td>\n",
       "      <td>0.850206</td>\n",
       "      <td>0.801531</td>\n",
       "      <td>0.793281</td>\n",
       "      <td>0.835649</td>\n",
       "    </tr>\n",
       "  </tbody>\n",
       "</table>\n",
       "</div>"
      ],
      "text/plain": [
       "                       name  train_accuracy  test_accuracy  test_recall  \\\n",
       "0  Random Forest Classifier        0.850206       0.801531     0.793281   \n",
       "\n",
       "   train_recall  \n",
       "0      0.835649  "
      ]
     },
     "execution_count": 35,
     "metadata": {},
     "output_type": "execute_result"
    }
   ],
   "source": [
    "randomFor = Pipeline([\n",
    "        ('Imputer',preproc),\n",
    "    ('DfConverter',DfConverter()),\n",
    "    ('Data Preprocessing', data_preprocessing),\n",
    " ('Kbest',SelectKBest(chi2,k=6)),\n",
    "    ('model', RandomForestClassifier(n_jobs=-1,ccp_alpha=0.00727,max_depth=3,class_weight=\"balanced\",min_samples_leaf=2))\n",
    "])\n",
    "# parameter={'model__max_depth':np.arange(1,9),'model__ccp_alpha':np.arange(0.00827,0.03,0.001)}\n",
    "# pd.DataFrame(GridSearchCV(randomFor,param_grid=parameter,scoring='recall').fit(x_train,y_train).cv_results_)\n",
    "\n",
    "record,current,lr=scoreModel(randomFor,x_train,y_train,\"Random Forest Classifier\",record=record)\n",
    "current"
   ]
  },
  {
   "cell_type": "markdown",
   "id": "561a257b",
   "metadata": {
    "papermill": {
     "duration": 0.032669,
     "end_time": "2022-06-12T10:22:08.749593",
     "exception": false,
     "start_time": "2022-06-12T10:22:08.716924",
     "status": "completed"
    },
    "pycharm": {
     "name": "#%% md\n"
    },
    "tags": []
   },
   "source": [
    "## SVM"
   ]
  },
  {
   "cell_type": "code",
   "execution_count": 36,
   "id": "4399fc85",
   "metadata": {
    "execution": {
     "iopub.execute_input": "2022-06-12T10:22:08.816557Z",
     "iopub.status.busy": "2022-06-12T10:22:08.815914Z",
     "iopub.status.idle": "2022-06-12T10:22:09.814395Z",
     "shell.execute_reply": "2022-06-12T10:22:09.813455Z"
    },
    "papermill": {
     "duration": 1.034916,
     "end_time": "2022-06-12T10:22:09.816403",
     "exception": false,
     "start_time": "2022-06-12T10:22:08.781487",
     "status": "completed"
    },
    "pycharm": {
     "name": "#%%\n"
    },
    "tags": []
   },
   "outputs": [
    {
     "data": {
      "image/png": "[encoded data removed]",
      "text/plain": [
       "<Figure size 432x288 with 1 Axes>"
      ]
     },
     "metadata": {
      "needs_background": "light"
     },
     "output_type": "display_data"
    },
    {
     "data": {
      "text/html": [
       "<div>\n",
       "<style scoped>\n",
       "    .dataframe tbody tr th:only-of-type {\n",
       "        vertical-align: middle;\n",
       "    }\n",
       "\n",
       "    .dataframe tbody tr th {\n",
       "        vertical-align: top;\n",
       "    }\n",
       "\n",
       "    .dataframe thead th {\n",
       "        text-align: right;\n",
       "    }\n",
       "</style>\n",
       "<table border=\"1\" class=\"dataframe\">\n",
       "  <thead>\n",
       "    <tr style=\"text-align: right;\">\n",
       "      <th></th>\n",
       "      <th>name</th>\n",
       "      <th>train_accuracy</th>\n",
       "      <th>test_accuracy</th>\n",
       "      <th>test_recall</th>\n",
       "      <th>train_recall</th>\n",
       "    </tr>\n",
       "  </thead>\n",
       "  <tbody>\n",
       "    <tr>\n",
       "      <th>0</th>\n",
       "      <td>SVM Classifier</td>\n",
       "      <td>0.857438</td>\n",
       "      <td>0.814031</td>\n",
       "      <td>0.756126</td>\n",
       "      <td>0.795097</td>\n",
       "    </tr>\n",
       "  </tbody>\n",
       "</table>\n",
       "</div>"
      ],
      "text/plain": [
       "             name  train_accuracy  test_accuracy  test_recall  train_recall\n",
       "0  SVM Classifier        0.857438       0.814031     0.756126      0.795097"
      ]
     },
     "execution_count": 36,
     "metadata": {},
     "output_type": "execute_result"
    }
   ],
   "source": [
    "\n",
    "svm = Pipeline([\n",
    "        ('Imputer',preproc),\n",
    "    ('DfConverter',DfConverter()),\n",
    "    ('Data Preprocessing', data_preprocessing),\n",
    "      ('Kbest',SelectKBest(chi2,k=6)),\n",
    "    ('model', SVC(C=6))\n",
    "])\n",
    "# parameters = {'model__kernel':('linear', 'rbf'), 'model__C':np.arange(1,10),}\n",
    "# pd.DataFrame(GridSearchCV(svm,param_grid=parameters,scoring='recall',n_jobs=-1).fit(x_train,y_train).cv_results_)\n",
    "\n",
    "record,current,lr=scoreModel(svm,x_train,y_train,\"SVM Classifier\",record=record)\n",
    "current"
   ]
  },
  {
   "cell_type": "markdown",
   "id": "bad4be67",
   "metadata": {
    "papermill": {
     "duration": 0.032886,
     "end_time": "2022-06-12T10:22:09.881432",
     "exception": false,
     "start_time": "2022-06-12T10:22:09.848546",
     "status": "completed"
    },
    "pycharm": {
     "name": "#%% md\n"
    },
    "tags": []
   },
   "source": [
    "## Gradient Boosting Tree"
   ]
  },
  {
   "cell_type": "code",
   "execution_count": 37,
   "id": "72a1b3b0",
   "metadata": {
    "execution": {
     "iopub.execute_input": "2022-06-12T10:22:09.949411Z",
     "iopub.status.busy": "2022-06-12T10:22:09.948162Z",
     "iopub.status.idle": "2022-06-12T10:22:11.722492Z",
     "shell.execute_reply": "2022-06-12T10:22:11.721521Z"
    },
    "papermill": {
     "duration": 1.811505,
     "end_time": "2022-06-12T10:22:11.725082",
     "exception": false,
     "start_time": "2022-06-12T10:22:09.913577",
     "status": "completed"
    },
    "pycharm": {
     "name": "#%%\n"
    },
    "tags": []
   },
   "outputs": [
    {
     "data": {
      "image/png": "[encoded data removed]",
      "text/plain": [
       "<Figure size 432x288 with 1 Axes>"
      ]
     },
     "metadata": {
      "needs_background": "light"
     },
     "output_type": "display_data"
    },
    {
     "data": {
      "text/html": [
       "<div>\n",
       "<style scoped>\n",
       "    .dataframe tbody tr th:only-of-type {\n",
       "        vertical-align: middle;\n",
       "    }\n",
       "\n",
       "    .dataframe tbody tr th {\n",
       "        vertical-align: top;\n",
       "    }\n",
       "\n",
       "    .dataframe thead th {\n",
       "        text-align: right;\n",
       "    }\n",
       "</style>\n",
       "<table border=\"1\" class=\"dataframe\">\n",
       "  <thead>\n",
       "    <tr style=\"text-align: right;\">\n",
       "      <th></th>\n",
       "      <th>name</th>\n",
       "      <th>train_accuracy</th>\n",
       "      <th>test_accuracy</th>\n",
       "      <th>test_recall</th>\n",
       "      <th>train_recall</th>\n",
       "    </tr>\n",
       "  </thead>\n",
       "  <tbody>\n",
       "    <tr>\n",
       "      <th>0</th>\n",
       "      <td>Gradient Boosting Classifier</td>\n",
       "      <td>0.856407</td>\n",
       "      <td>0.801361</td>\n",
       "      <td>0.79249</td>\n",
       "      <td>0.815296</td>\n",
       "    </tr>\n",
       "  </tbody>\n",
       "</table>\n",
       "</div>"
      ],
      "text/plain": [
       "                           name  train_accuracy  test_accuracy  test_recall  \\\n",
       "0  Gradient Boosting Classifier        0.856407       0.801361      0.79249   \n",
       "\n",
       "   train_recall  \n",
       "0      0.815296  "
      ]
     },
     "execution_count": 37,
     "metadata": {},
     "output_type": "execute_result"
    }
   ],
   "source": [
    "\n",
    "gradbt = Pipeline([\n",
    "        ('Imputer',preproc),\n",
    "    ('DfConverter',DfConverter()),\n",
    "    ('Data Preprocessing', data_preprocessing),\n",
    "      ('Kbest',SelectKBest(chi2,k=6)),\n",
    "    ('model', GradientBoostingClassifier(learning_rate=0.060,max_depth=2,min_samples_leaf=6))\n",
    "])\n",
    "\n",
    "# parameter={'model__max_depth':np.arange(1,9),'model__learning_rate':np.arange(0.01,0.05,0.01)}\n",
    "# pd.DataFrame(GridSearchCV(gradbt,param_grid=parameter,scoring='recall',n_jobs=-1).fit(x_train,y_train).cv_results_)\n",
    "\n",
    "record,current,lr=scoreModel(gradbt,x_train,y_train,\"Gradient Boosting Classifier\",record=record)\n",
    "current"
   ]
  },
  {
   "cell_type": "markdown",
   "id": "c31cbf76",
   "metadata": {
    "papermill": {
     "duration": 0.032867,
     "end_time": "2022-06-12T10:22:11.789747",
     "exception": false,
     "start_time": "2022-06-12T10:22:11.756880",
     "status": "completed"
    },
    "pycharm": {
     "name": "#%% md\n"
    },
    "tags": []
   },
   "source": [
    "## XG Boost Classifier"
   ]
  },
  {
   "cell_type": "code",
   "execution_count": 38,
   "id": "a2449ec0",
   "metadata": {
    "execution": {
     "iopub.execute_input": "2022-06-12T10:22:11.855868Z",
     "iopub.status.busy": "2022-06-12T10:22:11.855081Z",
     "iopub.status.idle": "2022-06-12T10:22:13.909039Z",
     "shell.execute_reply": "2022-06-12T10:22:13.908059Z"
    },
    "papermill": {
     "duration": 2.089106,
     "end_time": "2022-06-12T10:22:13.911128",
     "exception": false,
     "start_time": "2022-06-12T10:22:11.822022",
     "status": "completed"
    },
    "pycharm": {
     "name": "#%%\n"
    },
    "tags": []
   },
   "outputs": [
    {
     "data": {
      "image/png": "[encoded data removed]",
      "text/plain": [
       "<Figure size 432x288 with 1 Axes>"
      ]
     },
     "metadata": {
      "needs_background": "light"
     },
     "output_type": "display_data"
    },
    {
     "data": {
      "text/html": [
       "<div>\n",
       "<style scoped>\n",
       "    .dataframe tbody tr th:only-of-type {\n",
       "        vertical-align: middle;\n",
       "    }\n",
       "\n",
       "    .dataframe tbody tr th {\n",
       "        vertical-align: top;\n",
       "    }\n",
       "\n",
       "    .dataframe thead th {\n",
       "        text-align: right;\n",
       "    }\n",
       "</style>\n",
       "<table border=\"1\" class=\"dataframe\">\n",
       "  <thead>\n",
       "    <tr style=\"text-align: right;\">\n",
       "      <th></th>\n",
       "      <th>name</th>\n",
       "      <th>train_accuracy</th>\n",
       "      <th>test_accuracy</th>\n",
       "      <th>test_recall</th>\n",
       "      <th>train_recall</th>\n",
       "    </tr>\n",
       "  </thead>\n",
       "  <tbody>\n",
       "    <tr>\n",
       "      <th>0</th>\n",
       "      <td>XG Boost Classifier</td>\n",
       "      <td>0.837792</td>\n",
       "      <td>0.826276</td>\n",
       "      <td>0.828458</td>\n",
       "      <td>0.808682</td>\n",
       "    </tr>\n",
       "  </tbody>\n",
       "</table>\n",
       "</div>"
      ],
      "text/plain": [
       "                  name  train_accuracy  test_accuracy  test_recall  \\\n",
       "0  XG Boost Classifier        0.837792       0.826276     0.828458   \n",
       "\n",
       "   train_recall  \n",
       "0      0.808682  "
      ]
     },
     "execution_count": 38,
     "metadata": {},
     "output_type": "execute_result"
    }
   ],
   "source": [
    "\n",
    "xgB = Pipeline([\n",
    "        ('Imputer',preproc),\n",
    "    ('DfConverter',DfConverter()),\n",
    "    ('Data Preprocessing', data_preprocessing),\n",
    "    ('Kbest',SelectKBest(chi2,k=6)),\n",
    "    ('model', xgb.XGBClassifier(max_depth=3,n_estimators=15,objective='binary:logistic',booster='gblinear',learning_rate=0.15))\n",
    "])\n",
    "\n",
    "# parameter={'model__max_depth':np.arange(1,10),'model__n_estimators':np.arange(1,11)}\n",
    "# pd.DataFrame(GridSearchCV(xgb,param_grid=parameter,scoring='recall',n_jobs=-1).fit(x_train,y_train).cv_results_)\n",
    "\n",
    "\n",
    "record,current,lr=scoreModel(xgB,x_train,y_train,\"XG Boost Classifier\",record=record)\n",
    "current"
   ]
  },
  {
   "cell_type": "markdown",
   "id": "e65e86e2",
   "metadata": {
    "papermill": {
     "duration": 0.033863,
     "end_time": "2022-06-12T10:22:13.981689",
     "exception": false,
     "start_time": "2022-06-12T10:22:13.947826",
     "status": "completed"
    },
    "pycharm": {
     "name": "#%% md\n"
    },
    "tags": []
   },
   "source": [
    "## AdaBoost Classifier"
   ]
  },
  {
   "cell_type": "code",
   "execution_count": 39,
   "id": "af5a075b",
   "metadata": {
    "execution": {
     "iopub.execute_input": "2022-06-12T10:22:14.063630Z",
     "iopub.status.busy": "2022-06-12T10:22:14.062352Z",
     "iopub.status.idle": "2022-06-12T10:22:15.253097Z",
     "shell.execute_reply": "2022-06-12T10:22:15.251996Z"
    },
    "papermill": {
     "duration": 1.232272,
     "end_time": "2022-06-12T10:22:15.255357",
     "exception": false,
     "start_time": "2022-06-12T10:22:14.023085",
     "status": "completed"
    },
    "pycharm": {
     "name": "#%%\n"
    },
    "tags": []
   },
   "outputs": [
    {
     "data": {
      "image/png": "[encoded data removed]",
      "text/plain": [
       "<Figure size 432x288 with 1 Axes>"
      ]
     },
     "metadata": {
      "needs_background": "light"
     },
     "output_type": "display_data"
    },
    {
     "data": {
      "text/html": [
       "<div>\n",
       "<style scoped>\n",
       "    .dataframe tbody tr th:only-of-type {\n",
       "        vertical-align: middle;\n",
       "    }\n",
       "\n",
       "    .dataframe tbody tr th {\n",
       "        vertical-align: top;\n",
       "    }\n",
       "\n",
       "    .dataframe thead th {\n",
       "        text-align: right;\n",
       "    }\n",
       "</style>\n",
       "<table border=\"1\" class=\"dataframe\">\n",
       "  <thead>\n",
       "    <tr style=\"text-align: right;\">\n",
       "      <th></th>\n",
       "      <th>name</th>\n",
       "      <th>train_accuracy</th>\n",
       "      <th>test_accuracy</th>\n",
       "      <th>test_recall</th>\n",
       "      <th>train_recall</th>\n",
       "    </tr>\n",
       "  </thead>\n",
       "  <tbody>\n",
       "    <tr>\n",
       "      <th>0</th>\n",
       "      <td>AdaBoost Classifier</td>\n",
       "      <td>0.845056</td>\n",
       "      <td>0.813861</td>\n",
       "      <td>0.792095</td>\n",
       "      <td>0.808504</td>\n",
       "    </tr>\n",
       "  </tbody>\n",
       "</table>\n",
       "</div>"
      ],
      "text/plain": [
       "                  name  train_accuracy  test_accuracy  test_recall  \\\n",
       "0  AdaBoost Classifier        0.845056       0.813861     0.792095   \n",
       "\n",
       "   train_recall  \n",
       "0      0.808504  "
      ]
     },
     "execution_count": 39,
     "metadata": {},
     "output_type": "execute_result"
    }
   ],
   "source": [
    "lgbmC = Pipeline([\n",
    "        ('Imputer',preproc),\n",
    "    ('DfConverter',DfConverter()),\n",
    "    ('Data Preprocessing', data_preprocessing),\n",
    "    ('Kbest',SelectKBest(chi2,k=6)),\n",
    "    ('model', AdaBoostClassifier(learning_rate=0.72,n_estimators=6))\n",
    "])\n",
    "\n",
    "\n",
    "# parameter={'model__n_estimators':np.arange(1,13),'model__learning_rate':np.arange(0.1,2,0.01)}\n",
    "#\n",
    "# pd.DataFrame(GridSearchCV(lgbmC,param_grid=parameter,scoring='recall',n_jobs=-1).fit(x_train,y_train).cv_results_)\n",
    "\n",
    "record,current,lr=scoreModel(lgbmC,x_train,y_train,\"AdaBoost Classifier\",record=record)\n",
    "current"
   ]
  },
  {
   "cell_type": "markdown",
   "id": "f8ae1273",
   "metadata": {
    "papermill": {
     "duration": 0.037456,
     "end_time": "2022-06-12T10:22:15.329387",
     "exception": false,
     "start_time": "2022-06-12T10:22:15.291931",
     "status": "completed"
    },
    "pycharm": {
     "name": "#%% md\n"
    },
    "tags": []
   },
   "source": [
    "## K-Nearest Neighbour"
   ]
  },
  {
   "cell_type": "code",
   "execution_count": 40,
   "id": "9df24456",
   "metadata": {
    "execution": {
     "iopub.execute_input": "2022-06-12T10:22:15.407307Z",
     "iopub.status.busy": "2022-06-12T10:22:15.406465Z",
     "iopub.status.idle": "2022-06-12T10:22:16.531657Z",
     "shell.execute_reply": "2022-06-12T10:22:16.530526Z"
    },
    "papermill": {
     "duration": 1.168783,
     "end_time": "2022-06-12T10:22:16.533827",
     "exception": false,
     "start_time": "2022-06-12T10:22:15.365044",
     "status": "completed"
    },
    "pycharm": {
     "name": "#%%\n"
    },
    "tags": []
   },
   "outputs": [
    {
     "data": {
      "image/png": "[encoded data removed]",
      "text/plain": [
       "<Figure size 432x288 with 1 Axes>"
      ]
     },
     "metadata": {
      "needs_background": "light"
     },
     "output_type": "display_data"
    },
    {
     "data": {
      "text/html": [
       "<div>\n",
       "<style scoped>\n",
       "    .dataframe tbody tr th:only-of-type {\n",
       "        vertical-align: middle;\n",
       "    }\n",
       "\n",
       "    .dataframe tbody tr th {\n",
       "        vertical-align: top;\n",
       "    }\n",
       "\n",
       "    .dataframe thead th {\n",
       "        text-align: right;\n",
       "    }\n",
       "</style>\n",
       "<table border=\"1\" class=\"dataframe\">\n",
       "  <thead>\n",
       "    <tr style=\"text-align: right;\">\n",
       "      <th></th>\n",
       "      <th>name</th>\n",
       "      <th>train_accuracy</th>\n",
       "      <th>test_accuracy</th>\n",
       "      <th>test_recall</th>\n",
       "      <th>train_recall</th>\n",
       "    </tr>\n",
       "  </thead>\n",
       "  <tbody>\n",
       "    <tr>\n",
       "      <th>0</th>\n",
       "      <td>K-Nearest Neighbour Classifier</td>\n",
       "      <td>0.851237</td>\n",
       "      <td>0.822194</td>\n",
       "      <td>0.78419</td>\n",
       "      <td>0.801813</td>\n",
       "    </tr>\n",
       "  </tbody>\n",
       "</table>\n",
       "</div>"
      ],
      "text/plain": [
       "                             name  train_accuracy  test_accuracy  test_recall  \\\n",
       "0  K-Nearest Neighbour Classifier        0.851237       0.822194      0.78419   \n",
       "\n",
       "   train_recall  \n",
       "0      0.801813  "
      ]
     },
     "execution_count": 40,
     "metadata": {},
     "output_type": "execute_result"
    }
   ],
   "source": [
    "knnClassifier = Pipeline([\n",
    "        ('Imputer',preproc),\n",
    "    ('DfConverter',DfConverter()),\n",
    "    ('Data Preprocessing', data_preprocessing),\n",
    "  ('Kbest',SelectKBest(chi2,k=6)),\n",
    "    ('Model', KNeighborsClassifier(n_neighbors=5))\n",
    "])\n",
    "record,current,lr=scoreModel(knnClassifier,x_train,y_train,\"K-Nearest Neighbour Classifier\",record=record)\n",
    "current"
   ]
  },
  {
   "cell_type": "markdown",
   "id": "d2f884c3",
   "metadata": {
    "papermill": {
     "duration": 0.039501,
     "end_time": "2022-06-12T10:22:16.609181",
     "exception": false,
     "start_time": "2022-06-12T10:22:16.569680",
     "status": "completed"
    },
    "pycharm": {
     "name": "#%% md\n"
    },
    "tags": []
   },
   "source": [
    "## Result Analysis"
   ]
  },
  {
   "cell_type": "code",
   "execution_count": 41,
   "id": "ac0acd6a",
   "metadata": {
    "execution": {
     "iopub.execute_input": "2022-06-12T10:22:16.680988Z",
     "iopub.status.busy": "2022-06-12T10:22:16.679933Z",
     "iopub.status.idle": "2022-06-12T10:22:16.692982Z",
     "shell.execute_reply": "2022-06-12T10:22:16.692065Z"
    },
    "papermill": {
     "duration": 0.051046,
     "end_time": "2022-06-12T10:22:16.695133",
     "exception": false,
     "start_time": "2022-06-12T10:22:16.644087",
     "status": "completed"
    },
    "pycharm": {
     "name": "#%%\n"
    },
    "tags": []
   },
   "outputs": [
    {
     "data": {
      "text/html": [
       "<div>\n",
       "<style scoped>\n",
       "    .dataframe tbody tr th:only-of-type {\n",
       "        vertical-align: middle;\n",
       "    }\n",
       "\n",
       "    .dataframe tbody tr th {\n",
       "        vertical-align: top;\n",
       "    }\n",
       "\n",
       "    .dataframe thead th {\n",
       "        text-align: right;\n",
       "    }\n",
       "</style>\n",
       "<table border=\"1\" class=\"dataframe\">\n",
       "  <thead>\n",
       "    <tr style=\"text-align: right;\">\n",
       "      <th></th>\n",
       "      <th>name</th>\n",
       "      <th>train_accuracy</th>\n",
       "      <th>test_accuracy</th>\n",
       "      <th>test_recall</th>\n",
       "      <th>train_recall</th>\n",
       "    </tr>\n",
       "  </thead>\n",
       "  <tbody>\n",
       "    <tr>\n",
       "      <th>0</th>\n",
       "      <td>Dummy Baseline Classifier</td>\n",
       "      <td>0.541323</td>\n",
       "      <td>0.541327</td>\n",
       "      <td>0.000000</td>\n",
       "      <td>0.000000</td>\n",
       "    </tr>\n",
       "    <tr>\n",
       "      <th>1</th>\n",
       "      <td>Logistic Regression</td>\n",
       "      <td>0.842984</td>\n",
       "      <td>0.826276</td>\n",
       "      <td>0.792490</td>\n",
       "      <td>0.790577</td>\n",
       "    </tr>\n",
       "    <tr>\n",
       "      <th>2</th>\n",
       "      <td>Gaussian Naive Bayes</td>\n",
       "      <td>0.816110</td>\n",
       "      <td>0.780697</td>\n",
       "      <td>0.819763</td>\n",
       "      <td>0.833350</td>\n",
       "    </tr>\n",
       "    <tr>\n",
       "      <th>3</th>\n",
       "      <td>Decision Tree Classifier</td>\n",
       "      <td>0.852262</td>\n",
       "      <td>0.801446</td>\n",
       "      <td>0.774308</td>\n",
       "      <td>0.792799</td>\n",
       "    </tr>\n",
       "    <tr>\n",
       "      <th>4</th>\n",
       "      <td>Random Forest Classifier</td>\n",
       "      <td>0.850206</td>\n",
       "      <td>0.801531</td>\n",
       "      <td>0.793281</td>\n",
       "      <td>0.835649</td>\n",
       "    </tr>\n",
       "    <tr>\n",
       "      <th>5</th>\n",
       "      <td>SVM Classifier</td>\n",
       "      <td>0.857438</td>\n",
       "      <td>0.814031</td>\n",
       "      <td>0.756126</td>\n",
       "      <td>0.795097</td>\n",
       "    </tr>\n",
       "    <tr>\n",
       "      <th>6</th>\n",
       "      <td>Gradient Boosting Classifier</td>\n",
       "      <td>0.856407</td>\n",
       "      <td>0.801361</td>\n",
       "      <td>0.792490</td>\n",
       "      <td>0.815296</td>\n",
       "    </tr>\n",
       "    <tr>\n",
       "      <th>7</th>\n",
       "      <td>XG Boost Classifier</td>\n",
       "      <td>0.837792</td>\n",
       "      <td>0.826276</td>\n",
       "      <td>0.828458</td>\n",
       "      <td>0.808682</td>\n",
       "    </tr>\n",
       "    <tr>\n",
       "      <th>8</th>\n",
       "      <td>AdaBoost Classifier</td>\n",
       "      <td>0.845056</td>\n",
       "      <td>0.813861</td>\n",
       "      <td>0.792095</td>\n",
       "      <td>0.808504</td>\n",
       "    </tr>\n",
       "    <tr>\n",
       "      <th>9</th>\n",
       "      <td>K-Nearest Neighbour Classifier</td>\n",
       "      <td>0.851237</td>\n",
       "      <td>0.822194</td>\n",
       "      <td>0.784190</td>\n",
       "      <td>0.801813</td>\n",
       "    </tr>\n",
       "  </tbody>\n",
       "</table>\n",
       "</div>"
      ],
      "text/plain": [
       "                             name  train_accuracy  test_accuracy  test_recall  \\\n",
       "0       Dummy Baseline Classifier        0.541323       0.541327     0.000000   \n",
       "1             Logistic Regression        0.842984       0.826276     0.792490   \n",
       "2            Gaussian Naive Bayes        0.816110       0.780697     0.819763   \n",
       "3        Decision Tree Classifier        0.852262       0.801446     0.774308   \n",
       "4        Random Forest Classifier        0.850206       0.801531     0.793281   \n",
       "5                  SVM Classifier        0.857438       0.814031     0.756126   \n",
       "6    Gradient Boosting Classifier        0.856407       0.801361     0.792490   \n",
       "7             XG Boost Classifier        0.837792       0.826276     0.828458   \n",
       "8             AdaBoost Classifier        0.845056       0.813861     0.792095   \n",
       "9  K-Nearest Neighbour Classifier        0.851237       0.822194     0.784190   \n",
       "\n",
       "   train_recall  \n",
       "0      0.000000  \n",
       "1      0.790577  \n",
       "2      0.833350  \n",
       "3      0.792799  \n",
       "4      0.835649  \n",
       "5      0.795097  \n",
       "6      0.815296  \n",
       "7      0.808682  \n",
       "8      0.808504  \n",
       "9      0.801813  "
      ]
     },
     "execution_count": 41,
     "metadata": {},
     "output_type": "execute_result"
    }
   ],
   "source": [
    "record"
   ]
  },
  {
   "cell_type": "markdown",
   "id": "2c5b0b2b",
   "metadata": {
    "papermill": {
     "duration": 0.03667,
     "end_time": "2022-06-12T10:22:16.767360",
     "exception": false,
     "start_time": "2022-06-12T10:22:16.730690",
     "status": "completed"
    },
    "pycharm": {
     "name": "#%% md\n"
    },
    "tags": []
   },
   "source": []
  },
  {
   "cell_type": "code",
   "execution_count": 42,
   "id": "fd892bc7",
   "metadata": {
    "execution": {
     "iopub.execute_input": "2022-06-12T10:22:16.840876Z",
     "iopub.status.busy": "2022-06-12T10:22:16.840276Z",
     "iopub.status.idle": "2022-06-12T10:22:16.958194Z",
     "shell.execute_reply": "2022-06-12T10:22:16.957204Z"
    },
    "papermill": {
     "duration": 0.156718,
     "end_time": "2022-06-12T10:22:16.960214",
     "exception": false,
     "start_time": "2022-06-12T10:22:16.803496",
     "status": "completed"
    },
    "pycharm": {
     "name": "#%%\n"
    },
    "tags": []
   },
   "outputs": [
    {
     "name": "stdout",
     "output_type": "stream",
     "text": [
      "[10:22:16] WARNING: ../src/learner.cc:627: \n",
      "Parameters: { \"max_depth\" } might not be used.\n",
      "\n",
      "  This could be a false alarm, with some parameters getting used by language bindings but\n",
      "  then being mistakenly passed down to XGBoost core, or some parameter actually being used\n",
      "  but getting flagged wrongly here. Please open an issue if you find any such cases.\n",
      "\n",
      "\n"
     ]
    },
    {
     "data": {
      "text/plain": [
       "0.9642857142857143"
      ]
     },
     "execution_count": 42,
     "metadata": {},
     "output_type": "execute_result"
    }
   ],
   "source": [
    "Final = Pipeline([\n",
    "        ('Imputer',preproc),\n",
    "    ('DfConverter',DfConverter()),\n",
    "    ('Data Preprocessing', data_preprocessing),\n",
    "    ('Kbest',SelectKBest(chi2,k=6)),\n",
    "    ('Model',  xgb.XGBClassifier(max_depth=3,n_estimators=15,objective='binary:logistic',booster='gblinear',learning_rate=0.15))\n",
    "])\n",
    "Final.fit(x_train,y_train)\n",
    "\n",
    "\n",
    "y_pred=Final.predict(x_test)\n",
    "\n",
    "recall_score(y_test,y_pred)"
   ]
  },
  {
   "cell_type": "markdown",
   "id": "b723e352",
   "metadata": {
    "papermill": {
     "duration": 0.035191,
     "end_time": "2022-06-12T10:22:17.031677",
     "exception": false,
     "start_time": "2022-06-12T10:22:16.996486",
     "status": "completed"
    },
    "pycharm": {
     "name": "#%% md\n"
    },
    "tags": []
   },
   "source": [
    "## Feature Importance"
   ]
  },
  {
   "cell_type": "code",
   "execution_count": 43,
   "id": "cbf0058e",
   "metadata": {
    "execution": {
     "iopub.execute_input": "2022-06-12T10:22:17.105360Z",
     "iopub.status.busy": "2022-06-12T10:22:17.104783Z",
     "iopub.status.idle": "2022-06-12T10:22:18.309476Z",
     "shell.execute_reply": "2022-06-12T10:22:18.308580Z"
    },
    "papermill": {
     "duration": 1.245017,
     "end_time": "2022-06-12T10:22:18.311717",
     "exception": false,
     "start_time": "2022-06-12T10:22:17.066700",
     "status": "completed"
    },
    "pycharm": {
     "name": "#%%\n"
    },
    "tags": []
   },
   "outputs": [
    {
     "name": "stdout",
     "output_type": "stream",
     "text": [
      "ca      0.128 +/- 0.046\n",
      "thal    0.118 +/- 0.038\n",
      "slope   0.082 +/- 0.018\n",
      "cp      0.039 +/- 0.017\n",
      "[0.         0.         0.03934426 0.         0.         0.\n",
      " 0.         0.         0.02622951 0.         0.08196721 0.12786885\n",
      " 0.11803279]\n"
     ]
    }
   ],
   "source": [
    "\n",
    "\n",
    "imps = permutation_importance(Final, x_test, y_test)\n",
    "for i in imps.importances_mean.argsort()[::-1]:\n",
    "     if imps.importances_mean[i] - 2 * imps.importances_std[i] > 0:\n",
    "         print(f\"{x_train.columns[i]:<8}\"\n",
    "               f\"{imps.importances_mean[i]:.3f}\"\n",
    "               f\" +/- {imps.importances_std[i]:.3f}\")\n",
    "print(imps.importances_mean)"
   ]
  },
  {
   "cell_type": "markdown",
   "id": "bd41ee7c",
   "metadata": {
    "papermill": {
     "duration": 0.035557,
     "end_time": "2022-06-12T10:22:18.382758",
     "exception": false,
     "start_time": "2022-06-12T10:22:18.347201",
     "status": "completed"
    },
    "pycharm": {
     "name": "#%% md\n"
    },
    "tags": []
   },
   "source": [
    "## Classification Report"
   ]
  },
  {
   "cell_type": "code",
   "execution_count": 44,
   "id": "1e109ae5",
   "metadata": {
    "execution": {
     "iopub.execute_input": "2022-06-12T10:22:18.455739Z",
     "iopub.status.busy": "2022-06-12T10:22:18.455182Z",
     "iopub.status.idle": "2022-06-12T10:22:18.465580Z",
     "shell.execute_reply": "2022-06-12T10:22:18.464648Z"
    },
    "papermill": {
     "duration": 0.050761,
     "end_time": "2022-06-12T10:22:18.468984",
     "exception": false,
     "start_time": "2022-06-12T10:22:18.418223",
     "status": "completed"
    },
    "pycharm": {
     "name": "#%%\n"
    },
    "tags": []
   },
   "outputs": [
    {
     "name": "stdout",
     "output_type": "stream",
     "text": [
      "              precision    recall  f1-score   support\n",
      "\n",
      "           0       0.96      0.79      0.87        33\n",
      "           1       0.79      0.96      0.87        28\n",
      "\n",
      "    accuracy                           0.87        61\n",
      "   macro avg       0.88      0.88      0.87        61\n",
      "weighted avg       0.89      0.87      0.87        61\n",
      "\n"
     ]
    }
   ],
   "source": [
    "print(classification_report(y_test,y_pred))\n"
   ]
  },
  {
   "cell_type": "code",
   "execution_count": 45,
   "id": "e4ab5da7",
   "metadata": {
    "execution": {
     "iopub.execute_input": "2022-06-12T10:22:18.541386Z",
     "iopub.status.busy": "2022-06-12T10:22:18.540531Z",
     "iopub.status.idle": "2022-06-12T10:22:18.772135Z",
     "shell.execute_reply": "2022-06-12T10:22:18.771177Z"
    },
    "papermill": {
     "duration": 0.269459,
     "end_time": "2022-06-12T10:22:18.774430",
     "exception": false,
     "start_time": "2022-06-12T10:22:18.504971",
     "status": "completed"
    },
    "pycharm": {
     "name": "#%%\n"
    },
    "tags": []
   },
   "outputs": [
    {
     "name": "stderr",
     "output_type": "stream",
     "text": [
      "/opt/hostedtoolcache/Python/3.8.12/x64/lib/python3.8/site-packages/sklearn/utils/deprecation.py:87: FutureWarning: Function plot_roc_curve is deprecated; Function :func:`plot_roc_curve` is deprecated in 1.0 and will be removed in 1.2. Use one of the class methods: :meth:`sklearn.metric.RocCurveDisplay.from_predictions` or :meth:`sklearn.metric.RocCurveDisplay.from_estimator`.\n",
      "  warnings.warn(msg, category=FutureWarning)\n"
     ]
    },
    {
     "data": {
      "text/plain": [
       "<sklearn.metrics._plot.roc_curve.RocCurveDisplay at 0x7f2458385700>"
      ]
     },
     "execution_count": 45,
     "metadata": {},
     "output_type": "execute_result"
    },
    {
     "data": {
      "image/png": "[encoded data removed]",
      "text/plain": [
       "<Figure size 432x288 with 1 Axes>"
      ]
     },
     "metadata": {
      "needs_background": "light"
     },
     "output_type": "display_data"
    }
   ],
   "source": [
    "plot_roc_curve(Final,x_test,y_test)"
   ]
  },
  {
   "cell_type": "markdown",
   "id": "8385564e",
   "metadata": {
    "papermill": {
     "duration": 0.035533,
     "end_time": "2022-06-12T10:22:18.846656",
     "exception": false,
     "start_time": "2022-06-12T10:22:18.811123",
     "status": "completed"
    },
    "pycharm": {
     "name": "#%% md\n"
    },
    "tags": []
   },
   "source": [
    "## Confusion Matrix"
   ]
  },
  {
   "cell_type": "code",
   "execution_count": 46,
   "id": "18321a99",
   "metadata": {
    "execution": {
     "iopub.execute_input": "2022-06-12T10:22:18.920808Z",
     "iopub.status.busy": "2022-06-12T10:22:18.919686Z",
     "iopub.status.idle": "2022-06-12T10:22:18.932677Z",
     "shell.execute_reply": "2022-06-12T10:22:18.931702Z"
    },
    "papermill": {
     "duration": 0.053266,
     "end_time": "2022-06-12T10:22:18.934964",
     "exception": false,
     "start_time": "2022-06-12T10:22:18.881698",
     "status": "completed"
    },
    "pycharm": {
     "name": "#%%\n"
    },
    "tags": []
   },
   "outputs": [
    {
     "data": {
      "text/html": [
       "<div>\n",
       "<style scoped>\n",
       "    .dataframe tbody tr th:only-of-type {\n",
       "        vertical-align: middle;\n",
       "    }\n",
       "\n",
       "    .dataframe tbody tr th {\n",
       "        vertical-align: top;\n",
       "    }\n",
       "\n",
       "    .dataframe thead th {\n",
       "        text-align: right;\n",
       "    }\n",
       "</style>\n",
       "<table border=\"1\" class=\"dataframe\">\n",
       "  <thead>\n",
       "    <tr style=\"text-align: right;\">\n",
       "      <th></th>\n",
       "      <th>0</th>\n",
       "      <th>1</th>\n",
       "    </tr>\n",
       "  </thead>\n",
       "  <tbody>\n",
       "    <tr>\n",
       "      <th>0</th>\n",
       "      <td>26</td>\n",
       "      <td>7</td>\n",
       "    </tr>\n",
       "    <tr>\n",
       "      <th>1</th>\n",
       "      <td>1</td>\n",
       "      <td>27</td>\n",
       "    </tr>\n",
       "  </tbody>\n",
       "</table>\n",
       "</div>"
      ],
      "text/plain": [
       "    0   1\n",
       "0  26   7\n",
       "1   1  27"
      ]
     },
     "execution_count": 46,
     "metadata": {},
     "output_type": "execute_result"
    }
   ],
   "source": [
    "pd.DataFrame(confusion_matrix(y_test,y_pred))"
   ]
  },
  {
   "cell_type": "markdown",
   "id": "651b949d",
   "metadata": {
    "papermill": {
     "duration": 0.036632,
     "end_time": "2022-06-12T10:22:19.009172",
     "exception": false,
     "start_time": "2022-06-12T10:22:18.972540",
     "status": "completed"
    },
    "pycharm": {
     "name": "#%% md\n"
    },
    "tags": []
   },
   "source": []
  },
  {
   "cell_type": "markdown",
   "id": "400d996a",
   "metadata": {
    "papermill": {
     "duration": 0.03787,
     "end_time": "2022-06-12T10:22:19.081990",
     "exception": false,
     "start_time": "2022-06-12T10:22:19.044120",
     "status": "completed"
    },
    "pycharm": {
     "name": "#%% md\n"
    },
    "tags": []
   },
   "source": [
    "## Feature Importance"
   ]
  },
  {
   "cell_type": "code",
   "execution_count": 47,
   "id": "e3e100d5",
   "metadata": {
    "execution": {
     "iopub.execute_input": "2022-06-12T10:22:19.157389Z",
     "iopub.status.busy": "2022-06-12T10:22:19.156810Z",
     "iopub.status.idle": "2022-06-12T10:22:20.368079Z",
     "shell.execute_reply": "2022-06-12T10:22:20.367194Z"
    },
    "papermill": {
     "duration": 1.251797,
     "end_time": "2022-06-12T10:22:20.370262",
     "exception": false,
     "start_time": "2022-06-12T10:22:19.118465",
     "status": "completed"
    },
    "pycharm": {
     "name": "#%%\n"
    },
    "tags": []
   },
   "outputs": [
    {
     "name": "stdout",
     "output_type": "stream",
     "text": [
      "thal    0.108 +/- 0.029\n",
      "ca      0.105 +/- 0.008\n",
      "slope   0.075 +/- 0.013\n",
      "exang   0.056 +/- 0.017\n",
      "cp      0.052 +/- 0.024\n",
      "[0.         0.         0.05245902 0.         0.         0.\n",
      " 0.         0.         0.0557377  0.         0.07540984 0.10491803\n",
      " 0.10819672]\n"
     ]
    }
   ],
   "source": [
    "\n",
    "\n",
    "imps = permutation_importance(Final, x_test, y_test)\n",
    "for i in imps.importances_mean.argsort()[::-1]:\n",
    "     if imps.importances_mean[i] - 2 * imps.importances_std[i] > 0:\n",
    "         print(f\"{x_train.columns[i]:<8}\"\n",
    "               f\"{imps.importances_mean[i]:.3f}\"\n",
    "               f\" +/- {imps.importances_std[i]:.3f}\")\n",
    "print(imps.importances_mean)"
   ]
  },
  {
   "cell_type": "markdown",
   "id": "0dc0348d",
   "metadata": {
    "papermill": {
     "duration": 0.03566,
     "end_time": "2022-06-12T10:22:20.442698",
     "exception": false,
     "start_time": "2022-06-12T10:22:20.407038",
     "status": "completed"
    },
    "pycharm": {
     "name": "#%% md\n"
    },
    "tags": []
   },
   "source": [
    "## Classification Report"
   ]
  },
  {
   "cell_type": "code",
   "execution_count": 48,
   "id": "04b0e94b",
   "metadata": {
    "execution": {
     "iopub.execute_input": "2022-06-12T10:22:20.517905Z",
     "iopub.status.busy": "2022-06-12T10:22:20.517538Z",
     "iopub.status.idle": "2022-06-12T10:22:20.528460Z",
     "shell.execute_reply": "2022-06-12T10:22:20.527526Z"
    },
    "papermill": {
     "duration": 0.05148,
     "end_time": "2022-06-12T10:22:20.530565",
     "exception": false,
     "start_time": "2022-06-12T10:22:20.479085",
     "status": "completed"
    },
    "pycharm": {
     "name": "#%%\n"
    },
    "tags": []
   },
   "outputs": [
    {
     "name": "stdout",
     "output_type": "stream",
     "text": [
      "              precision    recall  f1-score   support\n",
      "\n",
      "           0       0.96      0.79      0.87        33\n",
      "           1       0.79      0.96      0.87        28\n",
      "\n",
      "    accuracy                           0.87        61\n",
      "   macro avg       0.88      0.88      0.87        61\n",
      "weighted avg       0.89      0.87      0.87        61\n",
      "\n"
     ]
    }
   ],
   "source": [
    "print(classification_report(y_test,y_pred))\n"
   ]
  },
  {
   "cell_type": "code",
   "execution_count": 49,
   "id": "4afe5f4f",
   "metadata": {
    "execution": {
     "iopub.execute_input": "2022-06-12T10:22:20.604882Z",
     "iopub.status.busy": "2022-06-12T10:22:20.604135Z",
     "iopub.status.idle": "2022-06-12T10:22:20.825033Z",
     "shell.execute_reply": "2022-06-12T10:22:20.824073Z"
    },
    "papermill": {
     "duration": 0.260737,
     "end_time": "2022-06-12T10:22:20.827212",
     "exception": false,
     "start_time": "2022-06-12T10:22:20.566475",
     "status": "completed"
    },
    "pycharm": {
     "name": "#%%\n"
    },
    "tags": []
   },
   "outputs": [
    {
     "name": "stderr",
     "output_type": "stream",
     "text": [
      "/opt/hostedtoolcache/Python/3.8.12/x64/lib/python3.8/site-packages/sklearn/utils/deprecation.py:87: FutureWarning: Function plot_roc_curve is deprecated; Function :func:`plot_roc_curve` is deprecated in 1.0 and will be removed in 1.2. Use one of the class methods: :meth:`sklearn.metric.RocCurveDisplay.from_predictions` or :meth:`sklearn.metric.RocCurveDisplay.from_estimator`.\n",
      "  warnings.warn(msg, category=FutureWarning)\n"
     ]
    },
    {
     "data": {
      "text/plain": [
       "<sklearn.metrics._plot.roc_curve.RocCurveDisplay at 0x7f245847a1f0>"
      ]
     },
     "execution_count": 49,
     "metadata": {},
     "output_type": "execute_result"
    },
    {
     "data": {
      "image/png": "[encoded data removed]",
      "text/plain": [
       "<Figure size 432x288 with 1 Axes>"
      ]
     },
     "metadata": {
      "needs_background": "light"
     },
     "output_type": "display_data"
    }
   ],
   "source": [
    "plot_roc_curve(Final,x_test,y_test)"
   ]
  },
  {
   "cell_type": "markdown",
   "id": "dfb9fd94",
   "metadata": {
    "papermill": {
     "duration": 0.036761,
     "end_time": "2022-06-12T10:22:20.901136",
     "exception": false,
     "start_time": "2022-06-12T10:22:20.864375",
     "status": "completed"
    },
    "pycharm": {
     "name": "#%% md\n"
    },
    "tags": []
   },
   "source": [
    "## Confusion Matrix"
   ]
  },
  {
   "cell_type": "code",
   "execution_count": 50,
   "id": "9ce5e951",
   "metadata": {
    "execution": {
     "iopub.execute_input": "2022-06-12T10:22:20.977134Z",
     "iopub.status.busy": "2022-06-12T10:22:20.976772Z",
     "iopub.status.idle": "2022-06-12T10:22:20.986076Z",
     "shell.execute_reply": "2022-06-12T10:22:20.985234Z"
    },
    "papermill": {
     "duration": 0.051015,
     "end_time": "2022-06-12T10:22:20.988162",
     "exception": false,
     "start_time": "2022-06-12T10:22:20.937147",
     "status": "completed"
    },
    "pycharm": {
     "name": "#%%\n"
    },
    "tags": []
   },
   "outputs": [],
   "source": [
    "cm=pd.DataFrame(confusion_matrix(y_test,y_pred)).reindex([1,0])[[1,0]]"
   ]
  },
  {
   "cell_type": "code",
   "execution_count": 51,
   "id": "4b9dc6ef",
   "metadata": {
    "execution": {
     "iopub.execute_input": "2022-06-12T10:22:21.066991Z",
     "iopub.status.busy": "2022-06-12T10:22:21.066010Z",
     "iopub.status.idle": "2022-06-12T10:22:21.242101Z",
     "shell.execute_reply": "2022-06-12T10:22:21.241140Z"
    },
    "papermill": {
     "duration": 0.218045,
     "end_time": "2022-06-12T10:22:21.244248",
     "exception": false,
     "start_time": "2022-06-12T10:22:21.026203",
     "status": "completed"
    },
    "tags": []
   },
   "outputs": [
    {
     "data": {
      "image/png": "[encoded data removed]",
      "text/plain": [
       "<Figure size 432x288 with 2 Axes>"
      ]
     },
     "metadata": {
      "needs_background": "light"
     },
     "output_type": "display_data"
    }
   ],
   "source": [
    "from sklearn.metrics import ConfusionMatrixDisplay\n",
    "cmg=ConfusionMatrixDisplay(cm.to_numpy(),display_labels=[1,0])\n",
    "cmg.plot()\n",
    "plt.show()"
   ]
  },
  {
   "cell_type": "markdown",
   "id": "8b444f2d",
   "metadata": {
    "papermill": {
     "duration": 0.037034,
     "end_time": "2022-06-12T10:22:21.318331",
     "exception": false,
     "start_time": "2022-06-12T10:22:21.281297",
     "status": "completed"
    },
    "pycharm": {
     "name": "#%% md\n"
    },
    "tags": []
   },
   "source": []
  }
 ],
 "metadata": {
  "kernelspec": {
   "display_name": "Python 3 (ipykernel)",
   "language": "python",
   "name": "python3"
  },
  "language_info": {
   "codemirror_mode": {
    "name": "ipython",
    "version": 3
   },
   "file_extension": ".py",
   "mimetype": "text/x-python",
   "name": "python",
   "nbconvert_exporter": "python",
   "pygments_lexer": "ipython3",
   "version": "3.8.12"
  },
  "papermill": {
   "default_parameters": {},
   "duration": 77.2803,
   "end_time": "2022-06-12T10:22:23.974396",
   "environment_variables": {},
   "exception": null,
   "input_path": "Cardiovascular_Prediction_ML.ipynb",
   "output_path": "Cardiovascular_Prediction_ML.ipynb",
   "parameters": {},
   "start_time": "2022-06-12T10:21:06.694096",
   "version": "2.3.4"
  }
 },
 "nbformat": 4,
 "nbformat_minor": 5
}