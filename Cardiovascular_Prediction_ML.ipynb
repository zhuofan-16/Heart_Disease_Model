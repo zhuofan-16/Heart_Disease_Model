{
 "cells": [
  {
   "cell_type": "markdown",
   "id": "ccf22625",
   "metadata": {
    "papermill": {
     "duration": 0.017512,
     "end_time": "2022-05-20T10:24:49.761667",
     "exception": false,
     "start_time": "2022-05-20T10:24:49.744155",
     "status": "completed"
    },
    "pycharm": {
     "name": "#%% md\n"
    },
    "tags": []
   },
   "source": [
    "# Cardiovascular Disease Prediction using Machine Learning Algorithms in Medical Field"
   ]
  },
  {
   "cell_type": "markdown",
   "id": "afc04892",
   "metadata": {
    "papermill": {
     "duration": 0.018519,
     "end_time": "2022-05-20T10:24:49.798942",
     "exception": false,
     "start_time": "2022-05-20T10:24:49.780423",
     "status": "completed"
    },
    "tags": []
   },
   "source": [
    "## Install Dependencies"
   ]
  },
  {
   "cell_type": "code",
   "execution_count": 1,
   "id": "299c3335",
   "metadata": {
    "execution": {
     "iopub.execute_input": "2022-05-20T10:24:49.835713Z",
     "iopub.status.busy": "2022-05-20T10:24:49.834917Z",
     "iopub.status.idle": "2022-05-20T10:24:51.691029Z",
     "shell.execute_reply": "2022-05-20T10:24:51.690156Z"
    },
    "papermill": {
     "duration": 1.877162,
     "end_time": "2022-05-20T10:24:51.693065",
     "exception": false,
     "start_time": "2022-05-20T10:24:49.815903",
     "status": "completed"
    },
    "tags": []
   },
   "outputs": [
    {
     "name": "stdout",
     "output_type": "stream",
     "text": [
      "Requirement already satisfied: numpy in /opt/hostedtoolcache/Python/3.8.12/x64/lib/python3.8/site-packages (1.22.3)\r\n",
      "Requirement already satisfied: matplotlib in /opt/hostedtoolcache/Python/3.8.12/x64/lib/python3.8/site-packages (3.5.2)\r\n",
      "Requirement already satisfied: pandas in /opt/hostedtoolcache/Python/3.8.12/x64/lib/python3.8/site-packages (1.4.2)\r\n",
      "Requirement already satisfied: seaborn in /opt/hostedtoolcache/Python/3.8.12/x64/lib/python3.8/site-packages (0.11.2)\r\n",
      "Requirement already satisfied: scikit-learn==1.0.2 in /opt/hostedtoolcache/Python/3.8.12/x64/lib/python3.8/site-packages (1.0.2)\r\n",
      "Requirement already satisfied: yellowbrick in /opt/hostedtoolcache/Python/3.8.12/x64/lib/python3.8/site-packages (1.4)\r\n",
      "Requirement already satisfied: phik in /opt/hostedtoolcache/Python/3.8.12/x64/lib/python3.8/site-packages (0.12.2)\r\n",
      "Requirement already satisfied: statsmodels in /opt/hostedtoolcache/Python/3.8.12/x64/lib/python3.8/site-packages (0.13.2)\r\n",
      "Requirement already satisfied: pyampute in /opt/hostedtoolcache/Python/3.8.12/x64/lib/python3.8/site-packages (0.0.2)\r\n",
      "Requirement already satisfied: xgboost in /opt/hostedtoolcache/Python/3.8.12/x64/lib/python3.8/site-packages (1.6.1)\r\n",
      "Requirement already satisfied: imblearn in /opt/hostedtoolcache/Python/3.8.12/x64/lib/python3.8/site-packages (0.0)\r\n",
      "Requirement already satisfied: missingno in /opt/hostedtoolcache/Python/3.8.12/x64/lib/python3.8/site-packages (0.5.1)\r\n"
     ]
    },
    {
     "name": "stdout",
     "output_type": "stream",
     "text": [
      "Collecting mlxtend\r\n",
      "  Downloading mlxtend-0.19.0-py2.py3-none-any.whl (1.3 MB)\r\n",
      "\u001b[?25l     \u001b[90m━━━━━━━━━━━━━━━━━━━━━━━━━━━━━━━━━━━━━━━━\u001b[0m \u001b[32m0.0/1.3 MB\u001b[0m \u001b[31m?\u001b[0m eta \u001b[36m-:--:--\u001b[0m"
     ]
    },
    {
     "name": "stdout",
     "output_type": "stream",
     "text": [
      "\r",
      "\u001b[2K     \u001b[90m━━━━━━━━━━━━━━━━━━━━━━━━━━━━━━━━━━━━━━━━\u001b[0m \u001b[32m1.3/1.3 MB\u001b[0m \u001b[31m73.6 MB/s\u001b[0m eta \u001b[36m0:00:00\u001b[0m\r\n",
      "\u001b[?25h"
     ]
    },
    {
     "name": "stdout",
     "output_type": "stream",
     "text": [
      "Requirement already satisfied: joblib>=0.11 in /opt/hostedtoolcache/Python/3.8.12/x64/lib/python3.8/site-packages (from scikit-learn==1.0.2) (1.1.0)\r\n",
      "Requirement already satisfied: threadpoolctl>=2.0.0 in /opt/hostedtoolcache/Python/3.8.12/x64/lib/python3.8/site-packages (from scikit-learn==1.0.2) (3.1.0)\r\n",
      "Requirement already satisfied: scipy>=1.1.0 in /opt/hostedtoolcache/Python/3.8.12/x64/lib/python3.8/site-packages (from scikit-learn==1.0.2) (1.8.1)\r\n",
      "Requirement already satisfied: pyparsing>=2.2.1 in /opt/hostedtoolcache/Python/3.8.12/x64/lib/python3.8/site-packages (from matplotlib) (3.0.9)\r\n",
      "Requirement already satisfied: fonttools>=4.22.0 in /opt/hostedtoolcache/Python/3.8.12/x64/lib/python3.8/site-packages (from matplotlib) (4.33.3)\r\n",
      "Requirement already satisfied: pillow>=6.2.0 in /opt/hostedtoolcache/Python/3.8.12/x64/lib/python3.8/site-packages (from matplotlib) (9.1.1)\r\n",
      "Requirement already satisfied: python-dateutil>=2.7 in /opt/hostedtoolcache/Python/3.8.12/x64/lib/python3.8/site-packages (from matplotlib) (2.8.2)\r\n",
      "Requirement already satisfied: cycler>=0.10 in /opt/hostedtoolcache/Python/3.8.12/x64/lib/python3.8/site-packages (from matplotlib) (0.11.0)\r\n",
      "Requirement already satisfied: kiwisolver>=1.0.1 in /opt/hostedtoolcache/Python/3.8.12/x64/lib/python3.8/site-packages (from matplotlib) (1.4.2)\r\n",
      "Requirement already satisfied: packaging>=20.0 in /opt/hostedtoolcache/Python/3.8.12/x64/lib/python3.8/site-packages (from matplotlib) (21.3)\r\n",
      "Requirement already satisfied: pytz>=2020.1 in /opt/hostedtoolcache/Python/3.8.12/x64/lib/python3.8/site-packages (from pandas) (2022.1)\r\n"
     ]
    },
    {
     "name": "stdout",
     "output_type": "stream",
     "text": [
      "Requirement already satisfied: patsy>=0.5.2 in /opt/hostedtoolcache/Python/3.8.12/x64/lib/python3.8/site-packages (from statsmodels) (0.5.2)\r\n",
      "Requirement already satisfied: imbalanced-learn in /opt/hostedtoolcache/Python/3.8.12/x64/lib/python3.8/site-packages (from imblearn) (0.9.0)\r\n",
      "Requirement already satisfied: setuptools in /opt/hostedtoolcache/Python/3.8.12/x64/lib/python3.8/site-packages (from mlxtend) (56.0.0)\r\n"
     ]
    },
    {
     "name": "stdout",
     "output_type": "stream",
     "text": [
      "Requirement already satisfied: six in /opt/hostedtoolcache/Python/3.8.12/x64/lib/python3.8/site-packages (from patsy>=0.5.2->statsmodels) (1.16.0)\r\n"
     ]
    },
    {
     "name": "stdout",
     "output_type": "stream",
     "text": [
      "Installing collected packages: mlxtend\r\n"
     ]
    },
    {
     "name": "stdout",
     "output_type": "stream",
     "text": [
      "Successfully installed mlxtend-0.19.0\r\n"
     ]
    }
   ],
   "source": [
    "!pip install numpy matplotlib pandas seaborn scikit-learn==1.0.2 yellowbrick phik statsmodels pyampute xgboost imblearn missingno mlxtend --user "
   ]
  },
  {
   "cell_type": "markdown",
   "id": "cdd15274",
   "metadata": {
    "papermill": {
     "duration": 0.020998,
     "end_time": "2022-05-20T10:24:51.728607",
     "exception": false,
     "start_time": "2022-05-20T10:24:51.707609",
     "status": "completed"
    },
    "pycharm": {
     "name": "#%% md\n"
    },
    "tags": []
   },
   "source": [
    "## Importing Libraries"
   ]
  },
  {
   "cell_type": "code",
   "execution_count": 2,
   "id": "4f4ec0f7",
   "metadata": {
    "execution": {
     "iopub.execute_input": "2022-05-20T10:24:51.814493Z",
     "iopub.status.busy": "2022-05-20T10:24:51.813745Z",
     "iopub.status.idle": "2022-05-20T10:24:54.891278Z",
     "shell.execute_reply": "2022-05-20T10:24:54.890531Z"
    },
    "papermill": {
     "duration": 3.145436,
     "end_time": "2022-05-20T10:24:54.893142",
     "exception": false,
     "start_time": "2022-05-20T10:24:51.747706",
     "status": "completed"
    },
    "pycharm": {
     "name": "#%%\n"
    },
    "tags": []
   },
   "outputs": [],
   "source": [
    "import numpy as np\n",
    "import matplotlib.pyplot as plt\n",
    "import pandas as pd\n",
    "import seaborn as sns\n",
    "\n",
    "sns.set_style(\"whitegrid\")\n",
    "\n",
    "\n",
    "\n",
    "# Model Evaluation\n",
    "from sklearn.model_selection import train_test_split, cross_validate, StratifiedKFold\n",
    "from sklearn.metrics import classification_report, plot_precision_recall_curve, plot_roc_curve, confusion_matrix\n",
    "from yellowbrick.model_selection import learning_curve\n",
    "\n",
    "# Missing Value\n",
    "from pyampute.exploration.mcar_statistical_tests import MCARTest\n",
    "from sklearn.impute import KNNImputer\n",
    "\n",
    "\n",
    "\n",
    "# Data Preprocessing\n",
    "import phik\n",
    "from imblearn.pipeline import Pipeline\n",
    "from sklearn.compose import ColumnTransformer\n",
    "from sklearn.preprocessing import  OneHotEncoder\n",
    "from sklearn.preprocessing import  MinMaxScaler\n",
    "\n",
    "\n",
    "# Models\n",
    "from sklearn.dummy import DummyClassifier\n",
    "from sklearn.neighbors import KNeighborsClassifier\n",
    "from sklearn.linear_model import LogisticRegression\n",
    "from sklearn.svm import SVC\n",
    "from sklearn.tree import DecisionTreeClassifier\n",
    "from sklearn.ensemble import RandomForestClassifier, GradientBoostingClassifier, AdaBoostClassifier\n",
    "from sklearn.naive_bayes import GaussianNB\n",
    "import xgboost as xgb\n",
    "\n",
    "\n",
    "# Feature Importance\n",
    "from sklearn.inspection import permutation_importance\n",
    "\n",
    "# Hyperparameter Tuning\n",
    "from sklearn.model_selection import  GridSearchCV\n",
    "from sklearn.metrics import recall_score\n",
    "\n",
    "# Feature Selection\n",
    "from sklearn.feature_selection import SequentialFeatureSelector\n",
    "from sklearn.feature_selection import SelectFromModel, RFE, SelectKBest,chi2\n",
    "\n",
    "\n",
    "# Random State\n",
    "random_state = 0"
   ]
  },
  {
   "cell_type": "markdown",
   "id": "964ddd53",
   "metadata": {
    "papermill": {
     "duration": 0.013967,
     "end_time": "2022-05-20T10:24:54.921298",
     "exception": false,
     "start_time": "2022-05-20T10:24:54.907331",
     "status": "completed"
    },
    "pycharm": {
     "name": "#%% md\n"
    },
    "tags": []
   },
   "source": [
    "# Data Ingestion"
   ]
  },
  {
   "cell_type": "code",
   "execution_count": 3,
   "id": "2c4fa769",
   "metadata": {
    "execution": {
     "iopub.execute_input": "2022-05-20T10:24:54.950652Z",
     "iopub.status.busy": "2022-05-20T10:24:54.949900Z",
     "iopub.status.idle": "2022-05-20T10:24:54.981903Z",
     "shell.execute_reply": "2022-05-20T10:24:54.981119Z"
    },
    "papermill": {
     "duration": 0.049282,
     "end_time": "2022-05-20T10:24:54.984186",
     "exception": false,
     "start_time": "2022-05-20T10:24:54.934904",
     "status": "completed"
    },
    "pycharm": {
     "name": "#%%\n"
    },
    "tags": []
   },
   "outputs": [
    {
     "data": {
      "text/html": [
       "<div>\n",
       "<style scoped>\n",
       "    .dataframe tbody tr th:only-of-type {\n",
       "        vertical-align: middle;\n",
       "    }\n",
       "\n",
       "    .dataframe tbody tr th {\n",
       "        vertical-align: top;\n",
       "    }\n",
       "\n",
       "    .dataframe thead th {\n",
       "        text-align: right;\n",
       "    }\n",
       "</style>\n",
       "<table border=\"1\" class=\"dataframe\">\n",
       "  <thead>\n",
       "    <tr style=\"text-align: right;\">\n",
       "      <th></th>\n",
       "      <th>age</th>\n",
       "      <th>sex</th>\n",
       "      <th>cp</th>\n",
       "      <th>trestbps</th>\n",
       "      <th>chol</th>\n",
       "      <th>fbs</th>\n",
       "      <th>restecg</th>\n",
       "      <th>thalach</th>\n",
       "      <th>exang</th>\n",
       "      <th>oldpeak</th>\n",
       "      <th>slope</th>\n",
       "      <th>ca</th>\n",
       "      <th>thal</th>\n",
       "      <th>num</th>\n",
       "    </tr>\n",
       "  </thead>\n",
       "  <tbody>\n",
       "    <tr>\n",
       "      <th>0</th>\n",
       "      <td>63.0</td>\n",
       "      <td>1.0</td>\n",
       "      <td>1.0</td>\n",
       "      <td>145.0</td>\n",
       "      <td>233.0</td>\n",
       "      <td>1.0</td>\n",
       "      <td>2.0</td>\n",
       "      <td>150.0</td>\n",
       "      <td>0.0</td>\n",
       "      <td>2.3</td>\n",
       "      <td>3.0</td>\n",
       "      <td>0.0</td>\n",
       "      <td>6.0</td>\n",
       "      <td>0</td>\n",
       "    </tr>\n",
       "    <tr>\n",
       "      <th>1</th>\n",
       "      <td>67.0</td>\n",
       "      <td>1.0</td>\n",
       "      <td>4.0</td>\n",
       "      <td>160.0</td>\n",
       "      <td>286.0</td>\n",
       "      <td>0.0</td>\n",
       "      <td>2.0</td>\n",
       "      <td>108.0</td>\n",
       "      <td>1.0</td>\n",
       "      <td>1.5</td>\n",
       "      <td>2.0</td>\n",
       "      <td>3.0</td>\n",
       "      <td>3.0</td>\n",
       "      <td>2</td>\n",
       "    </tr>\n",
       "    <tr>\n",
       "      <th>2</th>\n",
       "      <td>67.0</td>\n",
       "      <td>1.0</td>\n",
       "      <td>4.0</td>\n",
       "      <td>120.0</td>\n",
       "      <td>229.0</td>\n",
       "      <td>0.0</td>\n",
       "      <td>2.0</td>\n",
       "      <td>129.0</td>\n",
       "      <td>1.0</td>\n",
       "      <td>2.6</td>\n",
       "      <td>2.0</td>\n",
       "      <td>2.0</td>\n",
       "      <td>7.0</td>\n",
       "      <td>1</td>\n",
       "    </tr>\n",
       "    <tr>\n",
       "      <th>3</th>\n",
       "      <td>37.0</td>\n",
       "      <td>1.0</td>\n",
       "      <td>3.0</td>\n",
       "      <td>130.0</td>\n",
       "      <td>250.0</td>\n",
       "      <td>0.0</td>\n",
       "      <td>0.0</td>\n",
       "      <td>187.0</td>\n",
       "      <td>0.0</td>\n",
       "      <td>3.5</td>\n",
       "      <td>3.0</td>\n",
       "      <td>0.0</td>\n",
       "      <td>3.0</td>\n",
       "      <td>0</td>\n",
       "    </tr>\n",
       "    <tr>\n",
       "      <th>4</th>\n",
       "      <td>41.0</td>\n",
       "      <td>0.0</td>\n",
       "      <td>2.0</td>\n",
       "      <td>130.0</td>\n",
       "      <td>204.0</td>\n",
       "      <td>0.0</td>\n",
       "      <td>2.0</td>\n",
       "      <td>172.0</td>\n",
       "      <td>0.0</td>\n",
       "      <td>1.4</td>\n",
       "      <td>1.0</td>\n",
       "      <td>0.0</td>\n",
       "      <td>3.0</td>\n",
       "      <td>0</td>\n",
       "    </tr>\n",
       "    <tr>\n",
       "      <th>...</th>\n",
       "      <td>...</td>\n",
       "      <td>...</td>\n",
       "      <td>...</td>\n",
       "      <td>...</td>\n",
       "      <td>...</td>\n",
       "      <td>...</td>\n",
       "      <td>...</td>\n",
       "      <td>...</td>\n",
       "      <td>...</td>\n",
       "      <td>...</td>\n",
       "      <td>...</td>\n",
       "      <td>...</td>\n",
       "      <td>...</td>\n",
       "      <td>...</td>\n",
       "    </tr>\n",
       "    <tr>\n",
       "      <th>298</th>\n",
       "      <td>45.0</td>\n",
       "      <td>1.0</td>\n",
       "      <td>1.0</td>\n",
       "      <td>110.0</td>\n",
       "      <td>264.0</td>\n",
       "      <td>0.0</td>\n",
       "      <td>0.0</td>\n",
       "      <td>132.0</td>\n",
       "      <td>0.0</td>\n",
       "      <td>1.2</td>\n",
       "      <td>2.0</td>\n",
       "      <td>0.0</td>\n",
       "      <td>7.0</td>\n",
       "      <td>1</td>\n",
       "    </tr>\n",
       "    <tr>\n",
       "      <th>299</th>\n",
       "      <td>68.0</td>\n",
       "      <td>1.0</td>\n",
       "      <td>4.0</td>\n",
       "      <td>144.0</td>\n",
       "      <td>193.0</td>\n",
       "      <td>1.0</td>\n",
       "      <td>0.0</td>\n",
       "      <td>141.0</td>\n",
       "      <td>0.0</td>\n",
       "      <td>3.4</td>\n",
       "      <td>2.0</td>\n",
       "      <td>2.0</td>\n",
       "      <td>7.0</td>\n",
       "      <td>2</td>\n",
       "    </tr>\n",
       "    <tr>\n",
       "      <th>300</th>\n",
       "      <td>57.0</td>\n",
       "      <td>1.0</td>\n",
       "      <td>4.0</td>\n",
       "      <td>130.0</td>\n",
       "      <td>131.0</td>\n",
       "      <td>0.0</td>\n",
       "      <td>0.0</td>\n",
       "      <td>115.0</td>\n",
       "      <td>1.0</td>\n",
       "      <td>1.2</td>\n",
       "      <td>2.0</td>\n",
       "      <td>1.0</td>\n",
       "      <td>7.0</td>\n",
       "      <td>3</td>\n",
       "    </tr>\n",
       "    <tr>\n",
       "      <th>301</th>\n",
       "      <td>57.0</td>\n",
       "      <td>0.0</td>\n",
       "      <td>2.0</td>\n",
       "      <td>130.0</td>\n",
       "      <td>236.0</td>\n",
       "      <td>0.0</td>\n",
       "      <td>2.0</td>\n",
       "      <td>174.0</td>\n",
       "      <td>0.0</td>\n",
       "      <td>0.0</td>\n",
       "      <td>2.0</td>\n",
       "      <td>1.0</td>\n",
       "      <td>3.0</td>\n",
       "      <td>1</td>\n",
       "    </tr>\n",
       "    <tr>\n",
       "      <th>302</th>\n",
       "      <td>38.0</td>\n",
       "      <td>1.0</td>\n",
       "      <td>3.0</td>\n",
       "      <td>138.0</td>\n",
       "      <td>175.0</td>\n",
       "      <td>0.0</td>\n",
       "      <td>0.0</td>\n",
       "      <td>173.0</td>\n",
       "      <td>0.0</td>\n",
       "      <td>0.0</td>\n",
       "      <td>1.0</td>\n",
       "      <td>?</td>\n",
       "      <td>3.0</td>\n",
       "      <td>0</td>\n",
       "    </tr>\n",
       "  </tbody>\n",
       "</table>\n",
       "<p>303 rows × 14 columns</p>\n",
       "</div>"
      ],
      "text/plain": [
       "      age  sex   cp  trestbps   chol  fbs  restecg  thalach  exang  oldpeak  \\\n",
       "0    63.0  1.0  1.0     145.0  233.0  1.0      2.0    150.0    0.0      2.3   \n",
       "1    67.0  1.0  4.0     160.0  286.0  0.0      2.0    108.0    1.0      1.5   \n",
       "2    67.0  1.0  4.0     120.0  229.0  0.0      2.0    129.0    1.0      2.6   \n",
       "3    37.0  1.0  3.0     130.0  250.0  0.0      0.0    187.0    0.0      3.5   \n",
       "4    41.0  0.0  2.0     130.0  204.0  0.0      2.0    172.0    0.0      1.4   \n",
       "..    ...  ...  ...       ...    ...  ...      ...      ...    ...      ...   \n",
       "298  45.0  1.0  1.0     110.0  264.0  0.0      0.0    132.0    0.0      1.2   \n",
       "299  68.0  1.0  4.0     144.0  193.0  1.0      0.0    141.0    0.0      3.4   \n",
       "300  57.0  1.0  4.0     130.0  131.0  0.0      0.0    115.0    1.0      1.2   \n",
       "301  57.0  0.0  2.0     130.0  236.0  0.0      2.0    174.0    0.0      0.0   \n",
       "302  38.0  1.0  3.0     138.0  175.0  0.0      0.0    173.0    0.0      0.0   \n",
       "\n",
       "     slope   ca thal  num  \n",
       "0      3.0  0.0  6.0    0  \n",
       "1      2.0  3.0  3.0    2  \n",
       "2      2.0  2.0  7.0    1  \n",
       "3      3.0  0.0  3.0    0  \n",
       "4      1.0  0.0  3.0    0  \n",
       "..     ...  ...  ...  ...  \n",
       "298    2.0  0.0  7.0    1  \n",
       "299    2.0  2.0  7.0    2  \n",
       "300    2.0  1.0  7.0    3  \n",
       "301    2.0  1.0  3.0    1  \n",
       "302    1.0    ?  3.0    0  \n",
       "\n",
       "[303 rows x 14 columns]"
      ]
     },
     "execution_count": 3,
     "metadata": {},
     "output_type": "execute_result"
    }
   ],
   "source": [
    "patientDf=pd.read_csv(\"processed.cleveland.data\",sep=',')\n",
    "\n",
    "patientDf"
   ]
  },
  {
   "cell_type": "markdown",
   "id": "0829be31",
   "metadata": {
    "papermill": {
     "duration": 0.013954,
     "end_time": "2022-05-20T10:24:55.012852",
     "exception": false,
     "start_time": "2022-05-20T10:24:54.998898",
     "status": "completed"
    },
    "pycharm": {
     "name": "#%% md\n"
    },
    "tags": []
   },
   "source": [
    "# Data Exploration"
   ]
  },
  {
   "cell_type": "markdown",
   "id": "e8a2038c",
   "metadata": {
    "papermill": {
     "duration": 0.013831,
     "end_time": "2022-05-20T10:24:55.040624",
     "exception": false,
     "start_time": "2022-05-20T10:24:55.026793",
     "status": "completed"
    },
    "pycharm": {
     "name": "#%% md\n"
    },
    "tags": []
   },
   "source": [
    "### Data Structure"
   ]
  },
  {
   "cell_type": "code",
   "execution_count": 4,
   "id": "a6412075",
   "metadata": {
    "execution": {
     "iopub.execute_input": "2022-05-20T10:24:55.070416Z",
     "iopub.status.busy": "2022-05-20T10:24:55.069782Z",
     "iopub.status.idle": "2022-05-20T10:24:55.081530Z",
     "shell.execute_reply": "2022-05-20T10:24:55.080951Z"
    },
    "papermill": {
     "duration": 0.028614,
     "end_time": "2022-05-20T10:24:55.083082",
     "exception": false,
     "start_time": "2022-05-20T10:24:55.054468",
     "status": "completed"
    },
    "pycharm": {
     "name": "#%%\n"
    },
    "tags": []
   },
   "outputs": [
    {
     "name": "stdout",
     "output_type": "stream",
     "text": [
      "<class 'pandas.core.frame.DataFrame'>\n",
      "RangeIndex: 303 entries, 0 to 302\n",
      "Data columns (total 14 columns):\n",
      " #   Column    Non-Null Count  Dtype  \n",
      "---  ------    --------------  -----  \n",
      " 0   age       303 non-null    float64\n",
      " 1   sex       303 non-null    float64\n",
      " 2   cp        303 non-null    float64\n",
      " 3   trestbps  303 non-null    float64\n",
      " 4   chol      303 non-null    float64\n",
      " 5   fbs       303 non-null    float64\n",
      " 6   restecg   303 non-null    float64\n",
      " 7   thalach   303 non-null    float64\n",
      " 8   exang     303 non-null    float64\n",
      " 9   oldpeak   303 non-null    float64\n",
      " 10  slope     303 non-null    float64\n",
      " 11  ca        303 non-null    object \n",
      " 12  thal      303 non-null    object \n",
      " 13  num       303 non-null    int64  \n",
      "dtypes: float64(11), int64(1), object(2)\n",
      "memory usage: 33.3+ KB\n"
     ]
    }
   ],
   "source": [
    "patientDf.info()"
   ]
  },
  {
   "cell_type": "markdown",
   "id": "4b0ec2a0",
   "metadata": {
    "papermill": {
     "duration": 0.014419,
     "end_time": "2022-05-20T10:24:55.111685",
     "exception": false,
     "start_time": "2022-05-20T10:24:55.097266",
     "status": "completed"
    },
    "pycharm": {
     "name": "#%% md\n"
    },
    "tags": []
   },
   "source": [
    "The dataset contains 1 label and 13 features.There is a total of 303 rows of data in this dataset.\n",
    "By viewing the basic information of the dataset,we realised 2 problem\n",
    " - Some feature's data type is incorrect. (E.g. Things like age and sex cannot be float numbers)\n",
    " - There is missing data but not identified by default Pandas.  (E.g. The data type of ca and thal is object which is abnormal but total non-null count is still 303.)"
   ]
  },
  {
   "cell_type": "markdown",
   "id": "4619903c",
   "metadata": {
    "papermill": {
     "duration": 0.014039,
     "end_time": "2022-05-20T10:24:55.139715",
     "exception": false,
     "start_time": "2022-05-20T10:24:55.125676",
     "status": "completed"
    },
    "pycharm": {
     "name": "#%% md\n"
    },
    "tags": []
   },
   "source": [
    "### Managing Missing Data\n"
   ]
  },
  {
   "cell_type": "code",
   "execution_count": 5,
   "id": "92ce1d95",
   "metadata": {
    "execution": {
     "iopub.execute_input": "2022-05-20T10:24:55.169617Z",
     "iopub.status.busy": "2022-05-20T10:24:55.169006Z",
     "iopub.status.idle": "2022-05-20T10:24:55.187207Z",
     "shell.execute_reply": "2022-05-20T10:24:55.186504Z"
    },
    "papermill": {
     "duration": 0.034972,
     "end_time": "2022-05-20T10:24:55.188714",
     "exception": false,
     "start_time": "2022-05-20T10:24:55.153742",
     "status": "completed"
    },
    "pycharm": {
     "name": "#%%\n"
    },
    "tags": []
   },
   "outputs": [
    {
     "data": {
      "text/html": [
       "<div>\n",
       "<style scoped>\n",
       "    .dataframe tbody tr th:only-of-type {\n",
       "        vertical-align: middle;\n",
       "    }\n",
       "\n",
       "    .dataframe tbody tr th {\n",
       "        vertical-align: top;\n",
       "    }\n",
       "\n",
       "    .dataframe thead th {\n",
       "        text-align: right;\n",
       "    }\n",
       "</style>\n",
       "<table border=\"1\" class=\"dataframe\">\n",
       "  <thead>\n",
       "    <tr style=\"text-align: right;\">\n",
       "      <th></th>\n",
       "      <th>age</th>\n",
       "      <th>sex</th>\n",
       "      <th>cp</th>\n",
       "      <th>trestbps</th>\n",
       "      <th>chol</th>\n",
       "      <th>fbs</th>\n",
       "      <th>restecg</th>\n",
       "      <th>thalach</th>\n",
       "      <th>exang</th>\n",
       "      <th>oldpeak</th>\n",
       "      <th>slope</th>\n",
       "      <th>ca</th>\n",
       "      <th>thal</th>\n",
       "      <th>num</th>\n",
       "    </tr>\n",
       "  </thead>\n",
       "  <tbody>\n",
       "    <tr>\n",
       "      <th>87</th>\n",
       "      <td>53.0</td>\n",
       "      <td>0.0</td>\n",
       "      <td>3.0</td>\n",
       "      <td>128.0</td>\n",
       "      <td>216.0</td>\n",
       "      <td>0.0</td>\n",
       "      <td>2.0</td>\n",
       "      <td>115.0</td>\n",
       "      <td>0.0</td>\n",
       "      <td>0.0</td>\n",
       "      <td>1.0</td>\n",
       "      <td>0.0</td>\n",
       "      <td>?</td>\n",
       "      <td>0</td>\n",
       "    </tr>\n",
       "    <tr>\n",
       "      <th>166</th>\n",
       "      <td>52.0</td>\n",
       "      <td>1.0</td>\n",
       "      <td>3.0</td>\n",
       "      <td>138.0</td>\n",
       "      <td>223.0</td>\n",
       "      <td>0.0</td>\n",
       "      <td>0.0</td>\n",
       "      <td>169.0</td>\n",
       "      <td>0.0</td>\n",
       "      <td>0.0</td>\n",
       "      <td>1.0</td>\n",
       "      <td>?</td>\n",
       "      <td>3.0</td>\n",
       "      <td>0</td>\n",
       "    </tr>\n",
       "    <tr>\n",
       "      <th>192</th>\n",
       "      <td>43.0</td>\n",
       "      <td>1.0</td>\n",
       "      <td>4.0</td>\n",
       "      <td>132.0</td>\n",
       "      <td>247.0</td>\n",
       "      <td>1.0</td>\n",
       "      <td>2.0</td>\n",
       "      <td>143.0</td>\n",
       "      <td>1.0</td>\n",
       "      <td>0.1</td>\n",
       "      <td>2.0</td>\n",
       "      <td>?</td>\n",
       "      <td>7.0</td>\n",
       "      <td>1</td>\n",
       "    </tr>\n",
       "    <tr>\n",
       "      <th>266</th>\n",
       "      <td>52.0</td>\n",
       "      <td>1.0</td>\n",
       "      <td>4.0</td>\n",
       "      <td>128.0</td>\n",
       "      <td>204.0</td>\n",
       "      <td>1.0</td>\n",
       "      <td>0.0</td>\n",
       "      <td>156.0</td>\n",
       "      <td>1.0</td>\n",
       "      <td>1.0</td>\n",
       "      <td>2.0</td>\n",
       "      <td>0.0</td>\n",
       "      <td>?</td>\n",
       "      <td>2</td>\n",
       "    </tr>\n",
       "    <tr>\n",
       "      <th>287</th>\n",
       "      <td>58.0</td>\n",
       "      <td>1.0</td>\n",
       "      <td>2.0</td>\n",
       "      <td>125.0</td>\n",
       "      <td>220.0</td>\n",
       "      <td>0.0</td>\n",
       "      <td>0.0</td>\n",
       "      <td>144.0</td>\n",
       "      <td>0.0</td>\n",
       "      <td>0.4</td>\n",
       "      <td>2.0</td>\n",
       "      <td>?</td>\n",
       "      <td>7.0</td>\n",
       "      <td>0</td>\n",
       "    </tr>\n",
       "    <tr>\n",
       "      <th>302</th>\n",
       "      <td>38.0</td>\n",
       "      <td>1.0</td>\n",
       "      <td>3.0</td>\n",
       "      <td>138.0</td>\n",
       "      <td>175.0</td>\n",
       "      <td>0.0</td>\n",
       "      <td>0.0</td>\n",
       "      <td>173.0</td>\n",
       "      <td>0.0</td>\n",
       "      <td>0.0</td>\n",
       "      <td>1.0</td>\n",
       "      <td>?</td>\n",
       "      <td>3.0</td>\n",
       "      <td>0</td>\n",
       "    </tr>\n",
       "  </tbody>\n",
       "</table>\n",
       "</div>"
      ],
      "text/plain": [
       "      age  sex   cp  trestbps   chol  fbs  restecg  thalach  exang  oldpeak  \\\n",
       "87   53.0  0.0  3.0     128.0  216.0  0.0      2.0    115.0    0.0      0.0   \n",
       "166  52.0  1.0  3.0     138.0  223.0  0.0      0.0    169.0    0.0      0.0   \n",
       "192  43.0  1.0  4.0     132.0  247.0  1.0      2.0    143.0    1.0      0.1   \n",
       "266  52.0  1.0  4.0     128.0  204.0  1.0      0.0    156.0    1.0      1.0   \n",
       "287  58.0  1.0  2.0     125.0  220.0  0.0      0.0    144.0    0.0      0.4   \n",
       "302  38.0  1.0  3.0     138.0  175.0  0.0      0.0    173.0    0.0      0.0   \n",
       "\n",
       "     slope   ca thal  num  \n",
       "87     1.0  0.0    ?    0  \n",
       "166    1.0    ?  3.0    0  \n",
       "192    2.0    ?  7.0    1  \n",
       "266    2.0  0.0    ?    2  \n",
       "287    2.0    ?  7.0    0  \n",
       "302    1.0    ?  3.0    0  "
      ]
     },
     "execution_count": 5,
     "metadata": {},
     "output_type": "execute_result"
    }
   ],
   "source": [
    "patientDf[np.isin(patientDf, ['?'])]"
   ]
  },
  {
   "cell_type": "markdown",
   "id": "7c7e827a",
   "metadata": {
    "papermill": {
     "duration": 0.014256,
     "end_time": "2022-05-20T10:24:55.217500",
     "exception": false,
     "start_time": "2022-05-20T10:24:55.203244",
     "status": "completed"
    },
    "pycharm": {
     "name": "#%% md\n"
    },
    "tags": []
   },
   "source": [
    "Previously,we found out that there is missing value in data.We realise that the missing value in this dataset is denoted as '?' which is not part of Panda's default NA values."
   ]
  },
  {
   "cell_type": "code",
   "execution_count": 6,
   "id": "62d4dc91",
   "metadata": {
    "execution": {
     "iopub.execute_input": "2022-05-20T10:24:55.247851Z",
     "iopub.status.busy": "2022-05-20T10:24:55.247258Z",
     "iopub.status.idle": "2022-05-20T10:24:55.258247Z",
     "shell.execute_reply": "2022-05-20T10:24:55.257556Z"
    },
    "papermill": {
     "duration": 0.027949,
     "end_time": "2022-05-20T10:24:55.259722",
     "exception": false,
     "start_time": "2022-05-20T10:24:55.231773",
     "status": "completed"
    },
    "pycharm": {
     "name": "#%%\n"
    },
    "tags": []
   },
   "outputs": [
    {
     "data": {
      "text/html": [
       "<div>\n",
       "<style scoped>\n",
       "    .dataframe tbody tr th:only-of-type {\n",
       "        vertical-align: middle;\n",
       "    }\n",
       "\n",
       "    .dataframe tbody tr th {\n",
       "        vertical-align: top;\n",
       "    }\n",
       "\n",
       "    .dataframe thead th {\n",
       "        text-align: right;\n",
       "    }\n",
       "</style>\n",
       "<table border=\"1\" class=\"dataframe\">\n",
       "  <thead>\n",
       "    <tr style=\"text-align: right;\">\n",
       "      <th></th>\n",
       "      <th>0</th>\n",
       "    </tr>\n",
       "  </thead>\n",
       "  <tbody>\n",
       "    <tr>\n",
       "      <th>ca</th>\n",
       "      <td>4</td>\n",
       "    </tr>\n",
       "    <tr>\n",
       "      <th>thal</th>\n",
       "      <td>2</td>\n",
       "    </tr>\n",
       "    <tr>\n",
       "      <th>age</th>\n",
       "      <td>0</td>\n",
       "    </tr>\n",
       "    <tr>\n",
       "      <th>sex</th>\n",
       "      <td>0</td>\n",
       "    </tr>\n",
       "    <tr>\n",
       "      <th>cp</th>\n",
       "      <td>0</td>\n",
       "    </tr>\n",
       "    <tr>\n",
       "      <th>trestbps</th>\n",
       "      <td>0</td>\n",
       "    </tr>\n",
       "    <tr>\n",
       "      <th>chol</th>\n",
       "      <td>0</td>\n",
       "    </tr>\n",
       "    <tr>\n",
       "      <th>fbs</th>\n",
       "      <td>0</td>\n",
       "    </tr>\n",
       "    <tr>\n",
       "      <th>restecg</th>\n",
       "      <td>0</td>\n",
       "    </tr>\n",
       "    <tr>\n",
       "      <th>thalach</th>\n",
       "      <td>0</td>\n",
       "    </tr>\n",
       "    <tr>\n",
       "      <th>exang</th>\n",
       "      <td>0</td>\n",
       "    </tr>\n",
       "    <tr>\n",
       "      <th>oldpeak</th>\n",
       "      <td>0</td>\n",
       "    </tr>\n",
       "    <tr>\n",
       "      <th>slope</th>\n",
       "      <td>0</td>\n",
       "    </tr>\n",
       "    <tr>\n",
       "      <th>num</th>\n",
       "      <td>0</td>\n",
       "    </tr>\n",
       "  </tbody>\n",
       "</table>\n",
       "</div>"
      ],
      "text/plain": [
       "          0\n",
       "ca        4\n",
       "thal      2\n",
       "age       0\n",
       "sex       0\n",
       "cp        0\n",
       "trestbps  0\n",
       "chol      0\n",
       "fbs       0\n",
       "restecg   0\n",
       "thalach   0\n",
       "exang     0\n",
       "oldpeak   0\n",
       "slope     0\n",
       "num       0"
      ]
     },
     "execution_count": 6,
     "metadata": {},
     "output_type": "execute_result"
    }
   ],
   "source": [
    "patientDf=pd.read_csv(\"processed.cleveland.data\",sep=',',na_values='?')\n",
    "pd.DataFrame(patientDf.isna().sum().sort_values(ascending=False))"
   ]
  },
  {
   "cell_type": "code",
   "execution_count": 7,
   "id": "e1b5c1db",
   "metadata": {
    "execution": {
     "iopub.execute_input": "2022-05-20T10:24:55.290640Z",
     "iopub.status.busy": "2022-05-20T10:24:55.290158Z",
     "iopub.status.idle": "2022-05-20T10:24:55.309222Z",
     "shell.execute_reply": "2022-05-20T10:24:55.308512Z"
    },
    "papermill": {
     "duration": 0.036395,
     "end_time": "2022-05-20T10:24:55.310808",
     "exception": false,
     "start_time": "2022-05-20T10:24:55.274413",
     "status": "completed"
    },
    "pycharm": {
     "name": "#%%\n"
    },
    "tags": []
   },
   "outputs": [
    {
     "data": {
      "text/html": [
       "<div>\n",
       "<style scoped>\n",
       "    .dataframe tbody tr th:only-of-type {\n",
       "        vertical-align: middle;\n",
       "    }\n",
       "\n",
       "    .dataframe tbody tr th {\n",
       "        vertical-align: top;\n",
       "    }\n",
       "\n",
       "    .dataframe thead th {\n",
       "        text-align: right;\n",
       "    }\n",
       "</style>\n",
       "<table border=\"1\" class=\"dataframe\">\n",
       "  <thead>\n",
       "    <tr style=\"text-align: right;\">\n",
       "      <th></th>\n",
       "      <th>age</th>\n",
       "      <th>sex</th>\n",
       "      <th>cp</th>\n",
       "      <th>trestbps</th>\n",
       "      <th>chol</th>\n",
       "      <th>fbs</th>\n",
       "      <th>restecg</th>\n",
       "      <th>thalach</th>\n",
       "      <th>exang</th>\n",
       "      <th>oldpeak</th>\n",
       "      <th>slope</th>\n",
       "      <th>ca</th>\n",
       "      <th>thal</th>\n",
       "      <th>num</th>\n",
       "    </tr>\n",
       "  </thead>\n",
       "  <tbody>\n",
       "    <tr>\n",
       "      <th>87</th>\n",
       "      <td>53.0</td>\n",
       "      <td>0.0</td>\n",
       "      <td>3.0</td>\n",
       "      <td>128.0</td>\n",
       "      <td>216.0</td>\n",
       "      <td>0.0</td>\n",
       "      <td>2.0</td>\n",
       "      <td>115.0</td>\n",
       "      <td>0.0</td>\n",
       "      <td>0.0</td>\n",
       "      <td>1.0</td>\n",
       "      <td>0.0</td>\n",
       "      <td>NaN</td>\n",
       "      <td>0</td>\n",
       "    </tr>\n",
       "    <tr>\n",
       "      <th>166</th>\n",
       "      <td>52.0</td>\n",
       "      <td>1.0</td>\n",
       "      <td>3.0</td>\n",
       "      <td>138.0</td>\n",
       "      <td>223.0</td>\n",
       "      <td>0.0</td>\n",
       "      <td>0.0</td>\n",
       "      <td>169.0</td>\n",
       "      <td>0.0</td>\n",
       "      <td>0.0</td>\n",
       "      <td>1.0</td>\n",
       "      <td>NaN</td>\n",
       "      <td>3.0</td>\n",
       "      <td>0</td>\n",
       "    </tr>\n",
       "    <tr>\n",
       "      <th>192</th>\n",
       "      <td>43.0</td>\n",
       "      <td>1.0</td>\n",
       "      <td>4.0</td>\n",
       "      <td>132.0</td>\n",
       "      <td>247.0</td>\n",
       "      <td>1.0</td>\n",
       "      <td>2.0</td>\n",
       "      <td>143.0</td>\n",
       "      <td>1.0</td>\n",
       "      <td>0.1</td>\n",
       "      <td>2.0</td>\n",
       "      <td>NaN</td>\n",
       "      <td>7.0</td>\n",
       "      <td>1</td>\n",
       "    </tr>\n",
       "    <tr>\n",
       "      <th>266</th>\n",
       "      <td>52.0</td>\n",
       "      <td>1.0</td>\n",
       "      <td>4.0</td>\n",
       "      <td>128.0</td>\n",
       "      <td>204.0</td>\n",
       "      <td>1.0</td>\n",
       "      <td>0.0</td>\n",
       "      <td>156.0</td>\n",
       "      <td>1.0</td>\n",
       "      <td>1.0</td>\n",
       "      <td>2.0</td>\n",
       "      <td>0.0</td>\n",
       "      <td>NaN</td>\n",
       "      <td>2</td>\n",
       "    </tr>\n",
       "    <tr>\n",
       "      <th>287</th>\n",
       "      <td>58.0</td>\n",
       "      <td>1.0</td>\n",
       "      <td>2.0</td>\n",
       "      <td>125.0</td>\n",
       "      <td>220.0</td>\n",
       "      <td>0.0</td>\n",
       "      <td>0.0</td>\n",
       "      <td>144.0</td>\n",
       "      <td>0.0</td>\n",
       "      <td>0.4</td>\n",
       "      <td>2.0</td>\n",
       "      <td>NaN</td>\n",
       "      <td>7.0</td>\n",
       "      <td>0</td>\n",
       "    </tr>\n",
       "    <tr>\n",
       "      <th>302</th>\n",
       "      <td>38.0</td>\n",
       "      <td>1.0</td>\n",
       "      <td>3.0</td>\n",
       "      <td>138.0</td>\n",
       "      <td>175.0</td>\n",
       "      <td>0.0</td>\n",
       "      <td>0.0</td>\n",
       "      <td>173.0</td>\n",
       "      <td>0.0</td>\n",
       "      <td>0.0</td>\n",
       "      <td>1.0</td>\n",
       "      <td>NaN</td>\n",
       "      <td>3.0</td>\n",
       "      <td>0</td>\n",
       "    </tr>\n",
       "  </tbody>\n",
       "</table>\n",
       "</div>"
      ],
      "text/plain": [
       "      age  sex   cp  trestbps   chol  fbs  restecg  thalach  exang  oldpeak  \\\n",
       "87   53.0  0.0  3.0     128.0  216.0  0.0      2.0    115.0    0.0      0.0   \n",
       "166  52.0  1.0  3.0     138.0  223.0  0.0      0.0    169.0    0.0      0.0   \n",
       "192  43.0  1.0  4.0     132.0  247.0  1.0      2.0    143.0    1.0      0.1   \n",
       "266  52.0  1.0  4.0     128.0  204.0  1.0      0.0    156.0    1.0      1.0   \n",
       "287  58.0  1.0  2.0     125.0  220.0  0.0      0.0    144.0    0.0      0.4   \n",
       "302  38.0  1.0  3.0     138.0  175.0  0.0      0.0    173.0    0.0      0.0   \n",
       "\n",
       "     slope   ca  thal  num  \n",
       "87     1.0  0.0   NaN    0  \n",
       "166    1.0  NaN   3.0    0  \n",
       "192    2.0  NaN   7.0    1  \n",
       "266    2.0  0.0   NaN    2  \n",
       "287    2.0  NaN   7.0    0  \n",
       "302    1.0  NaN   3.0    0  "
      ]
     },
     "execution_count": 7,
     "metadata": {},
     "output_type": "execute_result"
    }
   ],
   "source": [
    "patientDf[patientDf.isna().any(axis=1)]"
   ]
  },
  {
   "cell_type": "code",
   "execution_count": 8,
   "id": "80b485a2",
   "metadata": {
    "execution": {
     "iopub.execute_input": "2022-05-20T10:24:55.342614Z",
     "iopub.status.busy": "2022-05-20T10:24:55.342006Z",
     "iopub.status.idle": "2022-05-20T10:24:55.554506Z",
     "shell.execute_reply": "2022-05-20T10:24:55.553772Z"
    },
    "papermill": {
     "duration": 0.230412,
     "end_time": "2022-05-20T10:24:55.556232",
     "exception": false,
     "start_time": "2022-05-20T10:24:55.325820",
     "status": "completed"
    },
    "pycharm": {
     "name": "#%%\n"
    },
    "tags": []
   },
   "outputs": [
    {
     "data": {
      "text/plain": [
       "<AxesSubplot:title={'center':'Number of missing values in features'}>"
      ]
     },
     "execution_count": 8,
     "metadata": {},
     "output_type": "execute_result"
    },
    {
     "data": {
      "image/png": "[encoded data removed]",
      "text/plain": [
       "<Figure size 432x288 with 1 Axes>"
      ]
     },
     "metadata": {
      "needs_background": "light"
     },
     "output_type": "display_data"
    }
   ],
   "source": [
    "patientDf.isna().sum().sort_values().plot.barh(title='Number of missing values in features')\n"
   ]
  },
  {
   "cell_type": "markdown",
   "id": "5b7868df",
   "metadata": {
    "papermill": {
     "duration": 0.018847,
     "end_time": "2022-05-20T10:24:55.594310",
     "exception": false,
     "start_time": "2022-05-20T10:24:55.575463",
     "status": "completed"
    },
    "pycharm": {
     "name": "#%% md\n"
    },
    "tags": []
   },
   "source": [
    "The missing data mainly assemble at ca and thal attribute.\n",
    "At first glance ,we see that there is no common relation in missing data.It is very likely a MCAR mechanism.However,to further confirm our hypothesis,we carry out the little's MCAR Test.\n",
    "\n",
    "\n",
    "| Type                               | Description                                                                                      |\n",
    "|------------------------------------|------------------------------------------------------------------------------------------------------------------------------------------------------------------------------------------------|\n",
    "| Missing completely at random(MCAR) | The causes of the missing data are unrelated to the data. We may consequently ignore many of the complexities that arise because data are missing, apart from the obvious loss of information. |\n",
    "| Missing at random    (MAR)         | The probability of being missing is the same only within groups defined by the observed data                                                                                                   |\n",
    "| Missing not at random (MNAR)       | The probability of being missing varies for reasons that are unknown to us.                                                                                                                    |"
   ]
  },
  {
   "cell_type": "code",
   "execution_count": 9,
   "id": "5bdb3c6f",
   "metadata": {
    "execution": {
     "iopub.execute_input": "2022-05-20T10:24:55.639088Z",
     "iopub.status.busy": "2022-05-20T10:24:55.638323Z",
     "iopub.status.idle": "2022-05-20T10:24:55.665033Z",
     "shell.execute_reply": "2022-05-20T10:24:55.664336Z"
    },
    "papermill": {
     "duration": 0.046854,
     "end_time": "2022-05-20T10:24:55.667028",
     "exception": false,
     "start_time": "2022-05-20T10:24:55.620174",
     "status": "completed"
    },
    "pycharm": {
     "name": "#%%\n"
    },
    "tags": []
   },
   "outputs": [
    {
     "data": {
      "text/html": [
       "<div>\n",
       "<style scoped>\n",
       "    .dataframe tbody tr th:only-of-type {\n",
       "        vertical-align: middle;\n",
       "    }\n",
       "\n",
       "    .dataframe tbody tr th {\n",
       "        vertical-align: top;\n",
       "    }\n",
       "\n",
       "    .dataframe thead th {\n",
       "        text-align: right;\n",
       "    }\n",
       "</style>\n",
       "<table border=\"1\" class=\"dataframe\">\n",
       "  <thead>\n",
       "    <tr style=\"text-align: right;\">\n",
       "      <th></th>\n",
       "      <th>Subject</th>\n",
       "      <th>P-value</th>\n",
       "    </tr>\n",
       "  </thead>\n",
       "  <tbody>\n",
       "    <tr>\n",
       "      <th>0</th>\n",
       "      <td>Chi-Square Test hypothesis test</td>\n",
       "      <td>0.892389</td>\n",
       "    </tr>\n",
       "  </tbody>\n",
       "</table>\n",
       "</div>"
      ],
      "text/plain": [
       "                           Subject   P-value\n",
       "0  Chi-Square Test hypothesis test  0.892389"
      ]
     },
     "execution_count": 9,
     "metadata": {},
     "output_type": "execute_result"
    }
   ],
   "source": [
    "mt= MCARTest(method='little')\n",
    "little=pd.DataFrame({\"Subject\":[\"Chi-Square Test hypothesis test\"],\"P-value\":[mt.little_mcar_test(patientDf)]})\n",
    "\n",
    "\n",
    "little"
   ]
  },
  {
   "cell_type": "markdown",
   "id": "ec1738de",
   "metadata": {
    "papermill": {
     "duration": 0.017003,
     "end_time": "2022-05-20T10:24:55.701884",
     "exception": false,
     "start_time": "2022-05-20T10:24:55.684881",
     "status": "completed"
    },
    "pycharm": {
     "name": "#%% md\n"
    },
    "tags": []
   },
   "source": [
    "$H_{0}$ : Data is MCAR\n",
    "$H_{1}$ : Data is not MCAR\n",
    "\n",
    "We see that p value=0.8923 >a=0.05.It is not rare to have data being MCAR.Hence,there is insufficient evidence to reject H0 that data is MCAR.Therefore, we conclude that the data is MCAR.In this case ,we will proceed with using MissForest Imputer to substitute missing values."
   ]
  },
  {
   "cell_type": "markdown",
   "id": "a9937209",
   "metadata": {
    "papermill": {
     "duration": 0.01686,
     "end_time": "2022-05-20T10:24:55.735679",
     "exception": false,
     "start_time": "2022-05-20T10:24:55.718819",
     "status": "completed"
    },
    "pycharm": {
     "name": "#%% md\n"
    },
    "tags": []
   },
   "source": [
    "### Converting Data Structure"
   ]
  },
  {
   "cell_type": "code",
   "execution_count": 10,
   "id": "68619aa8",
   "metadata": {
    "execution": {
     "iopub.execute_input": "2022-05-20T10:24:55.771385Z",
     "iopub.status.busy": "2022-05-20T10:24:55.770636Z",
     "iopub.status.idle": "2022-05-20T10:24:55.780993Z",
     "shell.execute_reply": "2022-05-20T10:24:55.780294Z"
    },
    "papermill": {
     "duration": 0.030039,
     "end_time": "2022-05-20T10:24:55.782646",
     "exception": false,
     "start_time": "2022-05-20T10:24:55.752607",
     "status": "completed"
    },
    "pycharm": {
     "name": "#%%\n"
    },
    "tags": []
   },
   "outputs": [
    {
     "data": {
      "text/plain": [
       "age           int64\n",
       "sex           int64\n",
       "cp            int64\n",
       "trestbps      int64\n",
       "chol          int64\n",
       "fbs           int64\n",
       "restecg       int64\n",
       "thalach       int64\n",
       "exang         int64\n",
       "oldpeak     float64\n",
       "slope         int64\n",
       "ca          float64\n",
       "thal        float64\n",
       "num           int64\n",
       "dtype: object"
      ]
     },
     "execution_count": 10,
     "metadata": {},
     "output_type": "execute_result"
    }
   ],
   "source": [
    "patientDf=patientDf.astype({'age':np.int64,'sex':np.int64,'cp':np.int64,'trestbps':np.int64,'chol':np.int64,'exang':np.int64,'slope':np.int64,'fbs':np.int64,'restecg':np.int64,'thalach':np.int64,'num':np.int64})\n",
    "patientDf.dtypes"
   ]
  },
  {
   "cell_type": "markdown",
   "id": "79d2a19a",
   "metadata": {
    "papermill": {
     "duration": 0.017315,
     "end_time": "2022-05-20T10:24:55.817085",
     "exception": false,
     "start_time": "2022-05-20T10:24:55.799770",
     "status": "completed"
    },
    "pycharm": {
     "name": "#%% md\n"
    },
    "tags": []
   },
   "source": [
    "### Label Formatting"
   ]
  },
  {
   "cell_type": "code",
   "execution_count": 11,
   "id": "cbbf1c0b",
   "metadata": {
    "execution": {
     "iopub.execute_input": "2022-05-20T10:24:55.853133Z",
     "iopub.status.busy": "2022-05-20T10:24:55.852346Z",
     "iopub.status.idle": "2022-05-20T10:24:55.857266Z",
     "shell.execute_reply": "2022-05-20T10:24:55.856462Z"
    },
    "papermill": {
     "duration": 0.024725,
     "end_time": "2022-05-20T10:24:55.858927",
     "exception": false,
     "start_time": "2022-05-20T10:24:55.834202",
     "status": "completed"
    },
    "pycharm": {
     "name": "#%%\n"
    },
    "tags": []
   },
   "outputs": [],
   "source": [
    "patientDf.loc[patientDf['num'] > 0, 'num'] = 1"
   ]
  },
  {
   "cell_type": "markdown",
   "id": "c3239380",
   "metadata": {
    "papermill": {
     "duration": 0.017521,
     "end_time": "2022-05-20T10:24:55.893845",
     "exception": false,
     "start_time": "2022-05-20T10:24:55.876324",
     "status": "completed"
    },
    "pycharm": {
     "name": "#%% md\n"
    },
    "tags": []
   },
   "source": [
    "### Target Predictor"
   ]
  },
  {
   "cell_type": "code",
   "execution_count": 12,
   "id": "2d3ee2a6",
   "metadata": {
    "execution": {
     "iopub.execute_input": "2022-05-20T10:24:55.929994Z",
     "iopub.status.busy": "2022-05-20T10:24:55.929359Z",
     "iopub.status.idle": "2022-05-20T10:24:56.044304Z",
     "shell.execute_reply": "2022-05-20T10:24:56.043470Z"
    },
    "papermill": {
     "duration": 0.134768,
     "end_time": "2022-05-20T10:24:56.045714",
     "exception": false,
     "start_time": "2022-05-20T10:24:55.910946",
     "status": "completed"
    },
    "pycharm": {
     "name": "#%%\n"
    },
    "tags": []
   },
   "outputs": [
    {
     "data": {
      "text/plain": [
       "Text(0.5, 1.0, 'Distribution of target label')"
      ]
     },
     "execution_count": 12,
     "metadata": {},
     "output_type": "execute_result"
    },
    {
     "data": {
      "image/png": "[encoded data removed]",
      "text/plain": [
       "<Figure size 432x288 with 1 Axes>"
      ]
     },
     "metadata": {
      "needs_background": "light"
     },
     "output_type": "display_data"
    }
   ],
   "source": [
    "sns.countplot(data=patientDf,x='num').set_title('Distribution of target label')"
   ]
  },
  {
   "cell_type": "markdown",
   "id": "45d1d5fd",
   "metadata": {
    "papermill": {
     "duration": 0.015424,
     "end_time": "2022-05-20T10:24:56.077055",
     "exception": false,
     "start_time": "2022-05-20T10:24:56.061631",
     "status": "completed"
    },
    "pycharm": {
     "name": "#%% md\n"
    },
    "tags": []
   },
   "source": [
    "Looking at the distribution of data for our target predictor,we realise that the data is only slightly  imbalanced.Number of patients with cardiovascular disease are slightly lesser than number of patients with no cardiovascular disease.We may consider doing oversampling based on the performace of model later."
   ]
  },
  {
   "cell_type": "markdown",
   "id": "a6decec9",
   "metadata": {
    "papermill": {
     "duration": 0.015259,
     "end_time": "2022-05-20T10:24:56.107738",
     "exception": false,
     "start_time": "2022-05-20T10:24:56.092479",
     "status": "completed"
    },
    "pycharm": {
     "name": "#%% md\n"
    },
    "tags": []
   },
   "source": []
  },
  {
   "cell_type": "markdown",
   "id": "28b01fa3",
   "metadata": {
    "papermill": {
     "duration": 0.015423,
     "end_time": "2022-05-20T10:24:56.138394",
     "exception": false,
     "start_time": "2022-05-20T10:24:56.122971",
     "status": "completed"
    },
    "pycharm": {
     "name": "#%% md\n"
    },
    "tags": []
   },
   "source": [
    "#### Quantitative Variables"
   ]
  },
  {
   "cell_type": "code",
   "execution_count": 13,
   "id": "49e38241",
   "metadata": {
    "execution": {
     "iopub.execute_input": "2022-05-20T10:24:56.170906Z",
     "iopub.status.busy": "2022-05-20T10:24:56.170069Z",
     "iopub.status.idle": "2022-05-20T10:24:56.174067Z",
     "shell.execute_reply": "2022-05-20T10:24:56.173432Z"
    },
    "papermill": {
     "duration": 0.022587,
     "end_time": "2022-05-20T10:24:56.176219",
     "exception": false,
     "start_time": "2022-05-20T10:24:56.153632",
     "status": "completed"
    },
    "pycharm": {
     "name": "#%%\n"
    },
    "tags": []
   },
   "outputs": [],
   "source": [
    "quantitativeVariables=['age','trestbps','chol','thalach','oldpeak','ca']"
   ]
  },
  {
   "cell_type": "markdown",
   "id": "57b7e292",
   "metadata": {
    "papermill": {
     "duration": 0.019813,
     "end_time": "2022-05-20T10:24:56.216136",
     "exception": false,
     "start_time": "2022-05-20T10:24:56.196323",
     "status": "completed"
    },
    "pycharm": {
     "name": "#%% md\n"
    },
    "tags": []
   },
   "source": [
    "#### Qualitative Variables"
   ]
  },
  {
   "cell_type": "code",
   "execution_count": 14,
   "id": "6dea2de0",
   "metadata": {
    "execution": {
     "iopub.execute_input": "2022-05-20T10:24:56.252558Z",
     "iopub.status.busy": "2022-05-20T10:24:56.251912Z",
     "iopub.status.idle": "2022-05-20T10:24:56.256123Z",
     "shell.execute_reply": "2022-05-20T10:24:56.255272Z"
    },
    "papermill": {
     "duration": 0.024433,
     "end_time": "2022-05-20T10:24:56.257795",
     "exception": false,
     "start_time": "2022-05-20T10:24:56.233362",
     "status": "completed"
    },
    "pycharm": {
     "name": "#%%\n"
    },
    "tags": []
   },
   "outputs": [],
   "source": [
    "quatitativeVariables=['sex','cp','restecg','exang','slope','thal','fbs']"
   ]
  },
  {
   "cell_type": "markdown",
   "id": "d6496268",
   "metadata": {
    "papermill": {
     "duration": 0.017248,
     "end_time": "2022-05-20T10:24:56.292280",
     "exception": false,
     "start_time": "2022-05-20T10:24:56.275032",
     "status": "completed"
    },
    "pycharm": {
     "name": "#%% md\n"
    },
    "tags": []
   },
   "source": [
    "#### Univariate Analysis"
   ]
  },
  {
   "cell_type": "code",
   "execution_count": 15,
   "id": "61fdd477",
   "metadata": {
    "execution": {
     "iopub.execute_input": "2022-05-20T10:24:56.328838Z",
     "iopub.status.busy": "2022-05-20T10:24:56.328006Z",
     "iopub.status.idle": "2022-05-20T10:24:56.352557Z",
     "shell.execute_reply": "2022-05-20T10:24:56.351786Z"
    },
    "papermill": {
     "duration": 0.044701,
     "end_time": "2022-05-20T10:24:56.354380",
     "exception": false,
     "start_time": "2022-05-20T10:24:56.309679",
     "status": "completed"
    },
    "pycharm": {
     "name": "#%%\n"
    },
    "tags": []
   },
   "outputs": [
    {
     "data": {
      "text/html": [
       "<div>\n",
       "<style scoped>\n",
       "    .dataframe tbody tr th:only-of-type {\n",
       "        vertical-align: middle;\n",
       "    }\n",
       "\n",
       "    .dataframe tbody tr th {\n",
       "        vertical-align: top;\n",
       "    }\n",
       "\n",
       "    .dataframe thead th {\n",
       "        text-align: right;\n",
       "    }\n",
       "</style>\n",
       "<table border=\"1\" class=\"dataframe\">\n",
       "  <thead>\n",
       "    <tr style=\"text-align: right;\">\n",
       "      <th></th>\n",
       "      <th>age</th>\n",
       "      <th>trestbps</th>\n",
       "      <th>chol</th>\n",
       "      <th>thalach</th>\n",
       "      <th>oldpeak</th>\n",
       "      <th>ca</th>\n",
       "    </tr>\n",
       "  </thead>\n",
       "  <tbody>\n",
       "    <tr>\n",
       "      <th>count</th>\n",
       "      <td>303.000000</td>\n",
       "      <td>303.000000</td>\n",
       "      <td>303.000000</td>\n",
       "      <td>303.000000</td>\n",
       "      <td>303.000000</td>\n",
       "      <td>299.000000</td>\n",
       "    </tr>\n",
       "    <tr>\n",
       "      <th>mean</th>\n",
       "      <td>54.438944</td>\n",
       "      <td>131.689769</td>\n",
       "      <td>246.693069</td>\n",
       "      <td>149.607261</td>\n",
       "      <td>1.039604</td>\n",
       "      <td>0.672241</td>\n",
       "    </tr>\n",
       "    <tr>\n",
       "      <th>std</th>\n",
       "      <td>9.038662</td>\n",
       "      <td>17.599748</td>\n",
       "      <td>51.776918</td>\n",
       "      <td>22.875003</td>\n",
       "      <td>1.161075</td>\n",
       "      <td>0.937438</td>\n",
       "    </tr>\n",
       "    <tr>\n",
       "      <th>min</th>\n",
       "      <td>29.000000</td>\n",
       "      <td>94.000000</td>\n",
       "      <td>126.000000</td>\n",
       "      <td>71.000000</td>\n",
       "      <td>0.000000</td>\n",
       "      <td>0.000000</td>\n",
       "    </tr>\n",
       "    <tr>\n",
       "      <th>25%</th>\n",
       "      <td>48.000000</td>\n",
       "      <td>120.000000</td>\n",
       "      <td>211.000000</td>\n",
       "      <td>133.500000</td>\n",
       "      <td>0.000000</td>\n",
       "      <td>0.000000</td>\n",
       "    </tr>\n",
       "    <tr>\n",
       "      <th>50%</th>\n",
       "      <td>56.000000</td>\n",
       "      <td>130.000000</td>\n",
       "      <td>241.000000</td>\n",
       "      <td>153.000000</td>\n",
       "      <td>0.800000</td>\n",
       "      <td>0.000000</td>\n",
       "    </tr>\n",
       "    <tr>\n",
       "      <th>75%</th>\n",
       "      <td>61.000000</td>\n",
       "      <td>140.000000</td>\n",
       "      <td>275.000000</td>\n",
       "      <td>166.000000</td>\n",
       "      <td>1.600000</td>\n",
       "      <td>1.000000</td>\n",
       "    </tr>\n",
       "    <tr>\n",
       "      <th>max</th>\n",
       "      <td>77.000000</td>\n",
       "      <td>200.000000</td>\n",
       "      <td>564.000000</td>\n",
       "      <td>202.000000</td>\n",
       "      <td>6.200000</td>\n",
       "      <td>3.000000</td>\n",
       "    </tr>\n",
       "  </tbody>\n",
       "</table>\n",
       "</div>"
      ],
      "text/plain": [
       "              age    trestbps        chol     thalach     oldpeak          ca\n",
       "count  303.000000  303.000000  303.000000  303.000000  303.000000  299.000000\n",
       "mean    54.438944  131.689769  246.693069  149.607261    1.039604    0.672241\n",
       "std      9.038662   17.599748   51.776918   22.875003    1.161075    0.937438\n",
       "min     29.000000   94.000000  126.000000   71.000000    0.000000    0.000000\n",
       "25%     48.000000  120.000000  211.000000  133.500000    0.000000    0.000000\n",
       "50%     56.000000  130.000000  241.000000  153.000000    0.800000    0.000000\n",
       "75%     61.000000  140.000000  275.000000  166.000000    1.600000    1.000000\n",
       "max     77.000000  200.000000  564.000000  202.000000    6.200000    3.000000"
      ]
     },
     "execution_count": 15,
     "metadata": {},
     "output_type": "execute_result"
    }
   ],
   "source": [
    "patientDf[quantitativeVariables].describe()"
   ]
  },
  {
   "cell_type": "code",
   "execution_count": 16,
   "id": "4cd2f2e1",
   "metadata": {
    "execution": {
     "iopub.execute_input": "2022-05-20T10:24:56.391581Z",
     "iopub.status.busy": "2022-05-20T10:24:56.390946Z",
     "iopub.status.idle": "2022-05-20T10:24:57.319152Z",
     "shell.execute_reply": "2022-05-20T10:24:57.318363Z"
    },
    "papermill": {
     "duration": 0.948897,
     "end_time": "2022-05-20T10:24:57.320960",
     "exception": false,
     "start_time": "2022-05-20T10:24:56.372063",
     "status": "completed"
    },
    "pycharm": {
     "name": "#%%\n"
    },
    "tags": []
   },
   "outputs": [
    {
     "data": {
      "image/png": "[encoded data removed]",
      "text/plain": [
       "<Figure size 576x1080 with 8 Axes>"
      ]
     },
     "metadata": {
      "needs_background": "light"
     },
     "output_type": "display_data"
    }
   ],
   "source": [
    "fig, ax = plt.subplots(int(np.ceil(len(quatitativeVariables)/2)), 2, figsize=(8, 15), tight_layout=True)\n",
    "for i,y in enumerate(quatitativeVariables):\n",
    "    n=1 if i%2==0 else 0\n",
    "    g=sns.countplot(x=y,data=patientDf,ax=ax[int(np.floor(i/2)),n])\n",
    "    g.bar_label(g.containers[0])\n",
    "fig.show()\n",
    "\n"
   ]
  },
  {
   "cell_type": "code",
   "execution_count": 17,
   "id": "92d44adf",
   "metadata": {
    "execution": {
     "iopub.execute_input": "2022-05-20T10:24:57.364723Z",
     "iopub.status.busy": "2022-05-20T10:24:57.364014Z",
     "iopub.status.idle": "2022-05-20T10:24:58.206932Z",
     "shell.execute_reply": "2022-05-20T10:24:58.206045Z"
    },
    "papermill": {
     "duration": 0.866219,
     "end_time": "2022-05-20T10:24:58.209434",
     "exception": false,
     "start_time": "2022-05-20T10:24:57.343215",
     "status": "completed"
    },
    "pycharm": {
     "name": "#%%\n"
    },
    "tags": []
   },
   "outputs": [
    {
     "data": {
      "text/plain": [
       "array([[<AxesSubplot:title={'center':'age'}>,\n",
       "        <AxesSubplot:title={'center':'trestbps'}>],\n",
       "       [<AxesSubplot:title={'center':'chol'}>,\n",
       "        <AxesSubplot:title={'center':'thalach'}>],\n",
       "       [<AxesSubplot:title={'center':'oldpeak'}>,\n",
       "        <AxesSubplot:title={'center':'ca'}>]], dtype=object)"
      ]
     },
     "execution_count": 17,
     "metadata": {},
     "output_type": "execute_result"
    },
    {
     "data": {
      "image/png": "[encoded data removed]",
      "text/plain": [
       "<Figure size 720x576 with 6 Axes>"
      ]
     },
     "metadata": {
      "needs_background": "light"
     },
     "output_type": "display_data"
    }
   ],
   "source": [
    "patientDf[quantitativeVariables].hist(figsize=(10, 8))"
   ]
  },
  {
   "cell_type": "code",
   "execution_count": 18,
   "id": "24cee788",
   "metadata": {
    "execution": {
     "iopub.execute_input": "2022-05-20T10:24:58.249584Z",
     "iopub.status.busy": "2022-05-20T10:24:58.248754Z",
     "iopub.status.idle": "2022-05-20T10:24:58.267897Z",
     "shell.execute_reply": "2022-05-20T10:24:58.266826Z"
    },
    "papermill": {
     "duration": 0.040967,
     "end_time": "2022-05-20T10:24:58.269681",
     "exception": false,
     "start_time": "2022-05-20T10:24:58.228714",
     "status": "completed"
    },
    "pycharm": {
     "name": "#%%\n"
    },
    "tags": []
   },
   "outputs": [
    {
     "data": {
      "text/html": [
       "<div>\n",
       "<style scoped>\n",
       "    .dataframe tbody tr th:only-of-type {\n",
       "        vertical-align: middle;\n",
       "    }\n",
       "\n",
       "    .dataframe tbody tr th {\n",
       "        vertical-align: top;\n",
       "    }\n",
       "\n",
       "    .dataframe thead th {\n",
       "        text-align: right;\n",
       "    }\n",
       "</style>\n",
       "<table border=\"1\" class=\"dataframe\">\n",
       "  <thead>\n",
       "    <tr style=\"text-align: right;\">\n",
       "      <th></th>\n",
       "      <th>age</th>\n",
       "      <th>sex</th>\n",
       "      <th>cp</th>\n",
       "      <th>trestbps</th>\n",
       "      <th>chol</th>\n",
       "      <th>fbs</th>\n",
       "      <th>restecg</th>\n",
       "      <th>thalach</th>\n",
       "      <th>exang</th>\n",
       "      <th>oldpeak</th>\n",
       "      <th>slope</th>\n",
       "      <th>ca</th>\n",
       "      <th>thal</th>\n",
       "      <th>num</th>\n",
       "    </tr>\n",
       "  </thead>\n",
       "  <tbody>\n",
       "    <tr>\n",
       "      <th>14</th>\n",
       "      <td>52</td>\n",
       "      <td>1</td>\n",
       "      <td>3</td>\n",
       "      <td>172</td>\n",
       "      <td>199</td>\n",
       "      <td>1</td>\n",
       "      <td>0</td>\n",
       "      <td>162</td>\n",
       "      <td>0</td>\n",
       "      <td>0.5</td>\n",
       "      <td>1</td>\n",
       "      <td>0.0</td>\n",
       "      <td>7.0</td>\n",
       "      <td>0</td>\n",
       "    </tr>\n",
       "    <tr>\n",
       "      <th>83</th>\n",
       "      <td>68</td>\n",
       "      <td>1</td>\n",
       "      <td>3</td>\n",
       "      <td>180</td>\n",
       "      <td>274</td>\n",
       "      <td>1</td>\n",
       "      <td>2</td>\n",
       "      <td>150</td>\n",
       "      <td>1</td>\n",
       "      <td>1.6</td>\n",
       "      <td>2</td>\n",
       "      <td>0.0</td>\n",
       "      <td>7.0</td>\n",
       "      <td>1</td>\n",
       "    </tr>\n",
       "    <tr>\n",
       "      <th>126</th>\n",
       "      <td>56</td>\n",
       "      <td>0</td>\n",
       "      <td>4</td>\n",
       "      <td>200</td>\n",
       "      <td>288</td>\n",
       "      <td>1</td>\n",
       "      <td>2</td>\n",
       "      <td>133</td>\n",
       "      <td>1</td>\n",
       "      <td>4.0</td>\n",
       "      <td>3</td>\n",
       "      <td>2.0</td>\n",
       "      <td>7.0</td>\n",
       "      <td>1</td>\n",
       "    </tr>\n",
       "    <tr>\n",
       "      <th>172</th>\n",
       "      <td>59</td>\n",
       "      <td>0</td>\n",
       "      <td>4</td>\n",
       "      <td>174</td>\n",
       "      <td>249</td>\n",
       "      <td>0</td>\n",
       "      <td>0</td>\n",
       "      <td>143</td>\n",
       "      <td>1</td>\n",
       "      <td>0.0</td>\n",
       "      <td>2</td>\n",
       "      <td>0.0</td>\n",
       "      <td>3.0</td>\n",
       "      <td>1</td>\n",
       "    </tr>\n",
       "    <tr>\n",
       "      <th>183</th>\n",
       "      <td>59</td>\n",
       "      <td>1</td>\n",
       "      <td>1</td>\n",
       "      <td>178</td>\n",
       "      <td>270</td>\n",
       "      <td>0</td>\n",
       "      <td>2</td>\n",
       "      <td>145</td>\n",
       "      <td>0</td>\n",
       "      <td>4.2</td>\n",
       "      <td>3</td>\n",
       "      <td>0.0</td>\n",
       "      <td>7.0</td>\n",
       "      <td>0</td>\n",
       "    </tr>\n",
       "    <tr>\n",
       "      <th>188</th>\n",
       "      <td>54</td>\n",
       "      <td>1</td>\n",
       "      <td>2</td>\n",
       "      <td>192</td>\n",
       "      <td>283</td>\n",
       "      <td>0</td>\n",
       "      <td>2</td>\n",
       "      <td>195</td>\n",
       "      <td>0</td>\n",
       "      <td>0.0</td>\n",
       "      <td>1</td>\n",
       "      <td>1.0</td>\n",
       "      <td>7.0</td>\n",
       "      <td>1</td>\n",
       "    </tr>\n",
       "    <tr>\n",
       "      <th>201</th>\n",
       "      <td>64</td>\n",
       "      <td>0</td>\n",
       "      <td>4</td>\n",
       "      <td>180</td>\n",
       "      <td>325</td>\n",
       "      <td>0</td>\n",
       "      <td>0</td>\n",
       "      <td>154</td>\n",
       "      <td>1</td>\n",
       "      <td>0.0</td>\n",
       "      <td>1</td>\n",
       "      <td>0.0</td>\n",
       "      <td>3.0</td>\n",
       "      <td>0</td>\n",
       "    </tr>\n",
       "    <tr>\n",
       "      <th>213</th>\n",
       "      <td>66</td>\n",
       "      <td>0</td>\n",
       "      <td>4</td>\n",
       "      <td>178</td>\n",
       "      <td>228</td>\n",
       "      <td>1</td>\n",
       "      <td>0</td>\n",
       "      <td>165</td>\n",
       "      <td>1</td>\n",
       "      <td>1.0</td>\n",
       "      <td>2</td>\n",
       "      <td>2.0</td>\n",
       "      <td>7.0</td>\n",
       "      <td>1</td>\n",
       "    </tr>\n",
       "    <tr>\n",
       "      <th>231</th>\n",
       "      <td>55</td>\n",
       "      <td>0</td>\n",
       "      <td>4</td>\n",
       "      <td>180</td>\n",
       "      <td>327</td>\n",
       "      <td>0</td>\n",
       "      <td>1</td>\n",
       "      <td>117</td>\n",
       "      <td>1</td>\n",
       "      <td>3.4</td>\n",
       "      <td>2</td>\n",
       "      <td>0.0</td>\n",
       "      <td>3.0</td>\n",
       "      <td>1</td>\n",
       "    </tr>\n",
       "  </tbody>\n",
       "</table>\n",
       "</div>"
      ],
      "text/plain": [
       "     age  sex  cp  trestbps  chol  fbs  restecg  thalach  exang  oldpeak  \\\n",
       "14    52    1   3       172   199    1        0      162      0      0.5   \n",
       "83    68    1   3       180   274    1        2      150      1      1.6   \n",
       "126   56    0   4       200   288    1        2      133      1      4.0   \n",
       "172   59    0   4       174   249    0        0      143      1      0.0   \n",
       "183   59    1   1       178   270    0        2      145      0      4.2   \n",
       "188   54    1   2       192   283    0        2      195      0      0.0   \n",
       "201   64    0   4       180   325    0        0      154      1      0.0   \n",
       "213   66    0   4       178   228    1        0      165      1      1.0   \n",
       "231   55    0   4       180   327    0        1      117      1      3.4   \n",
       "\n",
       "     slope   ca  thal  num  \n",
       "14       1  0.0   7.0    0  \n",
       "83       2  0.0   7.0    1  \n",
       "126      3  2.0   7.0    1  \n",
       "172      2  0.0   3.0    1  \n",
       "183      3  0.0   7.0    0  \n",
       "188      1  1.0   7.0    1  \n",
       "201      1  0.0   3.0    0  \n",
       "213      2  2.0   7.0    1  \n",
       "231      2  0.0   3.0    1  "
      ]
     },
     "execution_count": 18,
     "metadata": {},
     "output_type": "execute_result"
    }
   ],
   "source": [
    "Q1 = patientDf.trestbps.quantile(0.25)\n",
    "Q3 = patientDf.trestbps.quantile(0.75)\n",
    "IQR = Q3 - Q1\n",
    "patientDf[patientDf.trestbps >Q3 + 1.5 * IQR]"
   ]
  },
  {
   "cell_type": "code",
   "execution_count": 19,
   "id": "90aeab34",
   "metadata": {
    "execution": {
     "iopub.execute_input": "2022-05-20T10:24:58.310352Z",
     "iopub.status.busy": "2022-05-20T10:24:58.309119Z",
     "iopub.status.idle": "2022-05-20T10:24:59.021255Z",
     "shell.execute_reply": "2022-05-20T10:24:59.020577Z"
    },
    "papermill": {
     "duration": 0.734671,
     "end_time": "2022-05-20T10:24:59.023581",
     "exception": false,
     "start_time": "2022-05-20T10:24:58.288910",
     "status": "completed"
    },
    "pycharm": {
     "name": "#%%\n"
    },
    "tags": []
   },
   "outputs": [
    {
     "data": {
      "image/png": "[encoded data removed]",
      "text/plain": [
       "<Figure size 576x1080 with 6 Axes>"
      ]
     },
     "metadata": {
      "needs_background": "light"
     },
     "output_type": "display_data"
    }
   ],
   "source": [
    "\n",
    "fig, ax = plt.subplots(len(quantitativeVariables), 1, figsize=(8, 15), tight_layout=True)\n",
    "for idx, feature in enumerate(quantitativeVariables):\n",
    "    sns.boxplot(data=patientDf, x=feature, ax = ax[idx])\n",
    "fig.show()"
   ]
  },
  {
   "cell_type": "markdown",
   "id": "4366d2a3",
   "metadata": {
    "papermill": {
     "duration": 0.019357,
     "end_time": "2022-05-20T10:24:59.062771",
     "exception": false,
     "start_time": "2022-05-20T10:24:59.043414",
     "status": "completed"
    },
    "pycharm": {
     "name": "#%% md\n"
    },
    "tags": []
   },
   "source": [
    "#### Bivariate Analysis"
   ]
  },
  {
   "cell_type": "code",
   "execution_count": 20,
   "id": "b69a0af9",
   "metadata": {
    "execution": {
     "iopub.execute_input": "2022-05-20T10:24:59.103018Z",
     "iopub.status.busy": "2022-05-20T10:24:59.102365Z",
     "iopub.status.idle": "2022-05-20T10:25:00.567445Z",
     "shell.execute_reply": "2022-05-20T10:25:00.566637Z"
    },
    "papermill": {
     "duration": 1.487638,
     "end_time": "2022-05-20T10:25:00.569670",
     "exception": false,
     "start_time": "2022-05-20T10:24:59.082032",
     "status": "completed"
    },
    "pycharm": {
     "name": "#%%\n"
    },
    "tags": []
   },
   "outputs": [
    {
     "data": {
      "image/png": "[encoded data removed]",
      "text/plain": [
       "<Figure size 576x1080 with 6 Axes>"
      ]
     },
     "metadata": {
      "needs_background": "light"
     },
     "output_type": "display_data"
    }
   ],
   "source": [
    "\n",
    "\n",
    "fig, ax = plt.subplots(len(quantitativeVariables), 1, figsize=(8, 15), tight_layout=True)\n",
    "for idx, feature in enumerate(quantitativeVariables):\n",
    "\n",
    "    sns.histplot(data=patientDf,common_norm = False,stat='density', x=feature, hue=\"num\",ax=ax[idx],kde=True)\n",
    "fig.show()\n"
   ]
  },
  {
   "cell_type": "code",
   "execution_count": 21,
   "id": "6edc73db",
   "metadata": {
    "execution": {
     "iopub.execute_input": "2022-05-20T10:25:00.613642Z",
     "iopub.status.busy": "2022-05-20T10:25:00.613331Z",
     "iopub.status.idle": "2022-05-20T10:25:02.310885Z",
     "shell.execute_reply": "2022-05-20T10:25:02.310135Z"
    },
    "papermill": {
     "duration": 1.721416,
     "end_time": "2022-05-20T10:25:02.312701",
     "exception": false,
     "start_time": "2022-05-20T10:25:00.591285",
     "status": "completed"
    },
    "pycharm": {
     "name": "#%%\n"
    },
    "tags": []
   },
   "outputs": [
    {
     "data": {
      "image/png": "[encoded data removed]",
      "text/plain": [
       "<Figure size 576x1080 with 8 Axes>"
      ]
     },
     "metadata": {
      "needs_background": "light"
     },
     "output_type": "display_data"
    }
   ],
   "source": [
    "import matplotlib.ticker as ticker\n",
    "fig, ax = plt.subplots(int(np.ceil(len(quatitativeVariables)/2)), 2, figsize=(8, 15), tight_layout=True)\n",
    "for idx, feature in enumerate(quatitativeVariables):\n",
    "    n=1 if idx%2==0 else 0\n",
    "\n",
    "    suba=sns.histplot(data=patientDf,common_norm = False, stat='density',x=feature, hue=\"num\",ax=ax[int(np.floor(idx/2)),n])\n",
    "\n",
    "\n",
    "plt.show()"
   ]
  },
  {
   "cell_type": "code",
   "execution_count": 22,
   "id": "29354782",
   "metadata": {
    "execution": {
     "iopub.execute_input": "2022-05-20T10:25:02.358055Z",
     "iopub.status.busy": "2022-05-20T10:25:02.357548Z",
     "iopub.status.idle": "2022-05-20T10:25:02.360906Z",
     "shell.execute_reply": "2022-05-20T10:25:02.360336Z"
    },
    "papermill": {
     "duration": 0.027966,
     "end_time": "2022-05-20T10:25:02.362695",
     "exception": false,
     "start_time": "2022-05-20T10:25:02.334729",
     "status": "completed"
    },
    "pycharm": {
     "name": "#%%\n"
    },
    "tags": []
   },
   "outputs": [],
   "source": [
    "# sns.pairplot(patientDf, hue=\"num\")"
   ]
  },
  {
   "cell_type": "markdown",
   "id": "16db31da",
   "metadata": {
    "papermill": {
     "duration": 0.021328,
     "end_time": "2022-05-20T10:25:02.405504",
     "exception": false,
     "start_time": "2022-05-20T10:25:02.384176",
     "status": "completed"
    },
    "pycharm": {
     "name": "#%% md\n"
    },
    "tags": []
   },
   "source": []
  },
  {
   "cell_type": "code",
   "execution_count": 23,
   "id": "56f58e6f",
   "metadata": {
    "execution": {
     "iopub.execute_input": "2022-05-20T10:25:02.450325Z",
     "iopub.status.busy": "2022-05-20T10:25:02.449531Z",
     "iopub.status.idle": "2022-05-20T10:25:04.189917Z",
     "shell.execute_reply": "2022-05-20T10:25:04.189058Z"
    },
    "papermill": {
     "duration": 1.765421,
     "end_time": "2022-05-20T10:25:04.192265",
     "exception": false,
     "start_time": "2022-05-20T10:25:02.426844",
     "status": "completed"
    },
    "pycharm": {
     "name": "#%%\n"
    },
    "tags": []
   },
   "outputs": [
    {
     "data": {
      "text/plain": [
       "Text(0.5, 1.0, 'Correlation Matrix')"
      ]
     },
     "execution_count": 23,
     "metadata": {},
     "output_type": "execute_result"
    },
    {
     "data": {
      "image/png": "[encoded data removed]",
      "text/plain": [
       "<Figure size 432x288 with 2 Axes>"
      ]
     },
     "metadata": {
      "needs_background": "light"
     },
     "output_type": "display_data"
    }
   ],
   "source": [
    "\n",
    "corr_matrix = patientDf.phik_matrix(interval_cols=patientDf.columns)\n",
    "\n",
    "sns.heatmap(corr_matrix, annot = True, linewidths=.5,center = 0,cmap=\"crest\").set_title('Correlation Matrix')"
   ]
  },
  {
   "cell_type": "markdown",
   "id": "a257e981",
   "metadata": {
    "papermill": {
     "duration": 0.022404,
     "end_time": "2022-05-20T10:25:04.237564",
     "exception": false,
     "start_time": "2022-05-20T10:25:04.215160",
     "status": "completed"
    },
    "pycharm": {
     "name": "#%% md\n"
    },
    "tags": []
   },
   "source": [
    "Looking at the correlation matrix,we did not find any features that is too correlated.The feature that has the highest correction were the cp and thal thalach feature which both have a correlation of 0.72 .  However ,we found 2 features: trestbps and fbs that have 0 correlation.We would have directly removed it if we are only doing linear classifier.However,since we are using non-linear classifier ,we should not remove it now, but we will train and test the model with and without the 2 features later and then determine whether the remove them."
   ]
  },
  {
   "cell_type": "markdown",
   "id": "7a5d69cd",
   "metadata": {
    "papermill": {
     "duration": 0.022519,
     "end_time": "2022-05-20T10:25:04.282432",
     "exception": false,
     "start_time": "2022-05-20T10:25:04.259913",
     "status": "completed"
    },
    "pycharm": {
     "name": "#%% md\n"
    },
    "tags": []
   },
   "source": [
    "### Feature Scaling and Selection"
   ]
  },
  {
   "cell_type": "code",
   "execution_count": 24,
   "id": "85aeeb88",
   "metadata": {
    "execution": {
     "iopub.execute_input": "2022-05-20T10:25:04.329470Z",
     "iopub.status.busy": "2022-05-20T10:25:04.328590Z",
     "iopub.status.idle": "2022-05-20T10:25:04.334513Z",
     "shell.execute_reply": "2022-05-20T10:25:04.333773Z"
    },
    "papermill": {
     "duration": 0.031365,
     "end_time": "2022-05-20T10:25:04.336142",
     "exception": false,
     "start_time": "2022-05-20T10:25:04.304777",
     "status": "completed"
    },
    "pycharm": {
     "name": "#%%\n"
    },
    "tags": []
   },
   "outputs": [],
   "source": [
    "\n",
    "\n",
    "quantitativeTransformer=Pipeline([\n",
    "\n",
    "     ('Normaliser',MinMaxScaler())\n",
    "])\n",
    "categorical_transformers = Pipeline([\n",
    "    ('One Hot Encoder', OneHotEncoder(handle_unknown='ignore'))\n",
    "])\n",
    "data_preprocessing = ColumnTransformer([\n",
    "    ('Preprocess Numerical Features', quantitativeTransformer, quantitativeVariables),\n",
    "       ('Preprocess Categorical Features', categorical_transformers, quatitativeVariables)\n",
    "])\n",
    "\n",
    "\n"
   ]
  },
  {
   "cell_type": "markdown",
   "id": "c4841c80",
   "metadata": {
    "papermill": {
     "duration": 0.022246,
     "end_time": "2022-05-20T10:25:04.380893",
     "exception": false,
     "start_time": "2022-05-20T10:25:04.358647",
     "status": "completed"
    },
    "pycharm": {
     "name": "#%% md\n"
    },
    "tags": []
   },
   "source": [
    "# Training Data and Test Data"
   ]
  },
  {
   "cell_type": "code",
   "execution_count": 25,
   "id": "32f83713",
   "metadata": {
    "execution": {
     "iopub.execute_input": "2022-05-20T10:25:04.427193Z",
     "iopub.status.busy": "2022-05-20T10:25:04.426403Z",
     "iopub.status.idle": "2022-05-20T10:25:04.450164Z",
     "shell.execute_reply": "2022-05-20T10:25:04.449466Z"
    },
    "papermill": {
     "duration": 0.04873,
     "end_time": "2022-05-20T10:25:04.451767",
     "exception": false,
     "start_time": "2022-05-20T10:25:04.403037",
     "status": "completed"
    },
    "pycharm": {
     "name": "#%%\n"
    },
    "tags": []
   },
   "outputs": [
    {
     "data": {
      "text/html": [
       "<div>\n",
       "<style scoped>\n",
       "    .dataframe tbody tr th:only-of-type {\n",
       "        vertical-align: middle;\n",
       "    }\n",
       "\n",
       "    .dataframe tbody tr th {\n",
       "        vertical-align: top;\n",
       "    }\n",
       "\n",
       "    .dataframe thead th {\n",
       "        text-align: right;\n",
       "    }\n",
       "</style>\n",
       "<table border=\"1\" class=\"dataframe\">\n",
       "  <thead>\n",
       "    <tr style=\"text-align: right;\">\n",
       "      <th></th>\n",
       "      <th>age</th>\n",
       "      <th>sex</th>\n",
       "      <th>cp</th>\n",
       "      <th>trestbps</th>\n",
       "      <th>chol</th>\n",
       "      <th>fbs</th>\n",
       "      <th>restecg</th>\n",
       "      <th>thalach</th>\n",
       "      <th>exang</th>\n",
       "      <th>oldpeak</th>\n",
       "      <th>slope</th>\n",
       "      <th>ca</th>\n",
       "      <th>thal</th>\n",
       "    </tr>\n",
       "  </thead>\n",
       "  <tbody>\n",
       "    <tr>\n",
       "      <th>180</th>\n",
       "      <td>48</td>\n",
       "      <td>1</td>\n",
       "      <td>4</td>\n",
       "      <td>124</td>\n",
       "      <td>274</td>\n",
       "      <td>0</td>\n",
       "      <td>2</td>\n",
       "      <td>166</td>\n",
       "      <td>0</td>\n",
       "      <td>0.5</td>\n",
       "      <td>2</td>\n",
       "      <td>0.0</td>\n",
       "      <td>7.0</td>\n",
       "    </tr>\n",
       "    <tr>\n",
       "      <th>208</th>\n",
       "      <td>55</td>\n",
       "      <td>1</td>\n",
       "      <td>2</td>\n",
       "      <td>130</td>\n",
       "      <td>262</td>\n",
       "      <td>0</td>\n",
       "      <td>0</td>\n",
       "      <td>155</td>\n",
       "      <td>0</td>\n",
       "      <td>0.0</td>\n",
       "      <td>1</td>\n",
       "      <td>0.0</td>\n",
       "      <td>3.0</td>\n",
       "    </tr>\n",
       "    <tr>\n",
       "      <th>167</th>\n",
       "      <td>54</td>\n",
       "      <td>0</td>\n",
       "      <td>2</td>\n",
       "      <td>132</td>\n",
       "      <td>288</td>\n",
       "      <td>1</td>\n",
       "      <td>2</td>\n",
       "      <td>159</td>\n",
       "      <td>1</td>\n",
       "      <td>0.0</td>\n",
       "      <td>1</td>\n",
       "      <td>1.0</td>\n",
       "      <td>3.0</td>\n",
       "    </tr>\n",
       "    <tr>\n",
       "      <th>105</th>\n",
       "      <td>54</td>\n",
       "      <td>1</td>\n",
       "      <td>2</td>\n",
       "      <td>108</td>\n",
       "      <td>309</td>\n",
       "      <td>0</td>\n",
       "      <td>0</td>\n",
       "      <td>156</td>\n",
       "      <td>0</td>\n",
       "      <td>0.0</td>\n",
       "      <td>1</td>\n",
       "      <td>0.0</td>\n",
       "      <td>7.0</td>\n",
       "    </tr>\n",
       "    <tr>\n",
       "      <th>297</th>\n",
       "      <td>57</td>\n",
       "      <td>0</td>\n",
       "      <td>4</td>\n",
       "      <td>140</td>\n",
       "      <td>241</td>\n",
       "      <td>0</td>\n",
       "      <td>0</td>\n",
       "      <td>123</td>\n",
       "      <td>1</td>\n",
       "      <td>0.2</td>\n",
       "      <td>2</td>\n",
       "      <td>0.0</td>\n",
       "      <td>7.0</td>\n",
       "    </tr>\n",
       "    <tr>\n",
       "      <th>...</th>\n",
       "      <td>...</td>\n",
       "      <td>...</td>\n",
       "      <td>...</td>\n",
       "      <td>...</td>\n",
       "      <td>...</td>\n",
       "      <td>...</td>\n",
       "      <td>...</td>\n",
       "      <td>...</td>\n",
       "      <td>...</td>\n",
       "      <td>...</td>\n",
       "      <td>...</td>\n",
       "      <td>...</td>\n",
       "      <td>...</td>\n",
       "    </tr>\n",
       "    <tr>\n",
       "      <th>173</th>\n",
       "      <td>62</td>\n",
       "      <td>0</td>\n",
       "      <td>4</td>\n",
       "      <td>140</td>\n",
       "      <td>394</td>\n",
       "      <td>0</td>\n",
       "      <td>2</td>\n",
       "      <td>157</td>\n",
       "      <td>0</td>\n",
       "      <td>1.2</td>\n",
       "      <td>2</td>\n",
       "      <td>0.0</td>\n",
       "      <td>3.0</td>\n",
       "    </tr>\n",
       "    <tr>\n",
       "      <th>136</th>\n",
       "      <td>70</td>\n",
       "      <td>1</td>\n",
       "      <td>4</td>\n",
       "      <td>145</td>\n",
       "      <td>174</td>\n",
       "      <td>0</td>\n",
       "      <td>0</td>\n",
       "      <td>125</td>\n",
       "      <td>1</td>\n",
       "      <td>2.6</td>\n",
       "      <td>3</td>\n",
       "      <td>0.0</td>\n",
       "      <td>7.0</td>\n",
       "    </tr>\n",
       "    <tr>\n",
       "      <th>2</th>\n",
       "      <td>67</td>\n",
       "      <td>1</td>\n",
       "      <td>4</td>\n",
       "      <td>120</td>\n",
       "      <td>229</td>\n",
       "      <td>0</td>\n",
       "      <td>2</td>\n",
       "      <td>129</td>\n",
       "      <td>1</td>\n",
       "      <td>2.6</td>\n",
       "      <td>2</td>\n",
       "      <td>2.0</td>\n",
       "      <td>7.0</td>\n",
       "    </tr>\n",
       "    <tr>\n",
       "      <th>189</th>\n",
       "      <td>69</td>\n",
       "      <td>1</td>\n",
       "      <td>3</td>\n",
       "      <td>140</td>\n",
       "      <td>254</td>\n",
       "      <td>0</td>\n",
       "      <td>2</td>\n",
       "      <td>146</td>\n",
       "      <td>0</td>\n",
       "      <td>2.0</td>\n",
       "      <td>2</td>\n",
       "      <td>3.0</td>\n",
       "      <td>7.0</td>\n",
       "    </tr>\n",
       "    <tr>\n",
       "      <th>16</th>\n",
       "      <td>48</td>\n",
       "      <td>1</td>\n",
       "      <td>2</td>\n",
       "      <td>110</td>\n",
       "      <td>229</td>\n",
       "      <td>0</td>\n",
       "      <td>0</td>\n",
       "      <td>168</td>\n",
       "      <td>0</td>\n",
       "      <td>1.0</td>\n",
       "      <td>3</td>\n",
       "      <td>0.0</td>\n",
       "      <td>7.0</td>\n",
       "    </tr>\n",
       "  </tbody>\n",
       "</table>\n",
       "<p>242 rows × 13 columns</p>\n",
       "</div>"
      ],
      "text/plain": [
       "     age  sex  cp  trestbps  chol  fbs  restecg  thalach  exang  oldpeak  \\\n",
       "180   48    1   4       124   274    0        2      166      0      0.5   \n",
       "208   55    1   2       130   262    0        0      155      0      0.0   \n",
       "167   54    0   2       132   288    1        2      159      1      0.0   \n",
       "105   54    1   2       108   309    0        0      156      0      0.0   \n",
       "297   57    0   4       140   241    0        0      123      1      0.2   \n",
       "..   ...  ...  ..       ...   ...  ...      ...      ...    ...      ...   \n",
       "173   62    0   4       140   394    0        2      157      0      1.2   \n",
       "136   70    1   4       145   174    0        0      125      1      2.6   \n",
       "2     67    1   4       120   229    0        2      129      1      2.6   \n",
       "189   69    1   3       140   254    0        2      146      0      2.0   \n",
       "16    48    1   2       110   229    0        0      168      0      1.0   \n",
       "\n",
       "     slope   ca  thal  \n",
       "180      2  0.0   7.0  \n",
       "208      1  0.0   3.0  \n",
       "167      1  1.0   3.0  \n",
       "105      1  0.0   7.0  \n",
       "297      2  0.0   7.0  \n",
       "..     ...  ...   ...  \n",
       "173      2  0.0   3.0  \n",
       "136      3  0.0   7.0  \n",
       "2        2  2.0   7.0  \n",
       "189      2  3.0   7.0  \n",
       "16       3  0.0   7.0  \n",
       "\n",
       "[242 rows x 13 columns]"
      ]
     },
     "execution_count": 25,
     "metadata": {},
     "output_type": "execute_result"
    }
   ],
   "source": [
    "\n",
    "x_train, x_test, y_train, y_test = train_test_split(patientDf. loc[:, patientDf. columns != 'num'],patientDf['num'], random_state = 42, stratify=patientDf.num, test_size = .20)\n",
    "x_train"
   ]
  },
  {
   "cell_type": "markdown",
   "id": "d717d8ad",
   "metadata": {
    "papermill": {
     "duration": 0.02262,
     "end_time": "2022-05-20T10:25:04.497380",
     "exception": false,
     "start_time": "2022-05-20T10:25:04.474760",
     "status": "completed"
    },
    "pycharm": {
     "name": "#%% md\n"
    },
    "tags": []
   },
   "source": [
    "### Imputation"
   ]
  },
  {
   "cell_type": "code",
   "execution_count": 26,
   "id": "0804f61a",
   "metadata": {
    "execution": {
     "iopub.execute_input": "2022-05-20T10:25:04.544441Z",
     "iopub.status.busy": "2022-05-20T10:25:04.543633Z",
     "iopub.status.idle": "2022-05-20T10:25:04.550103Z",
     "shell.execute_reply": "2022-05-20T10:25:04.549482Z"
    },
    "papermill": {
     "duration": 0.031782,
     "end_time": "2022-05-20T10:25:04.551755",
     "exception": false,
     "start_time": "2022-05-20T10:25:04.519973",
     "status": "completed"
    },
    "pycharm": {
     "name": "#%%\n"
    },
    "tags": []
   },
   "outputs": [],
   "source": [
    "from sklearn.base import BaseEstimator, TransformerMixin\n",
    "from sklearn.pipeline import Pipeline\n",
    "\n",
    "class FeatureSelector(BaseEstimator, TransformerMixin):\n",
    "    def __init__(self, columns):\n",
    "        self.columns = columns\n",
    "\n",
    "    def fit(self, X, y=None):\n",
    "        return self\n",
    "\n",
    "    def transform(self, X, y=None):\n",
    "        return X[self.columns]"
   ]
  },
  {
   "cell_type": "code",
   "execution_count": 27,
   "id": "f9aa250c",
   "metadata": {
    "execution": {
     "iopub.execute_input": "2022-05-20T10:25:04.599456Z",
     "iopub.status.busy": "2022-05-20T10:25:04.598381Z",
     "iopub.status.idle": "2022-05-20T10:25:04.608729Z",
     "shell.execute_reply": "2022-05-20T10:25:04.608017Z"
    },
    "papermill": {
     "duration": 0.036106,
     "end_time": "2022-05-20T10:25:04.610439",
     "exception": false,
     "start_time": "2022-05-20T10:25:04.574333",
     "status": "completed"
    },
    "pycharm": {
     "name": "#%%\n"
    },
    "tags": []
   },
   "outputs": [],
   "source": [
    "from sklearn.compose import make_column_selector\n",
    "from sklearn.pipeline import FeatureUnion\n",
    "from sklearn.preprocessing import LabelEncoder, OrdinalEncoder\n",
    "from sklearn.experimental import enable_iterative_imputer\n",
    "from sklearn.impute import IterativeImputer\n",
    "from sklearn.ensemble import RandomForestRegressor, RandomForestClassifier\n",
    "\n",
    "\n",
    "\n",
    "num_imp=Pipeline([\n",
    "       (\"selector\", ColumnTransformer([\n",
    "        (\"selector\", \"passthrough\", quantitativeVariables)], remainder=\"drop\")),\n",
    " ('Imputation',IterativeImputer(estimator=RandomForestRegressor(n_jobs=-1),\n",
    "                           initial_strategy='most_frequent',\n",
    "                           max_iter=4,skip_complete=True ,random_state=0),),\n",
    "])\n",
    "\n",
    "cat_imp=Pipeline([\n",
    "       (\"selector\", ColumnTransformer([\n",
    "        (\"selector\", \"passthrough\", quatitativeVariables)], remainder=\"drop\")),\n",
    "     ('Imputation',IterativeImputer(estimator=RandomForestClassifier(n_jobs=-1),\n",
    "                           initial_strategy='most_frequent',\n",
    "                           max_iter=4,skip_complete=True,random_state=0),),\n",
    "])\n",
    "\n",
    "\n",
    "preproc = FeatureUnion([\n",
    "    ('num_pipe', num_imp),\n",
    "    ('cat_pipe', cat_imp)\n",
    "])"
   ]
  },
  {
   "cell_type": "code",
   "execution_count": 28,
   "id": "8eb19dc2",
   "metadata": {
    "execution": {
     "iopub.execute_input": "2022-05-20T10:25:04.657289Z",
     "iopub.status.busy": "2022-05-20T10:25:04.656803Z",
     "iopub.status.idle": "2022-05-20T10:25:04.662236Z",
     "shell.execute_reply": "2022-05-20T10:25:04.661601Z"
    },
    "papermill": {
     "duration": 0.030871,
     "end_time": "2022-05-20T10:25:04.664080",
     "exception": false,
     "start_time": "2022-05-20T10:25:04.633209",
     "status": "completed"
    },
    "pycharm": {
     "name": "#%%\n"
    },
    "tags": []
   },
   "outputs": [],
   "source": [
    "columnIteraate=quantitativeVariables+quatitativeVariables\n",
    "class DfConverter():\n",
    "    def __init__(self):\n",
    "        super().__init__()\n",
    "\n",
    "    def fit_transform(self, X, y=None):\n",
    "        return self.transform(X=X, y=y)\n",
    "\n",
    "    def transform(self, X, y=None):\n",
    "        df = pd.DataFrame(X,columns=columnIteraate)\n",
    "        return df\n",
    "\n",
    "    def fit(self, X, y=None):\n",
    "        return self\n"
   ]
  },
  {
   "cell_type": "markdown",
   "id": "5c86b6b0",
   "metadata": {
    "papermill": {
     "duration": 0.022377,
     "end_time": "2022-05-20T10:25:04.709051",
     "exception": false,
     "start_time": "2022-05-20T10:25:04.686674",
     "status": "completed"
    },
    "pycharm": {
     "name": "#%% md\n"
    },
    "tags": []
   },
   "source": [
    "### Feature Selection"
   ]
  },
  {
   "cell_type": "code",
   "execution_count": 29,
   "id": "f77f35d5",
   "metadata": {
    "execution": {
     "iopub.execute_input": "2022-05-20T10:25:04.755902Z",
     "iopub.status.busy": "2022-05-20T10:25:04.755275Z",
     "iopub.status.idle": "2022-05-20T10:25:52.303862Z",
     "shell.execute_reply": "2022-05-20T10:25:52.302947Z"
    },
    "papermill": {
     "duration": 47.574215,
     "end_time": "2022-05-20T10:25:52.305711",
     "exception": false,
     "start_time": "2022-05-20T10:25:04.731496",
     "status": "completed"
    },
    "pycharm": {
     "name": "#%%\n"
    },
    "tags": []
   },
   "outputs": [
    {
     "data": {
      "text/plain": [
       "Text(0.5, 1.0, 'Number of feature selected')"
      ]
     },
     "execution_count": 29,
     "metadata": {},
     "output_type": "execute_result"
    },
    {
     "data": {
      "image/png": "[encoded data removed]",
      "text/plain": [
       "<Figure size 432x288 with 1 Axes>"
      ]
     },
     "metadata": {
      "needs_background": "light"
     },
     "output_type": "display_data"
    }
   ],
   "source": [
    "selectionRecord=pd.DataFrame({'no':[],'score':[]})\n",
    "for i in range(1,25):\n",
    "    Final = Pipeline([\n",
    "            ('Imputer',preproc),\n",
    "    ('DfConverter',DfConverter()),\n",
    "    ('Data Preprocessing', data_preprocessing),\n",
    "    ('Kbest',SelectKBest(chi2,k=i)),\n",
    "    ('Model',   xgb.XGBClassifier())\n",
    "])\n",
    "    selectionRecord=pd.concat([selectionRecord,pd.DataFrame({'no':[i],'score':[cross_validate(Final,x_train,y_train,cv=StratifiedKFold(n_splits = 5, shuffle = True, random_state = 0,),scoring=['recall'],n_jobs=-1,return_estimator=True,return_train_score=True)['test_recall'].mean()]})],ignore_index=True)\n",
    "\n",
    "\n",
    "sns.lineplot(x='no',y='score',data=selectionRecord).set_title('Number of feature selected')"
   ]
  },
  {
   "cell_type": "code",
   "execution_count": 30,
   "id": "457c7795",
   "metadata": {
    "execution": {
     "iopub.execute_input": "2022-05-20T10:25:52.350716Z",
     "iopub.status.busy": "2022-05-20T10:25:52.349967Z",
     "iopub.status.idle": "2022-05-20T10:25:52.360206Z",
     "shell.execute_reply": "2022-05-20T10:25:52.359541Z"
    },
    "papermill": {
     "duration": 0.033392,
     "end_time": "2022-05-20T10:25:52.361644",
     "exception": false,
     "start_time": "2022-05-20T10:25:52.328252",
     "status": "completed"
    },
    "pycharm": {
     "name": "#%%\n"
    },
    "tags": []
   },
   "outputs": [
    {
     "data": {
      "text/html": [
       "<div>\n",
       "<style scoped>\n",
       "    .dataframe tbody tr th:only-of-type {\n",
       "        vertical-align: middle;\n",
       "    }\n",
       "\n",
       "    .dataframe tbody tr th {\n",
       "        vertical-align: top;\n",
       "    }\n",
       "\n",
       "    .dataframe thead th {\n",
       "        text-align: right;\n",
       "    }\n",
       "</style>\n",
       "<table border=\"1\" class=\"dataframe\">\n",
       "  <thead>\n",
       "    <tr style=\"text-align: right;\">\n",
       "      <th></th>\n",
       "      <th>no</th>\n",
       "      <th>score</th>\n",
       "    </tr>\n",
       "  </thead>\n",
       "  <tbody>\n",
       "    <tr>\n",
       "      <th>0</th>\n",
       "      <td>1.0</td>\n",
       "      <td>0.667194</td>\n",
       "    </tr>\n",
       "    <tr>\n",
       "      <th>1</th>\n",
       "      <td>2.0</td>\n",
       "      <td>0.648617</td>\n",
       "    </tr>\n",
       "    <tr>\n",
       "      <th>2</th>\n",
       "      <td>3.0</td>\n",
       "      <td>0.639526</td>\n",
       "    </tr>\n",
       "    <tr>\n",
       "      <th>3</th>\n",
       "      <td>4.0</td>\n",
       "      <td>0.711067</td>\n",
       "    </tr>\n",
       "    <tr>\n",
       "      <th>4</th>\n",
       "      <td>5.0</td>\n",
       "      <td>0.730040</td>\n",
       "    </tr>\n",
       "    <tr>\n",
       "      <th>5</th>\n",
       "      <td>6.0</td>\n",
       "      <td>0.766008</td>\n",
       "    </tr>\n",
       "    <tr>\n",
       "      <th>6</th>\n",
       "      <td>7.0</td>\n",
       "      <td>0.757312</td>\n",
       "    </tr>\n",
       "    <tr>\n",
       "      <th>7</th>\n",
       "      <td>8.0</td>\n",
       "      <td>0.775494</td>\n",
       "    </tr>\n",
       "    <tr>\n",
       "      <th>8</th>\n",
       "      <td>9.0</td>\n",
       "      <td>0.784190</td>\n",
       "    </tr>\n",
       "    <tr>\n",
       "      <th>9</th>\n",
       "      <td>10.0</td>\n",
       "      <td>0.775099</td>\n",
       "    </tr>\n",
       "    <tr>\n",
       "      <th>10</th>\n",
       "      <td>11.0</td>\n",
       "      <td>0.784190</td>\n",
       "    </tr>\n",
       "    <tr>\n",
       "      <th>11</th>\n",
       "      <td>12.0</td>\n",
       "      <td>0.729644</td>\n",
       "    </tr>\n",
       "    <tr>\n",
       "      <th>12</th>\n",
       "      <td>13.0</td>\n",
       "      <td>0.729644</td>\n",
       "    </tr>\n",
       "    <tr>\n",
       "      <th>13</th>\n",
       "      <td>14.0</td>\n",
       "      <td>0.711462</td>\n",
       "    </tr>\n",
       "    <tr>\n",
       "      <th>14</th>\n",
       "      <td>15.0</td>\n",
       "      <td>0.720553</td>\n",
       "    </tr>\n",
       "    <tr>\n",
       "      <th>15</th>\n",
       "      <td>16.0</td>\n",
       "      <td>0.738735</td>\n",
       "    </tr>\n",
       "    <tr>\n",
       "      <th>16</th>\n",
       "      <td>17.0</td>\n",
       "      <td>0.729644</td>\n",
       "    </tr>\n",
       "    <tr>\n",
       "      <th>17</th>\n",
       "      <td>18.0</td>\n",
       "      <td>0.738735</td>\n",
       "    </tr>\n",
       "    <tr>\n",
       "      <th>18</th>\n",
       "      <td>19.0</td>\n",
       "      <td>0.738735</td>\n",
       "    </tr>\n",
       "    <tr>\n",
       "      <th>19</th>\n",
       "      <td>20.0</td>\n",
       "      <td>0.747826</td>\n",
       "    </tr>\n",
       "    <tr>\n",
       "      <th>20</th>\n",
       "      <td>21.0</td>\n",
       "      <td>0.730040</td>\n",
       "    </tr>\n",
       "    <tr>\n",
       "      <th>21</th>\n",
       "      <td>22.0</td>\n",
       "      <td>0.720949</td>\n",
       "    </tr>\n",
       "    <tr>\n",
       "      <th>22</th>\n",
       "      <td>23.0</td>\n",
       "      <td>0.747431</td>\n",
       "    </tr>\n",
       "    <tr>\n",
       "      <th>23</th>\n",
       "      <td>24.0</td>\n",
       "      <td>0.747431</td>\n",
       "    </tr>\n",
       "  </tbody>\n",
       "</table>\n",
       "</div>"
      ],
      "text/plain": [
       "      no     score\n",
       "0    1.0  0.667194\n",
       "1    2.0  0.648617\n",
       "2    3.0  0.639526\n",
       "3    4.0  0.711067\n",
       "4    5.0  0.730040\n",
       "5    6.0  0.766008\n",
       "6    7.0  0.757312\n",
       "7    8.0  0.775494\n",
       "8    9.0  0.784190\n",
       "9   10.0  0.775099\n",
       "10  11.0  0.784190\n",
       "11  12.0  0.729644\n",
       "12  13.0  0.729644\n",
       "13  14.0  0.711462\n",
       "14  15.0  0.720553\n",
       "15  16.0  0.738735\n",
       "16  17.0  0.729644\n",
       "17  18.0  0.738735\n",
       "18  19.0  0.738735\n",
       "19  20.0  0.747826\n",
       "20  21.0  0.730040\n",
       "21  22.0  0.720949\n",
       "22  23.0  0.747431\n",
       "23  24.0  0.747431"
      ]
     },
     "execution_count": 30,
     "metadata": {},
     "output_type": "execute_result"
    }
   ],
   "source": [
    "selectionRecord"
   ]
  },
  {
   "cell_type": "markdown",
   "id": "3464163d",
   "metadata": {
    "papermill": {
     "duration": 0.020573,
     "end_time": "2022-05-20T10:25:52.402959",
     "exception": false,
     "start_time": "2022-05-20T10:25:52.382386",
     "status": "completed"
    },
    "pycharm": {
     "name": "#%% md\n"
    },
    "tags": []
   },
   "source": [
    "# Model and Evalutaion"
   ]
  },
  {
   "cell_type": "code",
   "execution_count": 31,
   "id": "91d988a2",
   "metadata": {
    "execution": {
     "iopub.execute_input": "2022-05-20T10:25:52.446069Z",
     "iopub.status.busy": "2022-05-20T10:25:52.445317Z",
     "iopub.status.idle": "2022-05-20T10:25:52.454367Z",
     "shell.execute_reply": "2022-05-20T10:25:52.453547Z"
    },
    "papermill": {
     "duration": 0.03266,
     "end_time": "2022-05-20T10:25:52.456041",
     "exception": false,
     "start_time": "2022-05-20T10:25:52.423381",
     "status": "completed"
    },
    "pycharm": {
     "name": "#%%\n"
    },
    "tags": []
   },
   "outputs": [],
   "source": [
    "def scoreModel(clf,x,y,algName=None,record=pd.DataFrame({'name':[],'train_accuracy':[],'test_accuracy':[],'test_recall':[],'train_recall':[]})):\n",
    "    '''\n",
    "    This function is used for model evaluation . This function use scikit-learn library to carry out cross validation using StratifiedKFold. The scoring metrics are accuracy and balanced accuracy\n",
    "\n",
    "    :param clf: Classifier 分类器\n",
    "    :param x:Train Data X(Data)  训练数据 （数据）\n",
    "    :param y:Train Data Y(Result)  训练数据（结果）\n",
    "    :param algName: Name of Algorithm used for recording 算法名字\n",
    "    :param record: History record dataframe 在历史记录上叠加结果\n",
    "    :return:\n",
    "    This function return 3 variable: 这个函数返回三个参数\n",
    "    record: Dataframe with current and past record(if there is any)\n",
    "    current: Dataframe with current record\n",
    "    lr: Learning curve\n",
    "    '''\n",
    "    score=cross_validate(clf,x,y,cv=StratifiedKFold(n_splits = 5, shuffle = True, random_state = 0,),scoring=['accuracy','recall'],n_jobs=-1,return_estimator=True,return_train_score=True)\n",
    "    current=pd.DataFrame({'name':[algName],'train_accuracy':score['train_accuracy'].mean(),'test_accuracy':score['test_accuracy'].mean(),'test_recall':score['test_recall'].mean(),'train_recall':score['train_recall'].mean()})\n",
    "    record=pd.concat([record,current],ignore_index=True)\n",
    "    lr = learning_curve(clf, x, y, scoring = 'recall', cv = StratifiedKFold(n_splits = 5, shuffle = True, random_state = 0,), n_jobs=-1)\n",
    "    return record,current,lr\n",
    "\n"
   ]
  },
  {
   "cell_type": "markdown",
   "id": "e67e4ae1",
   "metadata": {
    "papermill": {
     "duration": 0.020633,
     "end_time": "2022-05-20T10:25:52.497425",
     "exception": false,
     "start_time": "2022-05-20T10:25:52.476792",
     "status": "completed"
    },
    "pycharm": {
     "name": "#%% md\n"
    },
    "tags": []
   },
   "source": [
    "## Baseline Model"
   ]
  },
  {
   "cell_type": "code",
   "execution_count": 32,
   "id": "105534e4",
   "metadata": {
    "execution": {
     "iopub.execute_input": "2022-05-20T10:25:52.540308Z",
     "iopub.status.busy": "2022-05-20T10:25:52.539964Z",
     "iopub.status.idle": "2022-05-20T10:25:55.799556Z",
     "shell.execute_reply": "2022-05-20T10:25:55.798774Z"
    },
    "papermill": {
     "duration": 3.283248,
     "end_time": "2022-05-20T10:25:55.801217",
     "exception": false,
     "start_time": "2022-05-20T10:25:52.517969",
     "status": "completed"
    },
    "pycharm": {
     "name": "#%%\n"
    },
    "tags": []
   },
   "outputs": [
    {
     "data": {
      "image/png": "[encoded data removed]",
      "text/plain": [
       "<Figure size 432x288 with 1 Axes>"
      ]
     },
     "metadata": {
      "needs_background": "light"
     },
     "output_type": "display_data"
    },
    {
     "data": {
      "text/html": [
       "<div>\n",
       "<style scoped>\n",
       "    .dataframe tbody tr th:only-of-type {\n",
       "        vertical-align: middle;\n",
       "    }\n",
       "\n",
       "    .dataframe tbody tr th {\n",
       "        vertical-align: top;\n",
       "    }\n",
       "\n",
       "    .dataframe thead th {\n",
       "        text-align: right;\n",
       "    }\n",
       "</style>\n",
       "<table border=\"1\" class=\"dataframe\">\n",
       "  <thead>\n",
       "    <tr style=\"text-align: right;\">\n",
       "      <th></th>\n",
       "      <th>name</th>\n",
       "      <th>train_accuracy</th>\n",
       "      <th>test_accuracy</th>\n",
       "      <th>test_recall</th>\n",
       "      <th>train_recall</th>\n",
       "    </tr>\n",
       "  </thead>\n",
       "  <tbody>\n",
       "    <tr>\n",
       "      <th>0</th>\n",
       "      <td>Dummy Baseline Classifier</td>\n",
       "      <td>0.541323</td>\n",
       "      <td>0.541327</td>\n",
       "      <td>0.0</td>\n",
       "      <td>0.0</td>\n",
       "    </tr>\n",
       "  </tbody>\n",
       "</table>\n",
       "</div>"
      ],
      "text/plain": [
       "                        name  train_accuracy  test_accuracy  test_recall  \\\n",
       "0  Dummy Baseline Classifier        0.541323       0.541327          0.0   \n",
       "\n",
       "   train_recall  \n",
       "0           0.0  "
      ]
     },
     "execution_count": 32,
     "metadata": {},
     "output_type": "execute_result"
    }
   ],
   "source": [
    "\n",
    "from sklearn.feature_selection import chi2\n",
    "\n",
    "baseline = Pipeline([\n",
    "    ('Imputer',preproc),\n",
    "    ('DfConverter',DfConverter()),\n",
    "    ('Data Preprocessing', data_preprocessing),\n",
    "    ('Kbest',SelectKBest(chi2,k=6)),\n",
    "    ('Model', DummyClassifier())\n",
    "])\n",
    "record,current,lr=scoreModel(baseline,x_train,y_train,\"Dummy Baseline Classifier\")\n",
    "current"
   ]
  },
  {
   "cell_type": "markdown",
   "id": "0ec89cd5",
   "metadata": {
    "papermill": {
     "duration": 0.023844,
     "end_time": "2022-05-20T10:25:55.849198",
     "exception": false,
     "start_time": "2022-05-20T10:25:55.825354",
     "status": "completed"
    },
    "pycharm": {
     "name": "#%% md\n"
    },
    "tags": []
   },
   "source": []
  },
  {
   "cell_type": "markdown",
   "id": "92081fb5",
   "metadata": {
    "papermill": {
     "duration": 0.023572,
     "end_time": "2022-05-20T10:25:55.896286",
     "exception": false,
     "start_time": "2022-05-20T10:25:55.872714",
     "status": "completed"
    },
    "pycharm": {
     "name": "#%% md\n"
    },
    "tags": []
   },
   "source": [
    "## Logistical Regression"
   ]
  },
  {
   "cell_type": "code",
   "execution_count": 33,
   "id": "caa15cc1",
   "metadata": {
    "execution": {
     "iopub.execute_input": "2022-05-20T10:25:55.945840Z",
     "iopub.status.busy": "2022-05-20T10:25:55.945082Z",
     "iopub.status.idle": "2022-05-20T10:25:59.315488Z",
     "shell.execute_reply": "2022-05-20T10:25:59.314750Z"
    },
    "papermill": {
     "duration": 3.397682,
     "end_time": "2022-05-20T10:25:59.317418",
     "exception": false,
     "start_time": "2022-05-20T10:25:55.919736",
     "status": "completed"
    },
    "pycharm": {
     "name": "#%%\n"
    },
    "tags": []
   },
   "outputs": [
    {
     "data": {
      "image/png": "[encoded data removed]",
      "text/plain": [
       "<Figure size 432x288 with 1 Axes>"
      ]
     },
     "metadata": {
      "needs_background": "light"
     },
     "output_type": "display_data"
    },
    {
     "data": {
      "text/html": [
       "<div>\n",
       "<style scoped>\n",
       "    .dataframe tbody tr th:only-of-type {\n",
       "        vertical-align: middle;\n",
       "    }\n",
       "\n",
       "    .dataframe tbody tr th {\n",
       "        vertical-align: top;\n",
       "    }\n",
       "\n",
       "    .dataframe thead th {\n",
       "        text-align: right;\n",
       "    }\n",
       "</style>\n",
       "<table border=\"1\" class=\"dataframe\">\n",
       "  <thead>\n",
       "    <tr style=\"text-align: right;\">\n",
       "      <th></th>\n",
       "      <th>name</th>\n",
       "      <th>train_accuracy</th>\n",
       "      <th>test_accuracy</th>\n",
       "      <th>test_recall</th>\n",
       "      <th>train_recall</th>\n",
       "    </tr>\n",
       "  </thead>\n",
       "  <tbody>\n",
       "    <tr>\n",
       "      <th>0</th>\n",
       "      <td>Logistic Regression</td>\n",
       "      <td>0.842984</td>\n",
       "      <td>0.826276</td>\n",
       "      <td>0.79249</td>\n",
       "      <td>0.790577</td>\n",
       "    </tr>\n",
       "  </tbody>\n",
       "</table>\n",
       "</div>"
      ],
      "text/plain": [
       "                  name  train_accuracy  test_accuracy  test_recall  \\\n",
       "0  Logistic Regression        0.842984       0.826276      0.79249   \n",
       "\n",
       "   train_recall  \n",
       "0      0.790577  "
      ]
     },
     "execution_count": 33,
     "metadata": {},
     "output_type": "execute_result"
    }
   ],
   "source": [
    "logreg = Pipeline([\n",
    "     ('Imputer',preproc),\n",
    "    ('DfConverter',DfConverter()),\n",
    "    ('Data Preprocessing', data_preprocessing),\n",
    "      ('Kbest',SelectKBest(chi2,k=6)),\n",
    "    ('Model', LogisticRegression(solver='lbfgs'))\n",
    "])\n",
    "record,current,lr=scoreModel(logreg,x_train,y_train,\"Logistic Regression\",record=record)\n",
    "current\n"
   ]
  },
  {
   "cell_type": "markdown",
   "id": "2b5981f9",
   "metadata": {
    "papermill": {
     "duration": 0.024729,
     "end_time": "2022-05-20T10:25:59.367045",
     "exception": false,
     "start_time": "2022-05-20T10:25:59.342316",
     "status": "completed"
    },
    "pycharm": {
     "name": "#%% md\n"
    },
    "tags": []
   },
   "source": [
    "## Gaussian Naive Bayes"
   ]
  },
  {
   "cell_type": "code",
   "execution_count": 34,
   "id": "3ea54407",
   "metadata": {
    "execution": {
     "iopub.execute_input": "2022-05-20T10:25:59.421256Z",
     "iopub.status.busy": "2022-05-20T10:25:59.420414Z",
     "iopub.status.idle": "2022-05-20T10:26:02.755422Z",
     "shell.execute_reply": "2022-05-20T10:26:02.754702Z"
    },
    "papermill": {
     "duration": 3.36565,
     "end_time": "2022-05-20T10:26:02.757059",
     "exception": false,
     "start_time": "2022-05-20T10:25:59.391409",
     "status": "completed"
    },
    "pycharm": {
     "name": "#%%\n"
    },
    "tags": []
   },
   "outputs": [
    {
     "data": {
      "image/png": "[encoded data removed]",
      "text/plain": [
       "<Figure size 432x288 with 1 Axes>"
      ]
     },
     "metadata": {
      "needs_background": "light"
     },
     "output_type": "display_data"
    },
    {
     "data": {
      "text/html": [
       "<div>\n",
       "<style scoped>\n",
       "    .dataframe tbody tr th:only-of-type {\n",
       "        vertical-align: middle;\n",
       "    }\n",
       "\n",
       "    .dataframe tbody tr th {\n",
       "        vertical-align: top;\n",
       "    }\n",
       "\n",
       "    .dataframe thead th {\n",
       "        text-align: right;\n",
       "    }\n",
       "</style>\n",
       "<table border=\"1\" class=\"dataframe\">\n",
       "  <thead>\n",
       "    <tr style=\"text-align: right;\">\n",
       "      <th></th>\n",
       "      <th>name</th>\n",
       "      <th>train_accuracy</th>\n",
       "      <th>test_accuracy</th>\n",
       "      <th>test_recall</th>\n",
       "      <th>train_recall</th>\n",
       "    </tr>\n",
       "  </thead>\n",
       "  <tbody>\n",
       "    <tr>\n",
       "      <th>0</th>\n",
       "      <td>Gaussian Naive Bayes</td>\n",
       "      <td>0.81611</td>\n",
       "      <td>0.780697</td>\n",
       "      <td>0.819763</td>\n",
       "      <td>0.83335</td>\n",
       "    </tr>\n",
       "  </tbody>\n",
       "</table>\n",
       "</div>"
      ],
      "text/plain": [
       "                   name  train_accuracy  test_accuracy  test_recall  \\\n",
       "0  Gaussian Naive Bayes         0.81611       0.780697     0.819763   \n",
       "\n",
       "   train_recall  \n",
       "0       0.83335  "
      ]
     },
     "execution_count": 34,
     "metadata": {},
     "output_type": "execute_result"
    }
   ],
   "source": [
    "gaussNB = Pipeline([\n",
    "        ('Imputer',preproc),\n",
    "    ('DfConverter',DfConverter()),\n",
    "    ('Data Preprocessing', data_preprocessing),\n",
    "     ('Kbest',SelectKBest(chi2,k=6)),\n",
    "    ('Model', GaussianNB())\n",
    "])\n",
    "record,current,lr=scoreModel(gaussNB,x_train,y_train,\"Gaussian Naive Bayes\",record=record)\n",
    "current"
   ]
  },
  {
   "cell_type": "markdown",
   "id": "c04fc7a4",
   "metadata": {
    "papermill": {
     "duration": 0.024889,
     "end_time": "2022-05-20T10:26:02.807549",
     "exception": false,
     "start_time": "2022-05-20T10:26:02.782660",
     "status": "completed"
    },
    "pycharm": {
     "name": "#%% md\n"
    },
    "tags": []
   },
   "source": [
    "## Decision Tree"
   ]
  },
  {
   "cell_type": "code",
   "execution_count": 35,
   "id": "527c854e",
   "metadata": {
    "execution": {
     "iopub.execute_input": "2022-05-20T10:26:02.859343Z",
     "iopub.status.busy": "2022-05-20T10:26:02.858692Z",
     "iopub.status.idle": "2022-05-20T10:26:06.268511Z",
     "shell.execute_reply": "2022-05-20T10:26:06.267939Z"
    },
    "papermill": {
     "duration": 3.438695,
     "end_time": "2022-05-20T10:26:06.271046",
     "exception": false,
     "start_time": "2022-05-20T10:26:02.832351",
     "status": "completed"
    },
    "pycharm": {
     "name": "#%%\n"
    },
    "tags": []
   },
   "outputs": [
    {
     "data": {
      "image/png": "[encoded data removed]",
      "text/plain": [
       "<Figure size 432x288 with 1 Axes>"
      ]
     },
     "metadata": {
      "needs_background": "light"
     },
     "output_type": "display_data"
    },
    {
     "data": {
      "text/html": [
       "<div>\n",
       "<style scoped>\n",
       "    .dataframe tbody tr th:only-of-type {\n",
       "        vertical-align: middle;\n",
       "    }\n",
       "\n",
       "    .dataframe tbody tr th {\n",
       "        vertical-align: top;\n",
       "    }\n",
       "\n",
       "    .dataframe thead th {\n",
       "        text-align: right;\n",
       "    }\n",
       "</style>\n",
       "<table border=\"1\" class=\"dataframe\">\n",
       "  <thead>\n",
       "    <tr style=\"text-align: right;\">\n",
       "      <th></th>\n",
       "      <th>name</th>\n",
       "      <th>train_accuracy</th>\n",
       "      <th>test_accuracy</th>\n",
       "      <th>test_recall</th>\n",
       "      <th>train_recall</th>\n",
       "    </tr>\n",
       "  </thead>\n",
       "  <tbody>\n",
       "    <tr>\n",
       "      <th>0</th>\n",
       "      <td>Decision Tree Classifier</td>\n",
       "      <td>0.852262</td>\n",
       "      <td>0.801446</td>\n",
       "      <td>0.774308</td>\n",
       "      <td>0.792799</td>\n",
       "    </tr>\n",
       "  </tbody>\n",
       "</table>\n",
       "</div>"
      ],
      "text/plain": [
       "                       name  train_accuracy  test_accuracy  test_recall  \\\n",
       "0  Decision Tree Classifier        0.852262       0.801446     0.774308   \n",
       "\n",
       "   train_recall  \n",
       "0      0.792799  "
      ]
     },
     "execution_count": 35,
     "metadata": {},
     "output_type": "execute_result"
    }
   ],
   "source": [
    "# bestccpAlpha=0.05227\n",
    "DeciTree = Pipeline([\n",
    "        ('Imputer',preproc),\n",
    "    ('DfConverter',DfConverter()),\n",
    "    ('Data Preprocessing', data_preprocessing),\n",
    "      ('Kbest',SelectKBest(chi2,k=6)),\n",
    "    ('model', DecisionTreeClassifier(ccp_alpha=0.00727,max_depth=3,class_weight='balanced',min_samples_leaf=1))\n",
    "])\n",
    "\n",
    "# parameter={'model__max_depth':np.arange(1,8),'model__ccp_alpha':np.arange(0.00627,0.2,0.01)}\n",
    "# pd.DataFrame(GridSearchCV(DeciTree,param_grid=parameter,scoring='recall',n_jobs=-1).fit(x_train,y_train).cv_results_)\n",
    "\n",
    "\n",
    "record,current,lr=scoreModel(DeciTree,x_train,y_train,\"Decision Tree Classifier\",record=record)\n",
    "current"
   ]
  },
  {
   "cell_type": "markdown",
   "id": "b6494dd2",
   "metadata": {
    "papermill": {
     "duration": 0.025711,
     "end_time": "2022-05-20T10:26:06.325781",
     "exception": false,
     "start_time": "2022-05-20T10:26:06.300070",
     "status": "completed"
    },
    "pycharm": {
     "name": "#%% md\n"
    },
    "tags": []
   },
   "source": [
    "## Random Forest"
   ]
  },
  {
   "cell_type": "code",
   "execution_count": 36,
   "id": "2a90b4c7",
   "metadata": {
    "execution": {
     "iopub.execute_input": "2022-05-20T10:26:06.378551Z",
     "iopub.status.busy": "2022-05-20T10:26:06.378013Z",
     "iopub.status.idle": "2022-05-20T10:26:12.168354Z",
     "shell.execute_reply": "2022-05-20T10:26:12.167583Z"
    },
    "papermill": {
     "duration": 5.819089,
     "end_time": "2022-05-20T10:26:12.170330",
     "exception": false,
     "start_time": "2022-05-20T10:26:06.351241",
     "status": "completed"
    },
    "pycharm": {
     "name": "#%%\n"
    },
    "tags": []
   },
   "outputs": [
    {
     "data": {
      "image/png": "[encoded data removed]",
      "text/plain": [
       "<Figure size 432x288 with 1 Axes>"
      ]
     },
     "metadata": {
      "needs_background": "light"
     },
     "output_type": "display_data"
    },
    {
     "data": {
      "text/html": [
       "<div>\n",
       "<style scoped>\n",
       "    .dataframe tbody tr th:only-of-type {\n",
       "        vertical-align: middle;\n",
       "    }\n",
       "\n",
       "    .dataframe tbody tr th {\n",
       "        vertical-align: top;\n",
       "    }\n",
       "\n",
       "    .dataframe thead th {\n",
       "        text-align: right;\n",
       "    }\n",
       "</style>\n",
       "<table border=\"1\" class=\"dataframe\">\n",
       "  <thead>\n",
       "    <tr style=\"text-align: right;\">\n",
       "      <th></th>\n",
       "      <th>name</th>\n",
       "      <th>train_accuracy</th>\n",
       "      <th>test_accuracy</th>\n",
       "      <th>test_recall</th>\n",
       "      <th>train_recall</th>\n",
       "    </tr>\n",
       "  </thead>\n",
       "  <tbody>\n",
       "    <tr>\n",
       "      <th>0</th>\n",
       "      <td>Random Forest Classifier</td>\n",
       "      <td>0.850211</td>\n",
       "      <td>0.793197</td>\n",
       "      <td>0.793281</td>\n",
       "      <td>0.837896</td>\n",
       "    </tr>\n",
       "  </tbody>\n",
       "</table>\n",
       "</div>"
      ],
      "text/plain": [
       "                       name  train_accuracy  test_accuracy  test_recall  \\\n",
       "0  Random Forest Classifier        0.850211       0.793197     0.793281   \n",
       "\n",
       "   train_recall  \n",
       "0      0.837896  "
      ]
     },
     "execution_count": 36,
     "metadata": {},
     "output_type": "execute_result"
    }
   ],
   "source": [
    "randomFor = Pipeline([\n",
    "        ('Imputer',preproc),\n",
    "    ('DfConverter',DfConverter()),\n",
    "    ('Data Preprocessing', data_preprocessing),\n",
    " ('Kbest',SelectKBest(chi2,k=6)),\n",
    "    ('model', RandomForestClassifier(n_jobs=-1,ccp_alpha=0.00727,max_depth=3,class_weight=\"balanced\",min_samples_leaf=2))\n",
    "])\n",
    "# parameter={'model__max_depth':np.arange(1,9),'model__ccp_alpha':np.arange(0.00827,0.03,0.001)}\n",
    "# pd.DataFrame(GridSearchCV(randomFor,param_grid=parameter,scoring='recall').fit(x_train,y_train).cv_results_)\n",
    "\n",
    "record,current,lr=scoreModel(randomFor,x_train,y_train,\"Random Forest Classifier\",record=record)\n",
    "current"
   ]
  },
  {
   "cell_type": "markdown",
   "id": "5a246421",
   "metadata": {
    "papermill": {
     "duration": 0.026512,
     "end_time": "2022-05-20T10:26:12.223686",
     "exception": false,
     "start_time": "2022-05-20T10:26:12.197174",
     "status": "completed"
    },
    "pycharm": {
     "name": "#%% md\n"
    },
    "tags": []
   },
   "source": [
    "## SVM"
   ]
  },
  {
   "cell_type": "code",
   "execution_count": 37,
   "id": "b876f70f",
   "metadata": {
    "execution": {
     "iopub.execute_input": "2022-05-20T10:26:12.278047Z",
     "iopub.status.busy": "2022-05-20T10:26:12.277463Z",
     "iopub.status.idle": "2022-05-20T10:26:15.605642Z",
     "shell.execute_reply": "2022-05-20T10:26:15.604894Z"
    },
    "papermill": {
     "duration": 3.357634,
     "end_time": "2022-05-20T10:26:15.607311",
     "exception": false,
     "start_time": "2022-05-20T10:26:12.249677",
     "status": "completed"
    },
    "pycharm": {
     "name": "#%%\n"
    },
    "tags": []
   },
   "outputs": [
    {
     "data": {
      "image/png": "[encoded data removed]",
      "text/plain": [
       "<Figure size 432x288 with 1 Axes>"
      ]
     },
     "metadata": {
      "needs_background": "light"
     },
     "output_type": "display_data"
    },
    {
     "data": {
      "text/html": [
       "<div>\n",
       "<style scoped>\n",
       "    .dataframe tbody tr th:only-of-type {\n",
       "        vertical-align: middle;\n",
       "    }\n",
       "\n",
       "    .dataframe tbody tr th {\n",
       "        vertical-align: top;\n",
       "    }\n",
       "\n",
       "    .dataframe thead th {\n",
       "        text-align: right;\n",
       "    }\n",
       "</style>\n",
       "<table border=\"1\" class=\"dataframe\">\n",
       "  <thead>\n",
       "    <tr style=\"text-align: right;\">\n",
       "      <th></th>\n",
       "      <th>name</th>\n",
       "      <th>train_accuracy</th>\n",
       "      <th>test_accuracy</th>\n",
       "      <th>test_recall</th>\n",
       "      <th>train_recall</th>\n",
       "    </tr>\n",
       "  </thead>\n",
       "  <tbody>\n",
       "    <tr>\n",
       "      <th>0</th>\n",
       "      <td>SVM Classifier</td>\n",
       "      <td>0.857438</td>\n",
       "      <td>0.814031</td>\n",
       "      <td>0.756126</td>\n",
       "      <td>0.795097</td>\n",
       "    </tr>\n",
       "  </tbody>\n",
       "</table>\n",
       "</div>"
      ],
      "text/plain": [
       "             name  train_accuracy  test_accuracy  test_recall  train_recall\n",
       "0  SVM Classifier        0.857438       0.814031     0.756126      0.795097"
      ]
     },
     "execution_count": 37,
     "metadata": {},
     "output_type": "execute_result"
    }
   ],
   "source": [
    "\n",
    "svm = Pipeline([\n",
    "        ('Imputer',preproc),\n",
    "    ('DfConverter',DfConverter()),\n",
    "    ('Data Preprocessing', data_preprocessing),\n",
    "      ('Kbest',SelectKBest(chi2,k=6)),\n",
    "    ('model', SVC(C=6))\n",
    "])\n",
    "# parameters = {'model__kernel':('linear', 'rbf'), 'model__C':np.arange(1,10),}\n",
    "# pd.DataFrame(GridSearchCV(svm,param_grid=parameters,scoring='recall',n_jobs=-1).fit(x_train,y_train).cv_results_)\n",
    "\n",
    "record,current,lr=scoreModel(svm,x_train,y_train,\"SVM Classifier\",record=record)\n",
    "current"
   ]
  },
  {
   "cell_type": "markdown",
   "id": "907f33e9",
   "metadata": {
    "papermill": {
     "duration": 0.027034,
     "end_time": "2022-05-20T10:26:15.661625",
     "exception": false,
     "start_time": "2022-05-20T10:26:15.634591",
     "status": "completed"
    },
    "pycharm": {
     "name": "#%% md\n"
    },
    "tags": []
   },
   "source": [
    "## Gradient Boosting Tree"
   ]
  },
  {
   "cell_type": "code",
   "execution_count": 38,
   "id": "a34822b9",
   "metadata": {
    "execution": {
     "iopub.execute_input": "2022-05-20T10:26:15.717338Z",
     "iopub.status.busy": "2022-05-20T10:26:15.716696Z",
     "iopub.status.idle": "2022-05-20T10:26:19.692267Z",
     "shell.execute_reply": "2022-05-20T10:26:19.691533Z"
    },
    "papermill": {
     "duration": 4.005448,
     "end_time": "2022-05-20T10:26:19.693992",
     "exception": false,
     "start_time": "2022-05-20T10:26:15.688544",
     "status": "completed"
    },
    "pycharm": {
     "name": "#%%\n"
    },
    "tags": []
   },
   "outputs": [
    {
     "data": {
      "image/png": "[encoded data removed]",
      "text/plain": [
       "<Figure size 432x288 with 1 Axes>"
      ]
     },
     "metadata": {
      "needs_background": "light"
     },
     "output_type": "display_data"
    },
    {
     "data": {
      "text/html": [
       "<div>\n",
       "<style scoped>\n",
       "    .dataframe tbody tr th:only-of-type {\n",
       "        vertical-align: middle;\n",
       "    }\n",
       "\n",
       "    .dataframe tbody tr th {\n",
       "        vertical-align: top;\n",
       "    }\n",
       "\n",
       "    .dataframe thead th {\n",
       "        text-align: right;\n",
       "    }\n",
       "</style>\n",
       "<table border=\"1\" class=\"dataframe\">\n",
       "  <thead>\n",
       "    <tr style=\"text-align: right;\">\n",
       "      <th></th>\n",
       "      <th>name</th>\n",
       "      <th>train_accuracy</th>\n",
       "      <th>test_accuracy</th>\n",
       "      <th>test_recall</th>\n",
       "      <th>train_recall</th>\n",
       "    </tr>\n",
       "  </thead>\n",
       "  <tbody>\n",
       "    <tr>\n",
       "      <th>0</th>\n",
       "      <td>Gradient Boosting Classifier</td>\n",
       "      <td>0.856407</td>\n",
       "      <td>0.801361</td>\n",
       "      <td>0.79249</td>\n",
       "      <td>0.815296</td>\n",
       "    </tr>\n",
       "  </tbody>\n",
       "</table>\n",
       "</div>"
      ],
      "text/plain": [
       "                           name  train_accuracy  test_accuracy  test_recall  \\\n",
       "0  Gradient Boosting Classifier        0.856407       0.801361      0.79249   \n",
       "\n",
       "   train_recall  \n",
       "0      0.815296  "
      ]
     },
     "execution_count": 38,
     "metadata": {},
     "output_type": "execute_result"
    }
   ],
   "source": [
    "\n",
    "gradbt = Pipeline([\n",
    "        ('Imputer',preproc),\n",
    "    ('DfConverter',DfConverter()),\n",
    "    ('Data Preprocessing', data_preprocessing),\n",
    "      ('Kbest',SelectKBest(chi2,k=6)),\n",
    "    ('model', GradientBoostingClassifier(learning_rate=0.060,max_depth=2,min_samples_leaf=6))\n",
    "])\n",
    "\n",
    "# parameter={'model__max_depth':np.arange(1,9),'model__learning_rate':np.arange(0.01,0.05,0.01)}\n",
    "# pd.DataFrame(GridSearchCV(gradbt,param_grid=parameter,scoring='recall',n_jobs=-1).fit(x_train,y_train).cv_results_)\n",
    "\n",
    "record,current,lr=scoreModel(gradbt,x_train,y_train,\"Gradient Boosting Classifier\",record=record)\n",
    "current"
   ]
  },
  {
   "cell_type": "markdown",
   "id": "8320ec6f",
   "metadata": {
    "papermill": {
     "duration": 0.027465,
     "end_time": "2022-05-20T10:26:19.749576",
     "exception": false,
     "start_time": "2022-05-20T10:26:19.722111",
     "status": "completed"
    },
    "pycharm": {
     "name": "#%% md\n"
    },
    "tags": []
   },
   "source": [
    "## XG Boost Classifier"
   ]
  },
  {
   "cell_type": "code",
   "execution_count": 39,
   "id": "422ff062",
   "metadata": {
    "execution": {
     "iopub.execute_input": "2022-05-20T10:26:19.806594Z",
     "iopub.status.busy": "2022-05-20T10:26:19.805928Z",
     "iopub.status.idle": "2022-05-20T10:26:24.006422Z",
     "shell.execute_reply": "2022-05-20T10:26:24.005758Z"
    },
    "papermill": {
     "duration": 4.231288,
     "end_time": "2022-05-20T10:26:24.008309",
     "exception": false,
     "start_time": "2022-05-20T10:26:19.777021",
     "status": "completed"
    },
    "pycharm": {
     "name": "#%%\n"
    },
    "tags": []
   },
   "outputs": [
    {
     "data": {
      "image/png": "[encoded data removed]",
      "text/plain": [
       "<Figure size 432x288 with 1 Axes>"
      ]
     },
     "metadata": {
      "needs_background": "light"
     },
     "output_type": "display_data"
    },
    {
     "data": {
      "text/html": [
       "<div>\n",
       "<style scoped>\n",
       "    .dataframe tbody tr th:only-of-type {\n",
       "        vertical-align: middle;\n",
       "    }\n",
       "\n",
       "    .dataframe tbody tr th {\n",
       "        vertical-align: top;\n",
       "    }\n",
       "\n",
       "    .dataframe thead th {\n",
       "        text-align: right;\n",
       "    }\n",
       "</style>\n",
       "<table border=\"1\" class=\"dataframe\">\n",
       "  <thead>\n",
       "    <tr style=\"text-align: right;\">\n",
       "      <th></th>\n",
       "      <th>name</th>\n",
       "      <th>train_accuracy</th>\n",
       "      <th>test_accuracy</th>\n",
       "      <th>test_recall</th>\n",
       "      <th>train_recall</th>\n",
       "    </tr>\n",
       "  </thead>\n",
       "  <tbody>\n",
       "    <tr>\n",
       "      <th>0</th>\n",
       "      <td>XG Boost Classifier</td>\n",
       "      <td>0.837792</td>\n",
       "      <td>0.826276</td>\n",
       "      <td>0.828458</td>\n",
       "      <td>0.808682</td>\n",
       "    </tr>\n",
       "  </tbody>\n",
       "</table>\n",
       "</div>"
      ],
      "text/plain": [
       "                  name  train_accuracy  test_accuracy  test_recall  \\\n",
       "0  XG Boost Classifier        0.837792       0.826276     0.828458   \n",
       "\n",
       "   train_recall  \n",
       "0      0.808682  "
      ]
     },
     "execution_count": 39,
     "metadata": {},
     "output_type": "execute_result"
    }
   ],
   "source": [
    "\n",
    "xgB = Pipeline([\n",
    "        ('Imputer',preproc),\n",
    "    ('DfConverter',DfConverter()),\n",
    "    ('Data Preprocessing', data_preprocessing),\n",
    "    ('Kbest',SelectKBest(chi2,k=6)),\n",
    "    ('model', xgb.XGBClassifier(max_depth=3,n_estimators=15,objective='binary:logistic',booster='gblinear',learning_rate=0.15))\n",
    "])\n",
    "\n",
    "# parameter={'model__max_depth':np.arange(1,10),'model__n_estimators':np.arange(1,11)}\n",
    "# pd.DataFrame(GridSearchCV(xgb,param_grid=parameter,scoring='recall',n_jobs=-1).fit(x_train,y_train).cv_results_)\n",
    "\n",
    "\n",
    "record,current,lr=scoreModel(xgB,x_train,y_train,\"XG Boost Classifier\",record=record)\n",
    "current"
   ]
  },
  {
   "cell_type": "markdown",
   "id": "82dd8e04",
   "metadata": {
    "papermill": {
     "duration": 0.028246,
     "end_time": "2022-05-20T10:26:24.065602",
     "exception": false,
     "start_time": "2022-05-20T10:26:24.037356",
     "status": "completed"
    },
    "pycharm": {
     "name": "#%% md\n"
    },
    "tags": []
   },
   "source": [
    "## AdaBoost Classifier"
   ]
  },
  {
   "cell_type": "code",
   "execution_count": 40,
   "id": "448aea36",
   "metadata": {
    "execution": {
     "iopub.execute_input": "2022-05-20T10:26:24.124461Z",
     "iopub.status.busy": "2022-05-20T10:26:24.123728Z",
     "iopub.status.idle": "2022-05-20T10:26:27.640241Z",
     "shell.execute_reply": "2022-05-20T10:26:27.639448Z"
    },
    "papermill": {
     "duration": 3.547873,
     "end_time": "2022-05-20T10:26:27.641912",
     "exception": false,
     "start_time": "2022-05-20T10:26:24.094039",
     "status": "completed"
    },
    "pycharm": {
     "name": "#%%\n"
    },
    "tags": []
   },
   "outputs": [
    {
     "data": {
      "image/png": "[encoded data removed]",
      "text/plain": [
       "<Figure size 432x288 with 1 Axes>"
      ]
     },
     "metadata": {
      "needs_background": "light"
     },
     "output_type": "display_data"
    },
    {
     "data": {
      "text/html": [
       "<div>\n",
       "<style scoped>\n",
       "    .dataframe tbody tr th:only-of-type {\n",
       "        vertical-align: middle;\n",
       "    }\n",
       "\n",
       "    .dataframe tbody tr th {\n",
       "        vertical-align: top;\n",
       "    }\n",
       "\n",
       "    .dataframe thead th {\n",
       "        text-align: right;\n",
       "    }\n",
       "</style>\n",
       "<table border=\"1\" class=\"dataframe\">\n",
       "  <thead>\n",
       "    <tr style=\"text-align: right;\">\n",
       "      <th></th>\n",
       "      <th>name</th>\n",
       "      <th>train_accuracy</th>\n",
       "      <th>test_accuracy</th>\n",
       "      <th>test_recall</th>\n",
       "      <th>train_recall</th>\n",
       "    </tr>\n",
       "  </thead>\n",
       "  <tbody>\n",
       "    <tr>\n",
       "      <th>0</th>\n",
       "      <td>AdaBoost Classifier</td>\n",
       "      <td>0.845056</td>\n",
       "      <td>0.813861</td>\n",
       "      <td>0.792095</td>\n",
       "      <td>0.808504</td>\n",
       "    </tr>\n",
       "  </tbody>\n",
       "</table>\n",
       "</div>"
      ],
      "text/plain": [
       "                  name  train_accuracy  test_accuracy  test_recall  \\\n",
       "0  AdaBoost Classifier        0.845056       0.813861     0.792095   \n",
       "\n",
       "   train_recall  \n",
       "0      0.808504  "
      ]
     },
     "execution_count": 40,
     "metadata": {},
     "output_type": "execute_result"
    }
   ],
   "source": [
    "lgbmC = Pipeline([\n",
    "        ('Imputer',preproc),\n",
    "    ('DfConverter',DfConverter()),\n",
    "    ('Data Preprocessing', data_preprocessing),\n",
    "    ('Kbest',SelectKBest(chi2,k=6)),\n",
    "    ('model', AdaBoostClassifier(learning_rate=0.72,n_estimators=6))\n",
    "])\n",
    "\n",
    "\n",
    "# parameter={'model__n_estimators':np.arange(1,13),'model__learning_rate':np.arange(0.1,2,0.01)}\n",
    "#\n",
    "# pd.DataFrame(GridSearchCV(lgbmC,param_grid=parameter,scoring='recall',n_jobs=-1).fit(x_train,y_train).cv_results_)\n",
    "\n",
    "record,current,lr=scoreModel(lgbmC,x_train,y_train,\"AdaBoost Classifier\",record=record)\n",
    "current"
   ]
  },
  {
   "cell_type": "markdown",
   "id": "9cc47ab8",
   "metadata": {
    "papermill": {
     "duration": 0.029,
     "end_time": "2022-05-20T10:26:27.700454",
     "exception": false,
     "start_time": "2022-05-20T10:26:27.671454",
     "status": "completed"
    },
    "pycharm": {
     "name": "#%% md\n"
    },
    "tags": []
   },
   "source": [
    "## K-Nearest Neighbour"
   ]
  },
  {
   "cell_type": "code",
   "execution_count": 41,
   "id": "04e3e3db",
   "metadata": {
    "execution": {
     "iopub.execute_input": "2022-05-20T10:26:27.759887Z",
     "iopub.status.busy": "2022-05-20T10:26:27.759237Z",
     "iopub.status.idle": "2022-05-20T10:26:31.205083Z",
     "shell.execute_reply": "2022-05-20T10:26:31.204410Z"
    },
    "papermill": {
     "duration": 3.477622,
     "end_time": "2022-05-20T10:26:31.206768",
     "exception": false,
     "start_time": "2022-05-20T10:26:27.729146",
     "status": "completed"
    },
    "pycharm": {
     "name": "#%%\n"
    },
    "tags": []
   },
   "outputs": [
    {
     "data": {
      "image/png": "[encoded data removed]",
      "text/plain": [
       "<Figure size 432x288 with 1 Axes>"
      ]
     },
     "metadata": {
      "needs_background": "light"
     },
     "output_type": "display_data"
    },
    {
     "data": {
      "text/html": [
       "<div>\n",
       "<style scoped>\n",
       "    .dataframe tbody tr th:only-of-type {\n",
       "        vertical-align: middle;\n",
       "    }\n",
       "\n",
       "    .dataframe tbody tr th {\n",
       "        vertical-align: top;\n",
       "    }\n",
       "\n",
       "    .dataframe thead th {\n",
       "        text-align: right;\n",
       "    }\n",
       "</style>\n",
       "<table border=\"1\" class=\"dataframe\">\n",
       "  <thead>\n",
       "    <tr style=\"text-align: right;\">\n",
       "      <th></th>\n",
       "      <th>name</th>\n",
       "      <th>train_accuracy</th>\n",
       "      <th>test_accuracy</th>\n",
       "      <th>test_recall</th>\n",
       "      <th>train_recall</th>\n",
       "    </tr>\n",
       "  </thead>\n",
       "  <tbody>\n",
       "    <tr>\n",
       "      <th>0</th>\n",
       "      <td>K-Nearest Neighbour Classifier</td>\n",
       "      <td>0.851237</td>\n",
       "      <td>0.822194</td>\n",
       "      <td>0.78419</td>\n",
       "      <td>0.801813</td>\n",
       "    </tr>\n",
       "  </tbody>\n",
       "</table>\n",
       "</div>"
      ],
      "text/plain": [
       "                             name  train_accuracy  test_accuracy  test_recall  \\\n",
       "0  K-Nearest Neighbour Classifier        0.851237       0.822194      0.78419   \n",
       "\n",
       "   train_recall  \n",
       "0      0.801813  "
      ]
     },
     "execution_count": 41,
     "metadata": {},
     "output_type": "execute_result"
    }
   ],
   "source": [
    "knnClassifier = Pipeline([\n",
    "        ('Imputer',preproc),\n",
    "    ('DfConverter',DfConverter()),\n",
    "    ('Data Preprocessing', data_preprocessing),\n",
    "  ('Kbest',SelectKBest(chi2,k=6)),\n",
    "    ('Model', KNeighborsClassifier(n_neighbors=5))\n",
    "])\n",
    "record,current,lr=scoreModel(knnClassifier,x_train,y_train,\"K-Nearest Neighbour Classifier\",record=record)\n",
    "current"
   ]
  },
  {
   "cell_type": "markdown",
   "id": "f27aef95",
   "metadata": {
    "papermill": {
     "duration": 0.029474,
     "end_time": "2022-05-20T10:26:31.266260",
     "exception": false,
     "start_time": "2022-05-20T10:26:31.236786",
     "status": "completed"
    },
    "pycharm": {
     "name": "#%% md\n"
    },
    "tags": []
   },
   "source": [
    "## Result Analysis"
   ]
  },
  {
   "cell_type": "code",
   "execution_count": 42,
   "id": "b8cbabd2",
   "metadata": {
    "execution": {
     "iopub.execute_input": "2022-05-20T10:26:31.326860Z",
     "iopub.status.busy": "2022-05-20T10:26:31.326237Z",
     "iopub.status.idle": "2022-05-20T10:26:31.336799Z",
     "shell.execute_reply": "2022-05-20T10:26:31.336257Z"
    },
    "papermill": {
     "duration": 0.042692,
     "end_time": "2022-05-20T10:26:31.338328",
     "exception": false,
     "start_time": "2022-05-20T10:26:31.295636",
     "status": "completed"
    },
    "pycharm": {
     "name": "#%%\n"
    },
    "tags": []
   },
   "outputs": [
    {
     "data": {
      "text/html": [
       "<div>\n",
       "<style scoped>\n",
       "    .dataframe tbody tr th:only-of-type {\n",
       "        vertical-align: middle;\n",
       "    }\n",
       "\n",
       "    .dataframe tbody tr th {\n",
       "        vertical-align: top;\n",
       "    }\n",
       "\n",
       "    .dataframe thead th {\n",
       "        text-align: right;\n",
       "    }\n",
       "</style>\n",
       "<table border=\"1\" class=\"dataframe\">\n",
       "  <thead>\n",
       "    <tr style=\"text-align: right;\">\n",
       "      <th></th>\n",
       "      <th>name</th>\n",
       "      <th>train_accuracy</th>\n",
       "      <th>test_accuracy</th>\n",
       "      <th>test_recall</th>\n",
       "      <th>train_recall</th>\n",
       "    </tr>\n",
       "  </thead>\n",
       "  <tbody>\n",
       "    <tr>\n",
       "      <th>0</th>\n",
       "      <td>Dummy Baseline Classifier</td>\n",
       "      <td>0.541323</td>\n",
       "      <td>0.541327</td>\n",
       "      <td>0.000000</td>\n",
       "      <td>0.000000</td>\n",
       "    </tr>\n",
       "    <tr>\n",
       "      <th>1</th>\n",
       "      <td>Logistic Regression</td>\n",
       "      <td>0.842984</td>\n",
       "      <td>0.826276</td>\n",
       "      <td>0.792490</td>\n",
       "      <td>0.790577</td>\n",
       "    </tr>\n",
       "    <tr>\n",
       "      <th>2</th>\n",
       "      <td>Gaussian Naive Bayes</td>\n",
       "      <td>0.816110</td>\n",
       "      <td>0.780697</td>\n",
       "      <td>0.819763</td>\n",
       "      <td>0.833350</td>\n",
       "    </tr>\n",
       "    <tr>\n",
       "      <th>3</th>\n",
       "      <td>Decision Tree Classifier</td>\n",
       "      <td>0.852262</td>\n",
       "      <td>0.801446</td>\n",
       "      <td>0.774308</td>\n",
       "      <td>0.792799</td>\n",
       "    </tr>\n",
       "    <tr>\n",
       "      <th>4</th>\n",
       "      <td>Random Forest Classifier</td>\n",
       "      <td>0.850211</td>\n",
       "      <td>0.793197</td>\n",
       "      <td>0.793281</td>\n",
       "      <td>0.837896</td>\n",
       "    </tr>\n",
       "    <tr>\n",
       "      <th>5</th>\n",
       "      <td>SVM Classifier</td>\n",
       "      <td>0.857438</td>\n",
       "      <td>0.814031</td>\n",
       "      <td>0.756126</td>\n",
       "      <td>0.795097</td>\n",
       "    </tr>\n",
       "    <tr>\n",
       "      <th>6</th>\n",
       "      <td>Gradient Boosting Classifier</td>\n",
       "      <td>0.856407</td>\n",
       "      <td>0.801361</td>\n",
       "      <td>0.792490</td>\n",
       "      <td>0.815296</td>\n",
       "    </tr>\n",
       "    <tr>\n",
       "      <th>7</th>\n",
       "      <td>XG Boost Classifier</td>\n",
       "      <td>0.837792</td>\n",
       "      <td>0.826276</td>\n",
       "      <td>0.828458</td>\n",
       "      <td>0.808682</td>\n",
       "    </tr>\n",
       "    <tr>\n",
       "      <th>8</th>\n",
       "      <td>AdaBoost Classifier</td>\n",
       "      <td>0.845056</td>\n",
       "      <td>0.813861</td>\n",
       "      <td>0.792095</td>\n",
       "      <td>0.808504</td>\n",
       "    </tr>\n",
       "    <tr>\n",
       "      <th>9</th>\n",
       "      <td>K-Nearest Neighbour Classifier</td>\n",
       "      <td>0.851237</td>\n",
       "      <td>0.822194</td>\n",
       "      <td>0.784190</td>\n",
       "      <td>0.801813</td>\n",
       "    </tr>\n",
       "  </tbody>\n",
       "</table>\n",
       "</div>"
      ],
      "text/plain": [
       "                             name  train_accuracy  test_accuracy  test_recall  \\\n",
       "0       Dummy Baseline Classifier        0.541323       0.541327     0.000000   \n",
       "1             Logistic Regression        0.842984       0.826276     0.792490   \n",
       "2            Gaussian Naive Bayes        0.816110       0.780697     0.819763   \n",
       "3        Decision Tree Classifier        0.852262       0.801446     0.774308   \n",
       "4        Random Forest Classifier        0.850211       0.793197     0.793281   \n",
       "5                  SVM Classifier        0.857438       0.814031     0.756126   \n",
       "6    Gradient Boosting Classifier        0.856407       0.801361     0.792490   \n",
       "7             XG Boost Classifier        0.837792       0.826276     0.828458   \n",
       "8             AdaBoost Classifier        0.845056       0.813861     0.792095   \n",
       "9  K-Nearest Neighbour Classifier        0.851237       0.822194     0.784190   \n",
       "\n",
       "   train_recall  \n",
       "0      0.000000  \n",
       "1      0.790577  \n",
       "2      0.833350  \n",
       "3      0.792799  \n",
       "4      0.837896  \n",
       "5      0.795097  \n",
       "6      0.815296  \n",
       "7      0.808682  \n",
       "8      0.808504  \n",
       "9      0.801813  "
      ]
     },
     "execution_count": 42,
     "metadata": {},
     "output_type": "execute_result"
    }
   ],
   "source": [
    "record"
   ]
  },
  {
   "cell_type": "markdown",
   "id": "78604b3a",
   "metadata": {
    "papermill": {
     "duration": 0.029623,
     "end_time": "2022-05-20T10:26:31.397501",
     "exception": false,
     "start_time": "2022-05-20T10:26:31.367878",
     "status": "completed"
    },
    "pycharm": {
     "name": "#%% md\n"
    },
    "tags": []
   },
   "source": []
  },
  {
   "cell_type": "code",
   "execution_count": 43,
   "id": "152bafb8",
   "metadata": {
    "execution": {
     "iopub.execute_input": "2022-05-20T10:26:31.459014Z",
     "iopub.status.busy": "2022-05-20T10:26:31.458269Z",
     "iopub.status.idle": "2022-05-20T10:26:31.975758Z",
     "shell.execute_reply": "2022-05-20T10:26:31.975052Z"
    },
    "papermill": {
     "duration": 0.550611,
     "end_time": "2022-05-20T10:26:31.977421",
     "exception": false,
     "start_time": "2022-05-20T10:26:31.426810",
     "status": "completed"
    },
    "pycharm": {
     "name": "#%%\n"
    },
    "tags": []
   },
   "outputs": [
    {
     "name": "stdout",
     "output_type": "stream",
     "text": [
      "[10:26:31] WARNING: ../src/learner.cc:627: \n",
      "Parameters: { \"max_depth\" } might not be used.\n",
      "\n",
      "  This could be a false alarm, with some parameters getting used by language bindings but\n",
      "  then being mistakenly passed down to XGBoost core, or some parameter actually being used\n",
      "  but getting flagged wrongly here. Please open an issue if you find any such cases.\n",
      "\n",
      "\n"
     ]
    },
    {
     "data": {
      "text/plain": [
       "0.9642857142857143"
      ]
     },
     "execution_count": 43,
     "metadata": {},
     "output_type": "execute_result"
    }
   ],
   "source": [
    "Final = Pipeline([\n",
    "        ('Imputer',preproc),\n",
    "    ('DfConverter',DfConverter()),\n",
    "    ('Data Preprocessing', data_preprocessing),\n",
    "    ('Kbest',SelectKBest(chi2,k=6)),\n",
    "    ('Model',  xgb.XGBClassifier(max_depth=3,n_estimators=15,objective='binary:logistic',booster='gblinear',learning_rate=0.15))\n",
    "])\n",
    "Final.fit(x_train,y_train)\n",
    "\n",
    "\n",
    "y_pred=Final.predict(x_test)\n",
    "\n",
    "recall_score(y_test,y_pred)"
   ]
  },
  {
   "cell_type": "markdown",
   "id": "bdde707a",
   "metadata": {
    "papermill": {
     "duration": 0.029586,
     "end_time": "2022-05-20T10:26:32.037228",
     "exception": false,
     "start_time": "2022-05-20T10:26:32.007642",
     "status": "completed"
    },
    "pycharm": {
     "name": "#%% md\n"
    },
    "tags": []
   },
   "source": [
    "## Feature Importance"
   ]
  },
  {
   "cell_type": "code",
   "execution_count": 44,
   "id": "f9376b4c",
   "metadata": {
    "execution": {
     "iopub.execute_input": "2022-05-20T10:26:32.098928Z",
     "iopub.status.busy": "2022-05-20T10:26:32.098299Z",
     "iopub.status.idle": "2022-05-20T10:26:36.150112Z",
     "shell.execute_reply": "2022-05-20T10:26:36.149001Z"
    },
    "papermill": {
     "duration": 4.084653,
     "end_time": "2022-05-20T10:26:36.151750",
     "exception": false,
     "start_time": "2022-05-20T10:26:32.067097",
     "status": "completed"
    },
    "pycharm": {
     "name": "#%%\n"
    },
    "tags": []
   },
   "outputs": [
    {
     "name": "stdout",
     "output_type": "stream",
     "text": [
      "ca      0.128 +/- 0.032\n",
      "thal    0.118 +/- 0.028\n",
      "slope   0.079 +/- 0.019\n",
      "exang   0.039 +/- 0.008\n",
      "[0.         0.         0.03606557 0.         0.         0.\n",
      " 0.         0.         0.03934426 0.         0.07868852 0.12786885\n",
      " 0.11803279]\n"
     ]
    }
   ],
   "source": [
    "\n",
    "\n",
    "imps = permutation_importance(Final, x_test, y_test)\n",
    "for i in imps.importances_mean.argsort()[::-1]:\n",
    "     if imps.importances_mean[i] - 2 * imps.importances_std[i] > 0:\n",
    "         print(f\"{x_train.columns[i]:<8}\"\n",
    "               f\"{imps.importances_mean[i]:.3f}\"\n",
    "               f\" +/- {imps.importances_std[i]:.3f}\")\n",
    "print(imps.importances_mean)"
   ]
  },
  {
   "cell_type": "markdown",
   "id": "d8ce162f",
   "metadata": {
    "papermill": {
     "duration": 0.029755,
     "end_time": "2022-05-20T10:26:36.212136",
     "exception": false,
     "start_time": "2022-05-20T10:26:36.182381",
     "status": "completed"
    },
    "pycharm": {
     "name": "#%% md\n"
    },
    "tags": []
   },
   "source": [
    "## Classification Report"
   ]
  },
  {
   "cell_type": "code",
   "execution_count": 45,
   "id": "52608db4",
   "metadata": {
    "execution": {
     "iopub.execute_input": "2022-05-20T10:26:36.274000Z",
     "iopub.status.busy": "2022-05-20T10:26:36.273225Z",
     "iopub.status.idle": "2022-05-20T10:26:36.282389Z",
     "shell.execute_reply": "2022-05-20T10:26:36.281649Z"
    },
    "papermill": {
     "duration": 0.04203,
     "end_time": "2022-05-20T10:26:36.283936",
     "exception": false,
     "start_time": "2022-05-20T10:26:36.241906",
     "status": "completed"
    },
    "pycharm": {
     "name": "#%%\n"
    },
    "tags": []
   },
   "outputs": [
    {
     "name": "stdout",
     "output_type": "stream",
     "text": [
      "              precision    recall  f1-score   support\n",
      "\n",
      "           0       0.96      0.79      0.87        33\n",
      "           1       0.79      0.96      0.87        28\n",
      "\n",
      "    accuracy                           0.87        61\n",
      "   macro avg       0.88      0.88      0.87        61\n",
      "weighted avg       0.89      0.87      0.87        61\n",
      "\n"
     ]
    }
   ],
   "source": [
    "print(classification_report(y_test,y_pred))\n"
   ]
  },
  {
   "cell_type": "code",
   "execution_count": 46,
   "id": "fe0cd46d",
   "metadata": {
    "execution": {
     "iopub.execute_input": "2022-05-20T10:26:36.346075Z",
     "iopub.status.busy": "2022-05-20T10:26:36.345312Z",
     "iopub.status.idle": "2022-05-20T10:26:36.558671Z",
     "shell.execute_reply": "2022-05-20T10:26:36.557931Z"
    },
    "papermill": {
     "duration": 0.246665,
     "end_time": "2022-05-20T10:26:36.560842",
     "exception": false,
     "start_time": "2022-05-20T10:26:36.314177",
     "status": "completed"
    },
    "pycharm": {
     "name": "#%%\n"
    },
    "tags": []
   },
   "outputs": [
    {
     "name": "stderr",
     "output_type": "stream",
     "text": [
      "/opt/hostedtoolcache/Python/3.8.12/x64/lib/python3.8/site-packages/sklearn/utils/deprecation.py:87: FutureWarning: Function plot_roc_curve is deprecated; Function :func:`plot_roc_curve` is deprecated in 1.0 and will be removed in 1.2. Use one of the class methods: :meth:`sklearn.metric.RocCurveDisplay.from_predictions` or :meth:`sklearn.metric.RocCurveDisplay.from_estimator`.\n",
      "  warnings.warn(msg, category=FutureWarning)\n"
     ]
    },
    {
     "data": {
      "text/plain": [
       "<sklearn.metrics._plot.roc_curve.RocCurveDisplay at 0x7fae3d746cd0>"
      ]
     },
     "execution_count": 46,
     "metadata": {},
     "output_type": "execute_result"
    },
    {
     "data": {
      "image/png": "[encoded data removed]",
      "text/plain": [
       "<Figure size 432x288 with 1 Axes>"
      ]
     },
     "metadata": {
      "needs_background": "light"
     },
     "output_type": "display_data"
    }
   ],
   "source": [
    "plot_roc_curve(Final,x_test,y_test)"
   ]
  },
  {
   "cell_type": "markdown",
   "id": "826547fe",
   "metadata": {
    "papermill": {
     "duration": 0.030479,
     "end_time": "2022-05-20T10:26:36.622599",
     "exception": false,
     "start_time": "2022-05-20T10:26:36.592120",
     "status": "completed"
    },
    "pycharm": {
     "name": "#%% md\n"
    },
    "tags": []
   },
   "source": [
    "## Confusion Matrix"
   ]
  },
  {
   "cell_type": "code",
   "execution_count": 47,
   "id": "cc81b54f",
   "metadata": {
    "execution": {
     "iopub.execute_input": "2022-05-20T10:26:36.684983Z",
     "iopub.status.busy": "2022-05-20T10:26:36.684452Z",
     "iopub.status.idle": "2022-05-20T10:26:36.693000Z",
     "shell.execute_reply": "2022-05-20T10:26:36.692252Z"
    },
    "papermill": {
     "duration": 0.042879,
     "end_time": "2022-05-20T10:26:36.695629",
     "exception": false,
     "start_time": "2022-05-20T10:26:36.652750",
     "status": "completed"
    },
    "pycharm": {
     "name": "#%%\n"
    },
    "tags": []
   },
   "outputs": [
    {
     "data": {
      "text/html": [
       "<div>\n",
       "<style scoped>\n",
       "    .dataframe tbody tr th:only-of-type {\n",
       "        vertical-align: middle;\n",
       "    }\n",
       "\n",
       "    .dataframe tbody tr th {\n",
       "        vertical-align: top;\n",
       "    }\n",
       "\n",
       "    .dataframe thead th {\n",
       "        text-align: right;\n",
       "    }\n",
       "</style>\n",
       "<table border=\"1\" class=\"dataframe\">\n",
       "  <thead>\n",
       "    <tr style=\"text-align: right;\">\n",
       "      <th></th>\n",
       "      <th>0</th>\n",
       "      <th>1</th>\n",
       "    </tr>\n",
       "  </thead>\n",
       "  <tbody>\n",
       "    <tr>\n",
       "      <th>0</th>\n",
       "      <td>26</td>\n",
       "      <td>7</td>\n",
       "    </tr>\n",
       "    <tr>\n",
       "      <th>1</th>\n",
       "      <td>1</td>\n",
       "      <td>27</td>\n",
       "    </tr>\n",
       "  </tbody>\n",
       "</table>\n",
       "</div>"
      ],
      "text/plain": [
       "    0   1\n",
       "0  26   7\n",
       "1   1  27"
      ]
     },
     "execution_count": 47,
     "metadata": {},
     "output_type": "execute_result"
    }
   ],
   "source": [
    "pd.DataFrame(confusion_matrix(y_test,y_pred))"
   ]
  },
  {
   "cell_type": "markdown",
   "id": "3d249caf",
   "metadata": {
    "papermill": {
     "duration": 0.030921,
     "end_time": "2022-05-20T10:26:36.757681",
     "exception": false,
     "start_time": "2022-05-20T10:26:36.726760",
     "status": "completed"
    },
    "pycharm": {
     "name": "#%% md\n"
    },
    "tags": []
   },
   "source": []
  },
  {
   "cell_type": "markdown",
   "id": "42ef9cc4",
   "metadata": {
    "papermill": {
     "duration": 0.030516,
     "end_time": "2022-05-20T10:26:36.818724",
     "exception": false,
     "start_time": "2022-05-20T10:26:36.788208",
     "status": "completed"
    },
    "pycharm": {
     "name": "#%% md\n"
    },
    "tags": []
   },
   "source": [
    "## Feature Importance"
   ]
  },
  {
   "cell_type": "code",
   "execution_count": 48,
   "id": "f3405caa",
   "metadata": {
    "execution": {
     "iopub.execute_input": "2022-05-20T10:26:36.881807Z",
     "iopub.status.busy": "2022-05-20T10:26:36.881035Z",
     "iopub.status.idle": "2022-05-20T10:26:41.066328Z",
     "shell.execute_reply": "2022-05-20T10:26:41.065055Z"
    },
    "papermill": {
     "duration": 4.221745,
     "end_time": "2022-05-20T10:26:41.070924",
     "exception": false,
     "start_time": "2022-05-20T10:26:36.849179",
     "status": "completed"
    },
    "pycharm": {
     "name": "#%%\n"
    },
    "tags": []
   },
   "outputs": [
    {
     "name": "stdout",
     "output_type": "stream",
     "text": [
      "ca      0.105 +/- 0.034\n",
      "thal    0.098 +/- 0.040\n",
      "slope   0.069 +/- 0.019\n",
      "cp      0.043 +/- 0.013\n",
      "exang   0.039 +/- 0.013\n",
      "[0.         0.         0.04262295 0.         0.         0.\n",
      " 0.         0.         0.03934426 0.         0.06885246 0.10491803\n",
      " 0.09836066]\n"
     ]
    }
   ],
   "source": [
    "\n",
    "\n",
    "imps = permutation_importance(Final, x_test, y_test)\n",
    "for i in imps.importances_mean.argsort()[::-1]:\n",
    "     if imps.importances_mean[i] - 2 * imps.importances_std[i] > 0:\n",
    "         print(f\"{x_train.columns[i]:<8}\"\n",
    "               f\"{imps.importances_mean[i]:.3f}\"\n",
    "               f\" +/- {imps.importances_std[i]:.3f}\")\n",
    "print(imps.importances_mean)"
   ]
  },
  {
   "cell_type": "markdown",
   "id": "11b371f7",
   "metadata": {
    "papermill": {
     "duration": 0.035489,
     "end_time": "2022-05-20T10:26:41.143784",
     "exception": false,
     "start_time": "2022-05-20T10:26:41.108295",
     "status": "completed"
    },
    "pycharm": {
     "name": "#%% md\n"
    },
    "tags": []
   },
   "source": [
    "## Classification Report"
   ]
  },
  {
   "cell_type": "code",
   "execution_count": 49,
   "id": "a1b0a4cd",
   "metadata": {
    "execution": {
     "iopub.execute_input": "2022-05-20T10:26:41.212496Z",
     "iopub.status.busy": "2022-05-20T10:26:41.211925Z",
     "iopub.status.idle": "2022-05-20T10:26:41.220803Z",
     "shell.execute_reply": "2022-05-20T10:26:41.219970Z"
    },
    "papermill": {
     "duration": 0.043066,
     "end_time": "2022-05-20T10:26:41.222574",
     "exception": false,
     "start_time": "2022-05-20T10:26:41.179508",
     "status": "completed"
    },
    "pycharm": {
     "name": "#%%\n"
    },
    "tags": []
   },
   "outputs": [
    {
     "name": "stdout",
     "output_type": "stream",
     "text": [
      "              precision    recall  f1-score   support\n",
      "\n",
      "           0       0.96      0.79      0.87        33\n",
      "           1       0.79      0.96      0.87        28\n",
      "\n",
      "    accuracy                           0.87        61\n",
      "   macro avg       0.88      0.88      0.87        61\n",
      "weighted avg       0.89      0.87      0.87        61\n",
      "\n"
     ]
    }
   ],
   "source": [
    "print(classification_report(y_test,y_pred))\n"
   ]
  },
  {
   "cell_type": "code",
   "execution_count": 50,
   "id": "d80991a9",
   "metadata": {
    "execution": {
     "iopub.execute_input": "2022-05-20T10:26:41.286059Z",
     "iopub.status.busy": "2022-05-20T10:26:41.285418Z",
     "iopub.status.idle": "2022-05-20T10:26:41.509342Z",
     "shell.execute_reply": "2022-05-20T10:26:41.506616Z"
    },
    "papermill": {
     "duration": 0.257889,
     "end_time": "2022-05-20T10:26:41.511260",
     "exception": false,
     "start_time": "2022-05-20T10:26:41.253371",
     "status": "completed"
    },
    "pycharm": {
     "name": "#%%\n"
    },
    "tags": []
   },
   "outputs": [
    {
     "name": "stderr",
     "output_type": "stream",
     "text": [
      "/opt/hostedtoolcache/Python/3.8.12/x64/lib/python3.8/site-packages/sklearn/utils/deprecation.py:87: FutureWarning: Function plot_roc_curve is deprecated; Function :func:`plot_roc_curve` is deprecated in 1.0 and will be removed in 1.2. Use one of the class methods: :meth:`sklearn.metric.RocCurveDisplay.from_predictions` or :meth:`sklearn.metric.RocCurveDisplay.from_estimator`.\n",
      "  warnings.warn(msg, category=FutureWarning)\n"
     ]
    },
    {
     "data": {
      "text/plain": [
       "<sklearn.metrics._plot.roc_curve.RocCurveDisplay at 0x7fae3d6155b0>"
      ]
     },
     "execution_count": 50,
     "metadata": {},
     "output_type": "execute_result"
    },
    {
     "data": {
      "image/png": "[encoded data removed]",
      "text/plain": [
       "<Figure size 432x288 with 1 Axes>"
      ]
     },
     "metadata": {
      "needs_background": "light"
     },
     "output_type": "display_data"
    }
   ],
   "source": [
    "plot_roc_curve(Final,x_test,y_test)"
   ]
  },
  {
   "cell_type": "markdown",
   "id": "ea7dfe5a",
   "metadata": {
    "papermill": {
     "duration": 0.031115,
     "end_time": "2022-05-20T10:26:41.574066",
     "exception": false,
     "start_time": "2022-05-20T10:26:41.542951",
     "status": "completed"
    },
    "pycharm": {
     "name": "#%% md\n"
    },
    "tags": []
   },
   "source": [
    "## Confusion Matrix"
   ]
  },
  {
   "cell_type": "code",
   "execution_count": 51,
   "id": "2ff1ec17",
   "metadata": {
    "execution": {
     "iopub.execute_input": "2022-05-20T10:26:41.638614Z",
     "iopub.status.busy": "2022-05-20T10:26:41.637660Z",
     "iopub.status.idle": "2022-05-20T10:26:41.643972Z",
     "shell.execute_reply": "2022-05-20T10:26:41.643318Z"
    },
    "papermill": {
     "duration": 0.040399,
     "end_time": "2022-05-20T10:26:41.645626",
     "exception": false,
     "start_time": "2022-05-20T10:26:41.605227",
     "status": "completed"
    },
    "pycharm": {
     "name": "#%%\n"
    },
    "tags": []
   },
   "outputs": [],
   "source": [
    "cm=pd.DataFrame(confusion_matrix(y_test,y_pred)).reindex([1,0])[[1,0]]"
   ]
  },
  {
   "cell_type": "code",
   "execution_count": 52,
   "id": "b6542016",
   "metadata": {
    "execution": {
     "iopub.execute_input": "2022-05-20T10:26:41.710532Z",
     "iopub.status.busy": "2022-05-20T10:26:41.709821Z",
     "iopub.status.idle": "2022-05-20T10:26:41.843568Z",
     "shell.execute_reply": "2022-05-20T10:26:41.842892Z"
    },
    "papermill": {
     "duration": 0.168276,
     "end_time": "2022-05-20T10:26:41.845468",
     "exception": false,
     "start_time": "2022-05-20T10:26:41.677192",
     "status": "completed"
    },
    "tags": []
   },
   "outputs": [
    {
     "data": {
      "image/png": "[encoded data removed]",
      "text/plain": [
       "<Figure size 432x288 with 2 Axes>"
      ]
     },
     "metadata": {
      "needs_background": "light"
     },
     "output_type": "display_data"
    }
   ],
   "source": [
    "from sklearn.metrics import ConfusionMatrixDisplay\n",
    "cmg=ConfusionMatrixDisplay(cm.to_numpy(),display_labels=[1,0])\n",
    "cmg.plot()\n",
    "plt.show()"
   ]
  },
  {
   "cell_type": "markdown",
   "id": "407b3f0a",
   "metadata": {
    "papermill": {
     "duration": 0.031863,
     "end_time": "2022-05-20T10:26:41.909802",
     "exception": false,
     "start_time": "2022-05-20T10:26:41.877939",
     "status": "completed"
    },
    "pycharm": {
     "name": "#%% md\n"
    },
    "tags": []
   },
   "source": []
  }
 ],
 "metadata": {
  "kernelspec": {
   "display_name": "Python 3 (ipykernel)",
   "language": "python",
   "name": "python3"
  },
  "language_info": {
   "codemirror_mode": {
    "name": "ipython",
    "version": 3
   },
   "file_extension": ".py",
   "mimetype": "text/x-python",
   "name": "python",
   "nbconvert_exporter": "python",
   "pygments_lexer": "ipython3",
   "version": "3.8.12"
  },
  "papermill": {
   "default_parameters": {},
   "duration": 117.241006,
   "end_time": "2022-05-20T10:26:44.564334",
   "environment_variables": {},
   "exception": null,
   "input_path": "Cardiovascular_Prediction_ML.ipynb",
   "output_path": "Cardiovascular_Prediction_ML.ipynb",
   "parameters": {},
   "start_time": "2022-05-20T10:24:47.323328",
   "version": "2.3.4"
  }
 },
 "nbformat": 4,
 "nbformat_minor": 5
}